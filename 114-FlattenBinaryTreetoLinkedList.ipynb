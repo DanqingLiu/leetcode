{
 "cells": [
  {
   "cell_type": "markdown",
   "metadata": {},
   "source": [
    "# 114. Flatten Binary Tree to Linked List\n",
    "\n",
    "Given a binary tree, flatten it to a linked list in-place.\n",
    "\n",
    "For example, given the following tree:\n",
    "\n",
    "    1\n",
    "   / \\\n",
    "  2   5\n",
    " / \\   \\\n",
    "3   4   6\n",
    "The flattened tree should look like:\n",
    "\n",
    "1\n",
    " \\\n",
    "  2\n",
    "   \\\n",
    "    3\n",
    "     \\\n",
    "      4\n",
    "       \\\n",
    "        5\n",
    "         \\\n",
    "          6"
   ]
  },
  {
   "cell_type": "code",
   "execution_count": 1,
   "metadata": {},
   "outputs": [],
   "source": [
    "class TreeNode:\n",
    "    def __init__(self, x):\n",
    "        self.val = x\n",
    "        self.left = None\n",
    "        self.right = None"
   ]
  },
  {
   "cell_type": "code",
   "execution_count": 2,
   "metadata": {},
   "outputs": [],
   "source": [
    "def flatten(root):\n",
    "    curr = root\n",
    "    while curr:\n",
    "        if curr.left:\n",
    "            tmp = curr.right\n",
    "            curr.right = curr.left\n",
    "            tail = curr.right\n",
    "            while tail.right:\n",
    "                tail = tail.right\n",
    "            tail.right = tmp\n",
    "            curr.left = None\n",
    "        curr = curr.right"
   ]
  },
  {
   "cell_type": "code",
   "execution_count": null,
   "metadata": {},
   "outputs": [],
   "source": []
  }
 ],
 "metadata": {
  "kernelspec": {
   "display_name": "Python 3",
   "language": "python",
   "name": "python3"
  },
  "language_info": {
   "codemirror_mode": {
    "name": "ipython",
    "version": 3
   },
   "file_extension": ".py",
   "mimetype": "text/x-python",
   "name": "python",
   "nbconvert_exporter": "python",
   "pygments_lexer": "ipython3",
   "version": "3.6.5"
  }
 },
 "nbformat": 4,
 "nbformat_minor": 2
}
