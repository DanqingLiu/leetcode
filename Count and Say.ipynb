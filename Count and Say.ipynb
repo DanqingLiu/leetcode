{
 "cells": [
  {
   "cell_type": "markdown",
   "metadata": {},
   "source": [
    "## 38. Count and Say\n",
    "\n",
    "The count-and-say sequence is the sequence of integers with the first five terms as following:\n",
    "\n",
    "1.     1\n",
    "2.     11\n",
    "3.     21\n",
    "4.     1211\n",
    "5.     111221\n",
    "1 is read off as \"one 1\" or 11.\n",
    "11 is read off as \"two 1s\" or 21.\n",
    "21 is read off as \"one 2, then one 1\" or 1211.\n",
    "\n",
    "Given an integer n where 1 ≤ n ≤ 30, generate the nth term of the count-and-say sequence.\n",
    "\n",
    "Note: Each term of the sequence of integers will be represented as a string.\n",
    "\n",
    " \n",
    "\n",
    "Example 1:\n",
    "\n",
    "Input: 1\n",
    "Output: \"1\"\n",
    "Example 2:\n",
    "\n",
    "Input: 4\n",
    "Output: \"1211\""
   ]
  },
  {
   "cell_type": "code",
   "execution_count": 1,
   "metadata": {},
   "outputs": [],
   "source": [
    "class Solution:\n",
    "\n",
    "        \n",
    "    def countAndSay(self, n: int) -> str:    \n",
    "        if(n<1):\n",
    "            return \"1\"\n",
    "        \n",
    "        sequence = {}\n",
    "        sequence[1] = \"1\"\n",
    "        sequence[2] = \"11\"\n",
    "        \n",
    "        def read(s):\n",
    "            read_s = \"\"\n",
    "            n = len(s)\n",
    "            i = 0\n",
    "            j = 1\n",
    "            while(i+1<n):\n",
    "                if(s[i+1] == s[i]):\n",
    "                    i += 1\n",
    "                    j += 1\n",
    "                else:\n",
    "                    read_s = read_s + str(j) + s[i]\n",
    "                    i += 1\n",
    "                    j = 1        \n",
    "            read_s = read_s + str(j) + s[i]\n",
    "            return read_s\n",
    "    \n",
    "        for i in range(3, n+1):\n",
    "            sequence[i] = read(sequence[i-1])\n",
    "        return sequence[n]\n",
    "            \n"
   ]
  },
  {
   "cell_type": "code",
   "execution_count": null,
   "metadata": {},
   "outputs": [],
   "source": []
  }
 ],
 "metadata": {
  "kernelspec": {
   "display_name": "Python 3",
   "language": "python",
   "name": "python3"
  },
  "language_info": {
   "codemirror_mode": {
    "name": "ipython",
    "version": 3
   },
   "file_extension": ".py",
   "mimetype": "text/x-python",
   "name": "python",
   "nbconvert_exporter": "python",
   "pygments_lexer": "ipython3",
   "version": "3.6.5"
  }
 },
 "nbformat": 4,
 "nbformat_minor": 2
}
