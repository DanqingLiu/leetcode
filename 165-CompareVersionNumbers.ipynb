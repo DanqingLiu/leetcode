{
 "cells": [
  {
   "cell_type": "markdown",
   "metadata": {},
   "source": [
    "# 165. Compare Version Numbers\n",
    "\n",
    "Compare two version numbers version1 and version2.\n",
    "If version1 > version2 return 1; if version1 < version2 return -1;otherwise return 0.\n",
    "\n",
    "You may assume that the version strings are non-empty and contain only digits and the . character.\n",
    "\n",
    "The . character does not represent a decimal point and is used to separate number sequences.\n",
    "\n",
    "For instance, 2.5 is not \"two and a half\" or \"half way to version three\", it is the fifth second-level revision of the second first-level revision.\n",
    "\n",
    "You may assume the default revision number for each level of a version number to be 0. For example, version number 3.4 has a revision number of 3 and 4 for its first and second level revision number. Its third and fourth level revision number are both 0.\n",
    "\n",
    " \n",
    "\n",
    "Example 1:\n",
    "\n",
    "Input: version1 = \"0.1\", version2 = \"1.1\"\n",
    "Output: -1\n",
    "Example 2:\n",
    "\n",
    "Input: version1 = \"1.0.1\", version2 = \"1\"\n",
    "Output: 1\n",
    "Example 3:\n",
    "\n",
    "Input: version1 = \"7.5.2.4\", version2 = \"7.5.3\"\n",
    "Output: -1\n",
    "Example 4:\n",
    "\n",
    "Input: version1 = \"1.01\", version2 = \"1.001\"\n",
    "Output: 0\n",
    "Explanation: Ignoring leading zeroes, both “01” and “001\" represent the same number “1”\n",
    "Example 5:\n",
    "\n",
    "Input: version1 = \"1.0\", version2 = \"1.0.0\"\n",
    "Output: 0\n",
    "Explanation: The first version number does not have a third level revision number, which means its third level revision number is default to \"0\"\n",
    " \n",
    "\n",
    "Note:\n",
    "\n",
    "Version strings are composed of numeric strings separated by dots . and this numeric strings may have leading zeroes.\n",
    "Version strings do not start or end with dots, and they will not be two consecutive dots."
   ]
  },
  {
   "cell_type": "code",
   "execution_count": 17,
   "metadata": {},
   "outputs": [],
   "source": [
    "def compareVersion(version1, version2):\n",
    "    v1 = version1.split('.')    \n",
    "    v2 = version2.split('.')\n",
    "#     print(v1, v2)\n",
    "    v1 = [int(x) for x in v1]\n",
    "    v2 = [int(y) for y in v2]\n",
    "#     print(v1, v2)\n",
    "    \n",
    "    m = len(v1)\n",
    "    n = len(v2)\n",
    "    maxl = max(m, n)\n",
    "    if m < maxl:    v1 += [0 for i in range(maxl-m)]\n",
    "    if n < maxl:    v2 += [0 for j in range(maxl-n)]\n",
    "#     print(v1, v2)\n",
    "    \n",
    "    for k in range(maxl):\n",
    "        if v1[k] > v2[k]:\n",
    "            return 1\n",
    "        if v1[k] < v2[k]:\n",
    "            return -1\n",
    "    return 0"
   ]
  },
  {
   "cell_type": "code",
   "execution_count": 18,
   "metadata": {},
   "outputs": [
    {
     "name": "stdout",
     "output_type": "stream",
     "text": [
      "['01'] ['1']\n",
      "[1] [1]\n",
      "[1] [1]\n",
      "0\n"
     ]
    }
   ],
   "source": [
    "version1 = \"01\"\n",
    "version2 = \"1\"\n",
    "print(compareVersion(version1, version2))"
   ]
  },
  {
   "cell_type": "code",
   "execution_count": 19,
   "metadata": {},
   "outputs": [
    {
     "name": "stdout",
     "output_type": "stream",
     "text": [
      "['0', '9', '9', '9', '9', '9', '9', '9', '9', '9', '9', '9', '9'] ['1', '0']\n",
      "[0, 9, 9, 9, 9, 9, 9, 9, 9, 9, 9, 9, 9] [1, 0]\n",
      "[0, 9, 9, 9, 9, 9, 9, 9, 9, 9, 9, 9, 9] [1, 0, 0, 0, 0, 0, 0, 0, 0, 0, 0, 0, 0]\n",
      "-1\n"
     ]
    }
   ],
   "source": [
    "version1 = \"0.9.9.9.9.9.9.9.9.9.9.9.9\"\n",
    "version2 = \"1.0\"\n",
    "print(compareVersion(version1, version2))"
   ]
  },
  {
   "cell_type": "code",
   "execution_count": null,
   "metadata": {},
   "outputs": [],
   "source": []
  }
 ],
 "metadata": {
  "kernelspec": {
   "display_name": "Python 3",
   "language": "python",
   "name": "python3"
  },
  "language_info": {
   "codemirror_mode": {
    "name": "ipython",
    "version": 3
   },
   "file_extension": ".py",
   "mimetype": "text/x-python",
   "name": "python",
   "nbconvert_exporter": "python",
   "pygments_lexer": "ipython3",
   "version": "3.6.5"
  }
 },
 "nbformat": 4,
 "nbformat_minor": 2
}
