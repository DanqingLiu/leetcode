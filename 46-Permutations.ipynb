{
 "cells": [
  {
   "cell_type": "markdown",
   "metadata": {},
   "source": [
    "# 46. Permutations\n",
    "\n",
    "Given a collection of distinct integers, return all possible permutations.\n",
    "\n",
    "Example:\n",
    "\n",
    "Input: [1,2,3]\n",
    "Output:\n",
    "[\n",
    "  [1,2,3],\n",
    "  [1,3,2],\n",
    "  [2,1,3],\n",
    "  [2,3,1],\n",
    "  [3,1,2],\n",
    "  [3,2,1]\n",
    "]"
   ]
  },
  {
   "cell_type": "code",
   "execution_count": 23,
   "metadata": {},
   "outputs": [],
   "source": [
    "def permute(nums):\n",
    "    n = len(nums)\n",
    "    if n == 0:\n",
    "        return [[]]\n",
    "    if n == 1:\n",
    "        return [nums]\n",
    "    if n == 2:\n",
    "        return [[nums[0], nums[1]], [nums[1], nums[0]]]\n",
    "    \n",
    "    permu = []\n",
    "    for i in range(n):\n",
    "        subnums = nums[:i]+nums[i+1:]\n",
    "\n",
    "#         print(\"permute \", subnums)\n",
    "        subpermu = permute(subnums) ##recursive\n",
    "        \n",
    "        for item in subpermu:\n",
    "\n",
    "            item.append(nums[i])\n",
    "            \n",
    "            permu.append(item)\n",
    "        \n",
    "    return permu"
   ]
  },
  {
   "cell_type": "code",
   "execution_count": 26,
   "metadata": {},
   "outputs": [
    {
     "name": "stdout",
     "output_type": "stream",
     "text": [
      "[[1, 2], [2, 1]]\n"
     ]
    }
   ],
   "source": [
    "nums = [1,2]\n",
    "print(permute(nums))"
   ]
  },
  {
   "cell_type": "code",
   "execution_count": null,
   "metadata": {},
   "outputs": [],
   "source": []
  }
 ],
 "metadata": {
  "kernelspec": {
   "display_name": "Python 3",
   "language": "python",
   "name": "python3"
  },
  "language_info": {
   "codemirror_mode": {
    "name": "ipython",
    "version": 3
   },
   "file_extension": ".py",
   "mimetype": "text/x-python",
   "name": "python",
   "nbconvert_exporter": "python",
   "pygments_lexer": "ipython3",
   "version": "3.6.5"
  }
 },
 "nbformat": 4,
 "nbformat_minor": 2
}
