{
 "cells": [
  {
   "cell_type": "markdown",
   "metadata": {},
   "source": [
    "# 48. Rotate Image\n",
    "\n",
    "You are given an n x n 2D matrix representing an image.\n",
    "\n",
    "Rotate the image by 90 degrees (clockwise).\n",
    "\n",
    "Note:\n",
    "\n",
    "You have to rotate the image in-place, which means you have to modify the input 2D matrix directly. DO NOT allocate another 2D matrix and do the rotation.\n",
    "\n",
    "Example 1:\n",
    "\n",
    "Given input matrix = \n",
    "[\n",
    "  [1,2,3],\n",
    "  [4,5,6],\n",
    "  [7,8,9]\n",
    "],\n",
    "\n",
    "rotate the input matrix in-place such that it becomes:\n",
    "[\n",
    "  [7,4,1],\n",
    "  [8,5,2],\n",
    "  [9,6,3]\n",
    "]\n",
    "Example 2:\n",
    "\n",
    "Given input matrix =\n",
    "[\n",
    "  [ 5, 1, 9,11],\n",
    "  [ 2, 4, 8,10],\n",
    "  [13, 3, 6, 7],\n",
    "  [15,14,12,16]\n",
    "], \n",
    "\n",
    "rotate the input matrix in-place such that it becomes:\n",
    "[\n",
    "  [15,13, 2, 5],\n",
    "  [14, 3, 4, 1],\n",
    "  [12, 6, 8, 9],\n",
    "  [16, 7,10,11]\n",
    "]"
   ]
  },
  {
   "cell_type": "code",
   "execution_count": 3,
   "metadata": {},
   "outputs": [],
   "source": [
    "def rotate(matrix):\n",
    "    n = len(matrix)\n",
    "    ss = 0 ## ss : subscript\n",
    "\n",
    "    while n>0:\n",
    "        r = 1 ## r : round\n",
    "        while r < n:\n",
    "            tmp = matrix[ss][ss]\n",
    "            ## clockwise rotate by 1 step\n",
    "            \n",
    "            for i in range(n-1):\n",
    "                matrix[ss+i][ss] = matrix[ss+i+1][ss] \n",
    "            for i in range(n-1):\n",
    "                matrix[ss+n-1][ss+i] = matrix[ss+n-1][ss+i+1]               \n",
    "            for i in range(n-2, -1, -1):\n",
    "                matrix[ss+i+1][ss+n-1] = matrix[ss+i][ss+n-1]                \n",
    "            for i in range(n-2, -1, -1):\n",
    "                matrix[ss][ss+i+1] = matrix[ss][ss+i]\n",
    "            ##\n",
    "            matrix[ss][ss+1] = tmp\n",
    "            r = r+1\n",
    "            \n",
    "        ss = ss+1\n",
    "        n = n-2"
   ]
  },
  {
   "cell_type": "code",
   "execution_count": 4,
   "metadata": {},
   "outputs": [
    {
     "name": "stdout",
     "output_type": "stream",
     "text": [
      "[[7, 4, 1], [8, 5, 2], [9, 6, 3]]\n"
     ]
    }
   ],
   "source": [
    "matrix = [ [1,2,3], [4,5,6], [7,8,9] ]\n",
    "rotate(matrix)\n",
    "print(matrix)"
   ]
  },
  {
   "cell_type": "markdown",
   "metadata": {},
   "source": [
    "## A different solution, see \n",
    "https://leetcode.com/problems/rotate-image/discuss/18872/A-common-method-to-rotate-the-image\n",
    "\n",
    "## Another solution which takes full advantage of python\n",
    "https://leetcode.com/problems/rotate-image/discuss/18884/Seven-Short-Solutions-(1-to-7-lines)"
   ]
  },
  {
   "cell_type": "code",
   "execution_count": null,
   "metadata": {},
   "outputs": [],
   "source": []
  }
 ],
 "metadata": {
  "kernelspec": {
   "display_name": "Python 3",
   "language": "python",
   "name": "python3"
  },
  "language_info": {
   "codemirror_mode": {
    "name": "ipython",
    "version": 3
   },
   "file_extension": ".py",
   "mimetype": "text/x-python",
   "name": "python",
   "nbconvert_exporter": "python",
   "pygments_lexer": "ipython3",
   "version": "3.6.5"
  }
 },
 "nbformat": 4,
 "nbformat_minor": 2
}
