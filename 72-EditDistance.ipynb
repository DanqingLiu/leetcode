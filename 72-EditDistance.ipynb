{
 "cells": [
  {
   "cell_type": "markdown",
   "metadata": {},
   "source": [
    "# 72. Edit Distance\n",
    "\n",
    "Given two words word1 and word2, find the minimum number of operations required to convert word1 to word2.\n",
    "\n",
    "You have the following 3 operations permitted on a word:\n",
    "\n",
    "Insert a character\n",
    "Delete a character\n",
    "Replace a character\n",
    "Example 1:\n",
    "\n",
    "Input: word1 = \"horse\", word2 = \"ros\"\n",
    "Output: 3\n",
    "Explanation: \n",
    "horse -> rorse (replace 'h' with 'r')\n",
    "rorse -> rose (remove 'r')\n",
    "rose -> ros (remove 'e')\n",
    "Example 2:\n",
    "\n",
    "Input: word1 = \"intention\", word2 = \"execution\"\n",
    "Output: 5\n",
    "Explanation: \n",
    "intention -> inention (remove 't')\n",
    "inention -> enention (replace 'i' with 'e')\n",
    "enention -> exention (replace 'n' with 'x')\n",
    "exention -> exection (replace 'n' with 'c')\n",
    "exection -> execution (insert 'u')"
   ]
  },
  {
   "cell_type": "code",
   "execution_count": 45,
   "metadata": {},
   "outputs": [],
   "source": [
    "def minDistance(word1, word2):\n",
    "    m = len(word1)\n",
    "    n = len(word2)\n",
    "    \n",
    "    #####dynamic table score[][]\n",
    "    score = [[0 for x in range(n+1)] for y in range(m+1)]\n",
    "\n",
    "    for i in range(1, m+1):\n",
    "        score[i][0] = -2*i\n",
    "        \n",
    "    for j in range(1, n+1):\n",
    "        score[0][j] = -2*j\n",
    "     \n",
    "    for i in range(1, m+1):\n",
    "        for j in range(1, n+1):\n",
    "          \n",
    "            if word1[i-1] == word2[j-1]:\n",
    "                score[i][j] = max([score[i-1][j-1]+1, score[i-1][j]-2, score[i][j-1]-2])\n",
    "            else:                \n",
    "                score[i][j] = max([score[i-1][j-1]-2, score[i-1][j]-2, score[i][j-1]-2])\n",
    "                                               \n",
    "    ####backtracking the operations\n",
    "    minop = 0\n",
    "    i = m\n",
    "    j = n\n",
    "    while i>0 and j>0:\n",
    "\n",
    "        if word1[i-1] == word2[j-1]:\n",
    "            if score[i][j] == score[i-1][j-1]+1:\n",
    "                i = i-1\n",
    "                j = j-1\n",
    "            elif score[i][j] == score[i-1][j]-2:\n",
    "                i = i-1\n",
    "                minop += 1\n",
    "            elif score[i][j] == score[i][j-1]-2:\n",
    "                j = j-1\n",
    "                minop += 1   \n",
    "        else:\n",
    "            \n",
    "            if score[i][j] == score[i-1][j-1]-2:\n",
    "                i = i-1\n",
    "                j = j-1\n",
    "                minop += 1\n",
    "            elif score[i][j] == score[i-1][j]-2:\n",
    "                i = i-1\n",
    "                minop += 1\n",
    "            elif score[i][j] == score[i][j-1]-2:\n",
    "                j = j-1\n",
    "                minop += 1  \n",
    "        \n",
    "    minop = minop - score[i][j]//2 \n",
    "    return minop"
   ]
  },
  {
   "cell_type": "code",
   "execution_count": 46,
   "metadata": {},
   "outputs": [
    {
     "name": "stdout",
     "output_type": "stream",
     "text": [
      "3\n"
     ]
    }
   ],
   "source": [
    "word1 = \"horse\"\n",
    "word2 = \"ros\" \n",
    "word1 = \"intention\"\n",
    "word2 = \"execution\"\n",
    "word1 = \"a\"\n",
    "word2 = \"ab\"\n",
    "\n",
    "word1 = \"teacher\"\n",
    "word2 = \"botcher\"\n",
    "print(minDistance(word1, word2))"
   ]
  },
  {
   "cell_type": "markdown",
   "metadata": {},
   "source": [
    "Optimize the code refer to https://leetcode.com/problems/edit-distance/discuss/25846/C%2B%2B-O(n)-space-DP\n",
    "No need to do backtracking if set score = 0 when match, score = 1 else"
   ]
  },
  {
   "cell_type": "code",
   "execution_count": 49,
   "metadata": {},
   "outputs": [],
   "source": [
    "def minDistance(word1, word2):\n",
    "    m = len(word1)\n",
    "    n = len(word2)\n",
    "    \n",
    "    #####dynamic table score[][]\n",
    "    score = [[0 for x in range(n+1)] for y in range(m+1)]\n",
    "\n",
    "    for i in range(1, m+1):\n",
    "        score[i][0] = i\n",
    "        \n",
    "    for j in range(1, n+1):\n",
    "        score[0][j] = j\n",
    "     \n",
    "    for i in range(1, m+1):\n",
    "        for j in range(1, n+1):\n",
    "          \n",
    "            if word1[i-1] == word2[j-1]:\n",
    "                score[i][j] = min([score[i-1][j-1], score[i-1][j]+1, score[i][j-1]+1])\n",
    "            else:                \n",
    "                score[i][j] = min([score[i-1][j-1]+1, score[i-1][j]+1, score[i][j-1]+1])\n",
    "\n",
    "    return score[m][n]"
   ]
  },
  {
   "cell_type": "code",
   "execution_count": 53,
   "metadata": {},
   "outputs": [
    {
     "name": "stdout",
     "output_type": "stream",
     "text": [
      "3\n"
     ]
    }
   ],
   "source": [
    "word1 = \"horse\"\n",
    "word2 = \"ros\" \n",
    "# word1 = \"intention\"\n",
    "# word2 = \"execution\"\n",
    "# word1 = \"a\"\n",
    "# word2 = \"ab\"\n",
    "\n",
    "# word1 = \"teacher\"\n",
    "# word2 = \"botcher\"\n",
    "print(minDistance(word1, word2))"
   ]
  },
  {
   "cell_type": "code",
   "execution_count": null,
   "metadata": {},
   "outputs": [],
   "source": []
  }
 ],
 "metadata": {
  "kernelspec": {
   "display_name": "Python 3",
   "language": "python",
   "name": "python3"
  },
  "language_info": {
   "codemirror_mode": {
    "name": "ipython",
    "version": 3
   },
   "file_extension": ".py",
   "mimetype": "text/x-python",
   "name": "python",
   "nbconvert_exporter": "python",
   "pygments_lexer": "ipython3",
   "version": "3.6.5"
  }
 },
 "nbformat": 4,
 "nbformat_minor": 2
}
