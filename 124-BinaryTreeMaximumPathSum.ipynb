{
 "cells": [
  {
   "cell_type": "markdown",
   "metadata": {},
   "source": [
    "124. Binary Tree Maximum Path Sum\n",
    "\n",
    "Given a non-empty binary tree, find the maximum path sum.\n",
    "\n",
    "For this problem, a path is defined as any sequence of nodes from some starting node to any node in the tree along the parent-child connections. The path must contain at least one node and does not need to go through the root.\n",
    "\n",
    "Example 1:\n",
    "\n",
    "Input: [1,2,3]\n",
    "\n",
    "       1\n",
    "      / \\\n",
    "     2   3\n",
    "\n",
    "Output: 6\n",
    "Example 2:\n",
    "\n",
    "Input: [-10,9,20,null,null,15,7]\n",
    "\n",
    "   -10\n",
    "   / \\\n",
    "  9  20\n",
    "    /  \\\n",
    "   15   7\n",
    "\n",
    "Output: 42"
   ]
  },
  {
   "cell_type": "code",
   "execution_count": 2,
   "metadata": {},
   "outputs": [],
   "source": [
    "class Node:\n",
    "    def __init__(self, x):\n",
    "        self.val = x\n",
    "        self.left = None\n",
    "        self.right = None"
   ]
  },
  {
   "cell_type": "code",
   "execution_count": 5,
   "metadata": {},
   "outputs": [],
   "source": [
    "## The result is not correct for [1,-2,-3,1,3,-2,null,-1]\n",
    "def maxPathSum(root):\n",
    "    if root is None:\n",
    "        return 0\n",
    "    if root.left == None and root.right == None:\n",
    "        return root.val\n",
    "    max_left = maxPathSum(root.left)\n",
    "    max_right = maxPathSum(root.right)\n",
    "\n",
    "    if root.val >= 0 and max_left > 0 and max_right > 0:\n",
    "        return root.val + max_left + max_right\n",
    "    elif root.val >= 0 and max_left > 0 and max_right <= 0:\n",
    "        return root.val + max_left\n",
    "    elif root.val >= 0 and max_left <= 0 and max_right > 0:\n",
    "        return root.val + max_right\n",
    "    elif root.val >= 0 and max_left <= 0 and max_right <= 0:\n",
    "        return root.val\n",
    "    elif root.val < 0 and root.val + max_left > 0 and root.val + max_right > 0:\n",
    "        return root.val + max_left + max_right\n",
    "    else:\n",
    "        return max(max_left, max_right, root.val)\n",
    "         "
   ]
  },
  {
   "cell_type": "markdown",
   "metadata": {},
   "source": [
    "### Below solution refer to: \n",
    "https://www.geeksforgeeks.org/find-maximum-path-sum-two-leaves-binary-tree/ ~~ The result is also not correct for [1,-2,-3,1,3,-2,null,-1]. (Expected: 3)\n",
    "\n",
    "https://discuss.codechef.com/t/how-to-find-maximum-path-sum-in-a-binary-tree/17610"
   ]
  },
  {
   "cell_type": "code",
   "execution_count": 17,
   "metadata": {},
   "outputs": [],
   "source": [
    "def maxPathSumUtil(root, res):\n",
    "\n",
    "    if root is None: \n",
    "        return 0\n",
    "      \n",
    "    if root.left is None and root.right is None: \n",
    "        return root.val \n",
    "\n",
    "    ls = maxPathSumUtil(root.left, res) \n",
    "    rs = maxPathSumUtil(root.right, res) \n",
    "\n",
    "    if root.left is not None and root.right is not None: \n",
    "        res[0] = max(res[0], ls + rs + root.val) \n",
    "        return max(ls, rs) + root.val \n",
    "\n",
    "    if root.left is None: \n",
    "        return rs + root.val\n",
    "    else: \n",
    "        return ls + root.val \n",
    "\n",
    "def maxPathSum(root): \n",
    "    res = [float('-inf')] \n",
    "    maxPathSumUtil(root, res) \n",
    "    return res[0] "
   ]
  },
  {
   "cell_type": "markdown",
   "metadata": {},
   "source": [
    "## Fix the error of above solution:"
   ]
  },
  {
   "cell_type": "code",
   "execution_count": 31,
   "metadata": {},
   "outputs": [],
   "source": [
    "\n",
    "def maxPathSumUtil(root, res):\n",
    "\n",
    "    if root is None: \n",
    "        return 0\n",
    "      \n",
    "    if root.left is None and root.right is None: \n",
    "        res[0] = max(res[0], root.val)\n",
    "        return root.val \n",
    "\n",
    "    ls = maxPathSumUtil(root.left, res) \n",
    "    rs = maxPathSumUtil(root.right, res) \n",
    "\n",
    "    if root.left is not None and root.right is not None: \n",
    "#         res[0] = max(max(res[0], ls + rs + root.val), root.val) \n",
    "        res[0] = max(max(res[0], max(max(ls, rs), 0) + root.val), ls + rs + root.val)\n",
    "        return max(max(ls, rs), 0) + root.val \n",
    "\n",
    "    if root.left is None: \n",
    "        res[0] = max(res[0], max(rs + root.val, root.val))\n",
    "        return max(rs + root.val, root.val)\n",
    "    else: \n",
    "        res[0] = max(res[0], max(ls + root.val, root.val))\n",
    "        return max(ls + root.val, root.val) \n",
    "\n",
    "def maxPathSum(root): \n",
    "    res = [float('-inf')] \n",
    "    maxPathSumUtil(root, res) \n",
    "    return res[0] \n",
    "  "
   ]
  },
  {
   "cell_type": "code",
   "execution_count": 32,
   "metadata": {},
   "outputs": [
    {
     "name": "stdout",
     "output_type": "stream",
     "text": [
      "3\n"
     ]
    }
   ],
   "source": [
    "root = Node(1) \n",
    "root.left = Node(-2) \n",
    "root.right = Node(-3) \n",
    "root.left.left = Node(1) \n",
    "root.left.right = Node(3) \n",
    "root.left.left.left = Node(-1) \n",
    "# root.left.left.right = Node() \n",
    "root.right.left = Node(-2) \n",
    "# root.right.right = Node(9) \n",
    "# root.right.right.right= Node(0) \n",
    "# root.right.right.right.left = Node(4) \n",
    "# root.right.right.right.right = Node(-1) \n",
    "# root.right.right.right.right.left = Node(10) \n",
    "\n",
    "print(maxPathSum(root))"
   ]
  },
  {
   "cell_type": "code",
   "execution_count": 33,
   "metadata": {},
   "outputs": [
    {
     "name": "stdout",
     "output_type": "stream",
     "text": [
      "4\n"
     ]
    }
   ],
   "source": [
    "root = Node(1) \n",
    "root.left = Node(-2) \n",
    "root.right = Node(3) \n",
    "print(maxPathSum(root))"
   ]
  },
  {
   "cell_type": "code",
   "execution_count": 34,
   "metadata": {},
   "outputs": [
    {
     "name": "stdout",
     "output_type": "stream",
     "text": [
      "6\n"
     ]
    }
   ],
   "source": [
    "root = Node(1) \n",
    "root.left = Node(2) \n",
    "root.right = Node(3) \n",
    "print(maxPathSum(root))"
   ]
  },
  {
   "cell_type": "code",
   "execution_count": 24,
   "metadata": {},
   "outputs": [
    {
     "name": "stdout",
     "output_type": "stream",
     "text": [
      "1:  [3] [2]\n",
      "2:  [2] [3]\n",
      "swap_int:  [3] [2]\n",
      "swap_list:  [2] [3]\n"
     ]
    }
   ],
   "source": [
    "def swap_int(a, b):\n",
    "    print('1: ',a, b)\n",
    "    tmp = a\n",
    "    a = b\n",
    "    b = tmp\n",
    "    print('2: ',a, b)\n",
    "    return True\n",
    "\n",
    "def swap_list(a, b):\n",
    "    tmp = a[0]\n",
    "    a[0] = b[0]\n",
    "    b[0] = tmp\n",
    "    return True\n",
    "\n",
    "a = [3]\n",
    "b = [2]\n",
    "swap_int(a, b)\n",
    "print('swap_int: ', a, b)\n",
    "swap_list(a, b)\n",
    "print('swap_list: ', a, b)"
   ]
  },
  {
   "cell_type": "code",
   "execution_count": null,
   "metadata": {},
   "outputs": [],
   "source": []
  }
 ],
 "metadata": {
  "kernelspec": {
   "display_name": "Python 3",
   "language": "python",
   "name": "python3"
  },
  "language_info": {
   "codemirror_mode": {
    "name": "ipython",
    "version": 3
   },
   "file_extension": ".py",
   "mimetype": "text/x-python",
   "name": "python",
   "nbconvert_exporter": "python",
   "pygments_lexer": "ipython3",
   "version": "3.6.5"
  }
 },
 "nbformat": 4,
 "nbformat_minor": 2
}
