{
 "cells": [
  {
   "cell_type": "markdown",
   "metadata": {},
   "source": [
    "# 140. Word Break II\n",
    "\n",
    "Given a non-empty string s and a dictionary wordDict containing a list of non-empty words, add spaces in s to construct a sentence where each word is a valid dictionary word. Return all such possible sentences.\n",
    "\n",
    "Note:\n",
    "\n",
    "The same word in the dictionary may be reused multiple times in the segmentation.\n",
    "You may assume the dictionary does not contain duplicate words.\n",
    "\n",
    "Example 1:\n",
    "\n",
    "Input:\n",
    "s = \"catsanddog\"\n",
    "wordDict = [\"cat\", \"cats\", \"and\", \"sand\", \"dog\"]\n",
    "Output:\n",
    "[\n",
    "  \"cats and dog\",\n",
    "  \"cat sand dog\"\n",
    "]\n",
    "\n",
    "Example 2:\n",
    "\n",
    "Input:\n",
    "s = \"pineapplepenapple\"\n",
    "wordDict = [\"apple\", \"pen\", \"applepen\", \"pine\", \"pineapple\"]\n",
    "Output:\n",
    "[\n",
    "  \"pine apple pen apple\",\n",
    "  \"pineapple pen apple\",\n",
    "  \"pine applepen apple\"\n",
    "]\n",
    "Explanation: Note that you are allowed to reuse a dictionary word.\n",
    "\n",
    "Example 3:\n",
    "\n",
    "Input:\n",
    "s = \"catsandog\"\n",
    "wordDict = [\"cats\", \"dog\", \"sand\", \"and\", \"cat\"]\n",
    "Output:\n",
    "[]"
   ]
  },
  {
   "cell_type": "markdown",
   "metadata": {},
   "source": [
    "### Solution refer to \n",
    "https://www.geeksforgeeks.org/word-break-problem-dp-32/\n",
    "\n",
    "https://www.geeksforgeeks.org/word-break-problem-using-backtracking/"
   ]
  },
  {
   "cell_type": "code",
   "execution_count": 123,
   "metadata": {},
   "outputs": [],
   "source": [
    "## This code can only find one possible break\n",
    "def wordBreak_rec(s, wordDict, sentence_list):\n",
    "    \n",
    "    if not s:\n",
    "        return True\n",
    "\n",
    "    for i in range(len(s)):        \n",
    "        if s[:i+1] in wordDict and wordBreak_rec(s[i+1:], wordDict, sentence_list):            \n",
    "            sentence_list[0].append(s[:i+1])\n",
    "            return True\n",
    "    return False\n",
    "\n",
    "def wordBreak(s, wordDict):\n",
    "    sentence_list = [[]]\n",
    "    wordBreak_rec(s, wordDict, sentence_list)\n",
    "    sentence = sentence_list[0]\n",
    "    sentence.reverse()\n",
    "    string = \" \".join(sentence)\n",
    "    return string"
   ]
  },
  {
   "cell_type": "code",
   "execution_count": 124,
   "metadata": {},
   "outputs": [
    {
     "data": {
      "text/plain": [
       "'cat sand dog'"
      ]
     },
     "execution_count": 124,
     "metadata": {},
     "output_type": "execute_result"
    }
   ],
   "source": [
    "s = \"catsanddog\"\n",
    "wordDict = [\"cat\", \"cats\", \"and\", \"sand\", \"dog\"]\n",
    "wordBreak(s, wordDict)"
   ]
  },
  {
   "cell_type": "code",
   "execution_count": 125,
   "metadata": {},
   "outputs": [],
   "source": [
    "## This code can only print out the result, but cannot return to the main function\n",
    "def wordBreak_rec(s, n, wordDict, result):\n",
    "\n",
    "    for i in range(n):\n",
    "        prefix = \"\"\n",
    "        if s[:i+1] in wordDict:            \n",
    "            prefix = s[:i+1]  \n",
    "            if i == n-1:                \n",
    "                result = result + prefix\n",
    "                print(result)\n",
    "                return\n",
    "            wordBreak_rec(s[i+1:], len(s[i+1:]), wordDict, result + prefix + \" \")\n",
    "    return\n",
    "\n",
    "def wordBreak(s, wordDict):\n",
    "    result = \"\"\n",
    "    wordBreak_rec(s, len(s), wordDict, result)\n",
    "    return\n",
    "\n"
   ]
  },
  {
   "cell_type": "code",
   "execution_count": 126,
   "metadata": {},
   "outputs": [
    {
     "name": "stdout",
     "output_type": "stream",
     "text": [
      "cat sand dog\n",
      "cats and dog\n"
     ]
    }
   ],
   "source": [
    "s = \"catsanddog\"\n",
    "wordDict = [\"cat\", \"cats\", \"and\", \"sand\", \"dog\"]\n",
    "wordBreak(s, wordDict)"
   ]
  },
  {
   "cell_type": "markdown",
   "metadata": {},
   "source": [
    "## Return result to function wordBreak ???"
   ]
  },
  {
   "cell_type": "code",
   "execution_count": 151,
   "metadata": {},
   "outputs": [],
   "source": [
    "### Why cannot return result_list to the main function????\n",
    "def wordBreak_rec(s, n, wordDict, result):\n",
    "    result_list = []\n",
    "    for i in range(n):\n",
    "        prefix = \"\"\n",
    "        if s[:i+1] in wordDict:            \n",
    "            prefix = s[:i+1]  \n",
    "            if i == n-1:                \n",
    "                result = result + prefix\n",
    "                result_list.append(result)\n",
    "                print(result_list)\n",
    "                return result_list\n",
    "            wordBreak_rec(s[i+1:], len(s[i+1:]), wordDict, result + prefix + \" \")\n",
    "\n",
    "    return result_list\n",
    "\n",
    "def wordBreak(s, wordDict):\n",
    "    result = \"\"\n",
    "    result_list = wordBreak_rec(s, len(s), wordDict, result)\n",
    "    return result_list"
   ]
  },
  {
   "cell_type": "code",
   "execution_count": 150,
   "metadata": {},
   "outputs": [
    {
     "name": "stdout",
     "output_type": "stream",
     "text": [
      "['cat sand dog']\n",
      "['cats and dog']\n",
      "[]\n"
     ]
    }
   ],
   "source": [
    "s = \"catsanddog\"\n",
    "wordDict = [\"cat\", \"cats\", \"and\", \"sand\", \"dog\"]\n",
    "print(wordBreak(s, wordDict))"
   ]
  },
  {
   "cell_type": "code",
   "execution_count": 174,
   "metadata": {},
   "outputs": [],
   "source": [
    "### use another parameter result_list to store the result\n",
    "def wordBreak_rec(s, n, wordDict, result, result_list, count):\n",
    "\n",
    "    for i in range(n):\n",
    "        prefix = \"\"\n",
    "        if s[:i+1] in wordDict:            \n",
    "            prefix = s[:i+1]  \n",
    "            if i == n-1:                \n",
    "                result = result + prefix\n",
    "                result_list[count[0]] = result\n",
    "                count[0] += 1\n",
    "                return \n",
    "            \n",
    "            wordBreak_rec(s[i+1:], len(s[i+1:]), wordDict, result + prefix + \" \", result_list, count)\n",
    "\n",
    "    return \n",
    "\n",
    "def wordBreak(s, wordDict):\n",
    "    result = \"\"\n",
    "    count = [0]\n",
    "    result_list = [\"\"] * len(s)**2 ## This part need to reconsidered\n",
    "    wordBreak_rec(s, len(s), wordDict, result, result_list, count)\n",
    "    sentence = []\n",
    "    for i in result_list:\n",
    "        if not i: continue\n",
    "        sentence.append(i)\n",
    "    return sentence"
   ]
  },
  {
   "cell_type": "code",
   "execution_count": 175,
   "metadata": {},
   "outputs": [
    {
     "name": "stdout",
     "output_type": "stream",
     "text": [
      "['cat sand dog', 'cats and dog']\n"
     ]
    }
   ],
   "source": [
    "s = \"catsanddog\"\n",
    "wordDict = [\"cat\", \"cats\", \"and\", \"sand\", \"dog\"]\n",
    "print(wordBreak(s, wordDict))"
   ]
  },
  {
   "cell_type": "code",
   "execution_count": null,
   "metadata": {},
   "outputs": [],
   "source": [
    "s = \"aaaaaaaaaaaaaaaaaaaaaaaaaaaaaaaaaaaaaaaaaaaaaaaaaaaaaaaaaaaaaaaaaaaaaaaaaaabaaaaaaaaaaaaaaaaaaaaaaaaaaaaaaaaaaaaaaaaaaaaaaaaaaaaaaaaaaaaaaaaaaaaaaaaaaa\"\n",
    "wordDict = [\"a\",\"aa\",\"aaa\",\"aaaa\",\"aaaaa\",\"aaaaaa\",\"aaaaaaa\",\"aaaaaaaa\",\"aaaaaaaaa\",\"aaaaaaaaaa\"]\n",
    "print(wordBreak(s, wordDict))"
   ]
  },
  {
   "cell_type": "code",
   "execution_count": null,
   "metadata": {},
   "outputs": [],
   "source": []
  }
 ],
 "metadata": {
  "kernelspec": {
   "display_name": "Python 3",
   "language": "python",
   "name": "python3"
  },
  "language_info": {
   "codemirror_mode": {
    "name": "ipython",
    "version": 3
   },
   "file_extension": ".py",
   "mimetype": "text/x-python",
   "name": "python",
   "nbconvert_exporter": "python",
   "pygments_lexer": "ipython3",
   "version": "3.6.5"
  }
 },
 "nbformat": 4,
 "nbformat_minor": 2
}
