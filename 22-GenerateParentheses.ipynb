{
 "cells": [
  {
   "cell_type": "markdown",
   "metadata": {},
   "source": [
    "# 22. Generate Parentheses\n",
    "\n",
    "Given n pairs of parentheses, write a function to generate all combinations of well-formed parentheses.\n",
    "\n",
    "For example, given n = 3, a solution set is:\n",
    "\n",
    "[\n",
    "  \"((()))\",\n",
    "  \"(()())\",\n",
    "  \"(())()\",\n",
    "  \"()(())\",\n",
    "  \"()()()\"\n",
    "]"
   ]
  },
  {
   "cell_type": "code",
   "execution_count": 8,
   "metadata": {},
   "outputs": [],
   "source": [
    "def generateParenthesis(n):\n",
    "    if n==0:\n",
    "        return [\"\"]\n",
    "    elif n==1:\n",
    "        return [\"()\"]    \n",
    "    \n",
    "    subc = generateParenthesis(n-1)\n",
    "    comb = []\n",
    "    for c in subc:\n",
    "        for i in range(len(c)):\n",
    "            if c[i]==\"(\":\n",
    "                string = c[:i+1] + \"()\" + c[i+1:]\n",
    "                if string not in comb:\n",
    "                    comb.append(string)\n",
    "        string = c + \"()\"\n",
    "        if string not in comb:\n",
    "            comb.append(string)\n",
    "    return comb"
   ]
  },
  {
   "cell_type": "code",
   "execution_count": 11,
   "metadata": {},
   "outputs": [
    {
     "name": "stdout",
     "output_type": "stream",
     "text": [
      "['(()()())', '((())())', '(()(()))', '(()())()', '((()()))', '(((())))', '((()))()', '(())(())', '(())()()', '()(()())', '()((()))', '()(())()', '()()(())', '()()()()']\n"
     ]
    }
   ],
   "source": [
    "print(generateParenthesis(4))"
   ]
  },
  {
   "cell_type": "markdown",
   "metadata": {},
   "source": [
    "## Solution from \n",
    "https://leetcode.com/problems/generate-parentheses/solution/\n",
    "\n",
    "https://leetcode.com/problems/generate-parentheses/discuss/10110/Simple-Python-DFS-solution-with-explanation"
   ]
  },
  {
   "cell_type": "code",
   "execution_count": 29,
   "metadata": {},
   "outputs": [],
   "source": [
    "# Approach 2: Backtracking\n",
    "def generateParenthesis(N):\n",
    "    ans = []\n",
    "    def backtrack(S = '', left = 0, right = 0):\n",
    "        if len(S) == 2 * N:\n",
    "            ans.append(S)\n",
    "            return\n",
    "        if left < N:\n",
    "            print(\"----------Call backtrack( \" + S + '(' + \", \" + str(left+1) + \", \" + str(right) + \" )\")\n",
    "            backtrack(S+'(', left+1, right)\n",
    "            print(\"--------------After Call backtrack( \" + S + '(' + \", \" + str(left+1) + \", \" + str(right) + \" )\")\n",
    "        if right < left:\n",
    "            print(\"**********Call backtrack( \" + S + ')' + \", \" + str(left) + \", \" + str(right+1) + \" )\")\n",
    "            backtrack(S+')', left, right+1)\n",
    "            print(\"**************After Call backtrack( \" + S + ')' + \", \" + str(left) + \", \" + str(right+1) + \" )\")\n",
    "        else:\n",
    "            print(\"Other cases~~~~~~~~~~~~~~~~~~~~~~~~\")\n",
    "\n",
    "    backtrack()\n",
    "    return ans"
   ]
  },
  {
   "cell_type": "code",
   "execution_count": 30,
   "metadata": {},
   "outputs": [
    {
     "name": "stdout",
     "output_type": "stream",
     "text": [
      "----------Call backtrack( (, 1, 0 )\n",
      "----------Call backtrack( ((, 2, 0 )\n",
      "**********Call backtrack( ((), 2, 1 )\n",
      "**********Call backtrack( (()), 2, 2 )\n",
      "**************After Call backtrack( (()), 2, 2 )\n",
      "**************After Call backtrack( ((), 2, 1 )\n",
      "--------------After Call backtrack( ((, 2, 0 )\n",
      "**********Call backtrack( (), 1, 1 )\n",
      "----------Call backtrack( ()(, 2, 1 )\n",
      "**********Call backtrack( ()(), 2, 2 )\n",
      "**************After Call backtrack( ()(), 2, 2 )\n",
      "--------------After Call backtrack( ()(, 2, 1 )\n",
      "Other cases~~~~~~~~~~~~~~~~~~~~~~~~\n",
      "**************After Call backtrack( (), 1, 1 )\n",
      "--------------After Call backtrack( (, 1, 0 )\n",
      "Other cases~~~~~~~~~~~~~~~~~~~~~~~~\n",
      "['(())', '()()']\n"
     ]
    }
   ],
   "source": [
    "print(generateParenthesis(2))"
   ]
  },
  {
   "cell_type": "code",
   "execution_count": 31,
   "metadata": {},
   "outputs": [],
   "source": [
    "# Approach 3: Closure Number\n",
    "def generateParenthesis(N):\n",
    "    if N == 0: return ['']\n",
    "    ans = []\n",
    "    for c in range(N):\n",
    "        for left in generateParenthesis(c):\n",
    "            for right in generateParenthesis(N-1-c):\n",
    "                ans.append('({}){}'.format(left, right))\n",
    "    return ans"
   ]
  },
  {
   "cell_type": "code",
   "execution_count": 32,
   "metadata": {},
   "outputs": [
    {
     "name": "stdout",
     "output_type": "stream",
     "text": [
      "['()()', '(())']\n"
     ]
    }
   ],
   "source": [
    "print(generateParenthesis(2))"
   ]
  },
  {
   "cell_type": "code",
   "execution_count": null,
   "metadata": {},
   "outputs": [],
   "source": []
  }
 ],
 "metadata": {
  "kernelspec": {
   "display_name": "Python 3",
   "language": "python",
   "name": "python3"
  },
  "language_info": {
   "codemirror_mode": {
    "name": "ipython",
    "version": 3
   },
   "file_extension": ".py",
   "mimetype": "text/x-python",
   "name": "python",
   "nbconvert_exporter": "python",
   "pygments_lexer": "ipython3",
   "version": "3.6.5"
  }
 },
 "nbformat": 4,
 "nbformat_minor": 2
}
