{
 "cells": [
  {
   "cell_type": "markdown",
   "metadata": {},
   "source": [
    "# 34. Find First and Last Position of Element in Sorted Array\n",
    "\n",
    "Given an array of integers nums sorted in ascending order, find the starting and ending position of a given target value.\n",
    "\n",
    "Your algorithm's runtime complexity must be in the order of O(log n).\n",
    "\n",
    "If the target is not found in the array, return [-1, -1].\n",
    "\n",
    "Example 1:\n",
    "\n",
    "Input: nums = [5,7,7,8,8,10], target = 8\n",
    "Output: [3,4]\n",
    "Example 2:\n",
    "\n",
    "Input: nums = [5,7,7,8,8,10], target = 6\n",
    "Output: [-1,-1]"
   ]
  },
  {
   "cell_type": "code",
   "execution_count": 50,
   "metadata": {},
   "outputs": [],
   "source": [
    "def searchRange(nums, target):\n",
    "    \n",
    "    if not nums:\n",
    "        return [-1, -1]\n",
    "        \n",
    "    n = len(nums)\n",
    "    lo = 0\n",
    "    hi = n-1\n",
    "    start = -1\n",
    "    end = -1\n",
    "    mid = (lo+hi)//2\n",
    "    while lo < hi:\n",
    "#         print(\"1111111111\")  \n",
    "        \n",
    "        if nums[mid] < target:\n",
    "            lo = mid+1\n",
    "        elif nums[mid] > target:\n",
    "            hi = mid-1           \n",
    "        mid = (lo+hi)//2\n",
    "        if nums[mid] == target:\n",
    "            break\n",
    "            \n",
    "    if nums[mid] == target:\n",
    "        start = mid\n",
    "        end = mid        \n",
    "      \n",
    "    \n",
    "    lo = 0\n",
    "    while lo < start:\n",
    "#         print(\"2222222222\")\n",
    "        mid = (lo+start)//2\n",
    "        if nums[mid] < nums[start]:\n",
    "            lo = mid+1\n",
    "        else:\n",
    "            start = mid\n",
    "    \n",
    "    hi = n-1        \n",
    "    while end > -1 and end < hi:\n",
    "#         print(\"333333333\")\n",
    "        mid = (end+hi)//2 if (end+hi)%2==0 else (end+hi)//2 + 1\n",
    "        if nums[mid] > nums[end]:\n",
    "            hi = mid-1\n",
    "        else:\n",
    "            end = mid\n",
    "            \n",
    "    return [start, end]"
   ]
  },
  {
   "cell_type": "code",
   "execution_count": 57,
   "metadata": {},
   "outputs": [
    {
     "name": "stdout",
     "output_type": "stream",
     "text": [
      "5 5\n",
      "[5, 5]\n"
     ]
    }
   ],
   "source": [
    "nums = [5,7,7,8,8,10]\n",
    "# nums = [1,3]\n",
    "target = 10\n",
    "print(searchRange(nums, target))"
   ]
  },
  {
   "cell_type": "code",
   "execution_count": null,
   "metadata": {},
   "outputs": [],
   "source": []
  }
 ],
 "metadata": {
  "kernelspec": {
   "display_name": "Python 3",
   "language": "python",
   "name": "python3"
  },
  "language_info": {
   "codemirror_mode": {
    "name": "ipython",
    "version": 3
   },
   "file_extension": ".py",
   "mimetype": "text/x-python",
   "name": "python",
   "nbconvert_exporter": "python",
   "pygments_lexer": "ipython3",
   "version": "3.6.5"
  }
 },
 "nbformat": 4,
 "nbformat_minor": 2
}
