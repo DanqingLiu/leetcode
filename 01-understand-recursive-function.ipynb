{
 "cells": [
  {
   "cell_type": "markdown",
   "metadata": {},
   "source": [
    "# https://stackabuse.com/understanding-recursive-functions-with-python/"
   ]
  },
  {
   "cell_type": "code",
   "execution_count": 35,
   "metadata": {},
   "outputs": [],
   "source": [
    "def fibonacci(n): \n",
    "    print('call fibonacci('+str(n)+')')\n",
    "    if n == 0:\n",
    "        return 0\n",
    "    if n == 1:\n",
    "        return 1\n",
    "    return fibonacci(n - 1) + fibonacci(n - 2)"
   ]
  },
  {
   "cell_type": "code",
   "execution_count": 36,
   "metadata": {},
   "outputs": [
    {
     "name": "stdout",
     "output_type": "stream",
     "text": [
      "call fibonacci(6)\n",
      "call fibonacci(5)\n",
      "call fibonacci(4)\n",
      "call fibonacci(3)\n",
      "call fibonacci(2)\n",
      "call fibonacci(1)\n",
      "call fibonacci(0)\n",
      "call fibonacci(1)\n",
      "call fibonacci(2)\n",
      "call fibonacci(1)\n",
      "call fibonacci(0)\n",
      "call fibonacci(3)\n",
      "call fibonacci(2)\n",
      "call fibonacci(1)\n",
      "call fibonacci(0)\n",
      "call fibonacci(1)\n",
      "call fibonacci(4)\n",
      "call fibonacci(3)\n",
      "call fibonacci(2)\n",
      "call fibonacci(1)\n",
      "call fibonacci(0)\n",
      "call fibonacci(1)\n",
      "call fibonacci(2)\n",
      "call fibonacci(1)\n",
      "call fibonacci(0)\n"
     ]
    },
    {
     "data": {
      "text/plain": [
       "8"
      ]
     },
     "execution_count": 36,
     "metadata": {},
     "output_type": "execute_result"
    }
   ],
   "source": [
    "fibonacci(6)"
   ]
  },
  {
   "cell_type": "code",
   "execution_count": 37,
   "metadata": {},
   "outputs": [],
   "source": [
    "## iterative\n",
    "def fibonacci(n): \n",
    "    fib_list = []\n",
    "    fib_list.append(0)\n",
    "    fib_list.append(1)\n",
    "    for i in range(2,n+1):\n",
    "        fib_list.append(fib_list[i-1] + fib_list[i-2])\n",
    "    print(fib_list)\n",
    "    return fib_list[n]"
   ]
  },
  {
   "cell_type": "code",
   "execution_count": 38,
   "metadata": {},
   "outputs": [
    {
     "name": "stdout",
     "output_type": "stream",
     "text": [
      "[0, 1, 1, 2, 3, 5, 8]\n"
     ]
    },
    {
     "data": {
      "text/plain": [
       "8"
      ]
     },
     "execution_count": 38,
     "metadata": {},
     "output_type": "execute_result"
    }
   ],
   "source": [
    "fibonacci(6)"
   ]
  },
  {
   "cell_type": "code",
   "execution_count": 39,
   "metadata": {},
   "outputs": [],
   "source": [
    "## iterative2\n",
    "def fibonacci(n): \n",
    "    a = 0\n",
    "    b = 1\n",
    "    for i in range(2,n+1):\n",
    "        c = a+b\n",
    "        a = b\n",
    "        b = c\n",
    "        print(c)\n",
    "    return c"
   ]
  },
  {
   "cell_type": "code",
   "execution_count": 40,
   "metadata": {},
   "outputs": [
    {
     "name": "stdout",
     "output_type": "stream",
     "text": [
      "1\n",
      "2\n",
      "3\n",
      "5\n",
      "8\n"
     ]
    },
    {
     "data": {
      "text/plain": [
       "8"
      ]
     },
     "execution_count": 40,
     "metadata": {},
     "output_type": "execute_result"
    }
   ],
   "source": [
    "fibonacci(6)"
   ]
  },
  {
   "cell_type": "code",
   "execution_count": null,
   "metadata": {},
   "outputs": [],
   "source": []
  }
 ],
 "metadata": {
  "kernelspec": {
   "display_name": "Python 3",
   "language": "python",
   "name": "python3"
  },
  "language_info": {
   "codemirror_mode": {
    "name": "ipython",
    "version": 3
   },
   "file_extension": ".py",
   "mimetype": "text/x-python",
   "name": "python",
   "nbconvert_exporter": "python",
   "pygments_lexer": "ipython3",
   "version": "3.6.5"
  }
 },
 "nbformat": 4,
 "nbformat_minor": 2
}
