{
 "cells": [
  {
   "cell_type": "markdown",
   "metadata": {},
   "source": [
    "## Longest Common Prefix\n",
    "Write a function to find the longest common prefix string amongst an array of strings.\n",
    "\n",
    "If there is no common prefix, return an empty string \"\".\n",
    "\n",
    "Example 1:\n",
    "\n",
    "Input: [\"flower\",\"flow\",\"flight\"]\n",
    "Output: \"fl\"\n",
    "Example 2:\n",
    "\n",
    "Input: [\"dog\",\"racecar\",\"car\"]\n",
    "Output: \"\"\n",
    "Explanation: There is no common prefix among the input strings.\n",
    "Note:\n",
    "\n",
    "All given inputs are in lowercase letters a-z."
   ]
  },
  {
   "cell_type": "code",
   "execution_count": 2,
   "metadata": {},
   "outputs": [],
   "source": [
    "class Solution:\n",
    "    def longestCommonPrefix(self, strs):\n",
    "        \"\"\"\n",
    "        :type strs: List[str]\n",
    "        :rtype: str\n",
    "        \"\"\"\n",
    "        lcp = \"\"\n",
    "        if not strs:\n",
    "            return \"\"\n",
    "        \n",
    "        i = 0\n",
    "        shortest_str_len = len(strs[0])\n",
    "        for string in strs:\n",
    "            if shortest_str_len > len(string):\n",
    "                shortest_str_len = len(string)\n",
    "        stop = 0  \n",
    "        while i < shortest_str_len:\n",
    "            temp = strs[0][i]\n",
    "            for string in strs:\n",
    "                if string[i] != temp:\n",
    "                    stop = 1 \n",
    "            if stop == 0:\n",
    "                lcp += temp\n",
    "            i += 1\n",
    "        return lcp"
   ]
  },
  {
   "cell_type": "markdown",
   "metadata": {},
   "source": [
    "- My above original solution is the similar with approach 2 in https://leetcode.com/problems/longest-common-prefix/solution/, which I have a check of the shortest string.\n",
    "\n",
    "## Approach 2: Vertical scanning\n",
    "Algorithm\n",
    "\n",
    "Imagine a very short string is at the end of the array. The above approach will still do SS comparisons. One way to optimize this case is to do vertical scanning. We compare characters from top to bottom on the same column (same character index of the strings) before moving on to the next column.\n",
    "\n",
    "- Since other approaches have no better performance, so I will not implement them here."
   ]
  }
 ],
 "metadata": {
  "kernelspec": {
   "display_name": "Python 3",
   "language": "python",
   "name": "python3"
  },
  "language_info": {
   "codemirror_mode": {
    "name": "ipython",
    "version": 3
   },
   "file_extension": ".py",
   "mimetype": "text/x-python",
   "name": "python",
   "nbconvert_exporter": "python",
   "pygments_lexer": "ipython3",
   "version": "3.6.5"
  }
 },
 "nbformat": 4,
 "nbformat_minor": 2
}
