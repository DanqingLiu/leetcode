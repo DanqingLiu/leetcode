{
 "cells": [
  {
   "cell_type": "markdown",
   "metadata": {},
   "source": [
    "# 142. Linked List Cycle II\n",
    "\n",
    "Given a linked list, return the node where the cycle begins. If there is no cycle, return null.\n",
    "\n",
    "To represent a cycle in the given linked list, we use an integer pos which represents the position (0-indexed) in the linked list where tail connects to. If pos is -1, then there is no cycle in the linked list.\n",
    "\n",
    "Note: Do not modify the linked list.\n",
    "\n",
    " \n",
    "\n",
    "Example 1:\n",
    "\n",
    "Input: head = [3,2,0,-4], pos = 1\n",
    "Output: tail connects to node index 1\n",
    "Explanation: There is a cycle in the linked list, where tail connects to the second node.\n",
    "\n",
    "\n",
    "Example 2:\n",
    "\n",
    "Input: head = [1,2], pos = 0\n",
    "Output: tail connects to node index 0\n",
    "Explanation: There is a cycle in the linked list, where tail connects to the first node.\n",
    "\n",
    "\n",
    "Example 3:\n",
    "\n",
    "Input: head = [1], pos = -1\n",
    "Output: no cycle\n",
    "Explanation: There is no cycle in the linked list.\n",
    "\n",
    "\n",
    " \n",
    "\n",
    "Follow-up:\n",
    "Can you solve it without using extra space?"
   ]
  },
  {
   "cell_type": "code",
   "execution_count": 1,
   "metadata": {},
   "outputs": [],
   "source": [
    "def hasCycle(head):\n",
    "    slow = head\n",
    "    fast = head\n",
    "    while fast and fast.next:\n",
    "        slow = slow.next\n",
    "        fast = fast.next.next\n",
    "        if slow==fast:\n",
    "            return slow\n",
    "    return False\n"
   ]
  },
  {
   "cell_type": "code",
   "execution_count": 2,
   "metadata": {},
   "outputs": [],
   "source": [
    "def detectCycle(head):\n",
    "    meet = hasCycle(head)\n",
    "    if not meet:\n",
    "        print(\"no cycle\")\n",
    "    else:\n",
    "        pre_tmp = head\n",
    "        tmp = head.next\n",
    "        pre_tmp.next = None ## Here modifying the linked list by cut link\n",
    "        while hasCycle(tmp):\n",
    "            pre_tmp.next = tmp ## Here connect the cut link back\n",
    "            tmp = tmp.next\n",
    "            pre_tmp = pre_tmp.next\n",
    "            pre_tmp.next = None\n",
    "        pre_tmp.next = tmp\n",
    "        return pre_tmp"
   ]
  },
  {
   "cell_type": "markdown",
   "metadata": {},
   "source": [
    "Above solution has no extra memory, but the run time is too slow."
   ]
  },
  {
   "cell_type": "code",
   "execution_count": 3,
   "metadata": {},
   "outputs": [],
   "source": [
    "def hasCycle(head):\n",
    "    slow = head\n",
    "    fast = head\n",
    "    while fast and fast.next:\n",
    "        slow = slow.next\n",
    "        fast = fast.next.next\n",
    "        if slow==fast:\n",
    "            return slow\n",
    "    return False\n",
    "\n",
    "def detectCycle(head):\n",
    "    meet = hasCycle(head)\n",
    "    if not meet:\n",
    "        print(\"no cycle\")\n",
    "    else:\n",
    "        if head == meet:\n",
    "            return head\n",
    "        p1 = head\n",
    "        p2 = meet\n",
    "        i = 0        \n",
    "        while True: ## the distance between head and the position where the slow and fast pointers meet\n",
    "            p1 = p1.next\n",
    "            i = i+1\n",
    "            if p1 == meet:\n",
    "                break\n",
    "        j = 0        \n",
    "        while True:\n",
    "            p2 = p2.next\n",
    "            j = j+1\n",
    "            if p2 == meet:\n",
    "                break\n",
    "                \n",
    "        p1 = head\n",
    "        p2 = meet       \n",
    "        if i > j: ## make p1 and p2 the same distance to the meet point\n",
    "            for k in range(i-j):\n",
    "                p1 = p1.next\n",
    "        else:\n",
    "            for l in range(j-i):\n",
    "                p2 = p2.next\n",
    "                \n",
    "        while True:\n",
    "            if p1==p2:\n",
    "                return p1\n",
    "            p1 = p1.next\n",
    "            p2 = p2.next\n"
   ]
  },
  {
   "cell_type": "code",
   "execution_count": null,
   "metadata": {},
   "outputs": [],
   "source": []
  }
 ],
 "metadata": {
  "kernelspec": {
   "display_name": "Python 3",
   "language": "python",
   "name": "python3"
  },
  "language_info": {
   "codemirror_mode": {
    "name": "ipython",
    "version": 3
   },
   "file_extension": ".py",
   "mimetype": "text/x-python",
   "name": "python",
   "nbconvert_exporter": "python",
   "pygments_lexer": "ipython3",
   "version": "3.6.5"
  }
 },
 "nbformat": 4,
 "nbformat_minor": 2
}
