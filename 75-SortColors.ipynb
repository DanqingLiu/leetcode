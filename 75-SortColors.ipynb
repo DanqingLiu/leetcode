{
 "cells": [
  {
   "cell_type": "markdown",
   "metadata": {},
   "source": [
    "# 75. Sort Colors\n",
    "\n",
    "Given an array with n objects colored red, white or blue, sort them in-place so that objects of the same color are adjacent, with the colors in the order red, white and blue.\n",
    "\n",
    "Here, we will use the integers 0, 1, and 2 to represent the color red, white, and blue respectively.\n",
    "\n",
    "Note: You are not suppose to use the library's sort function for this problem.\n",
    "\n",
    "Example:\n",
    "\n",
    "Input: [2,0,2,1,1,0]\n",
    "Output: [0,0,1,1,2,2]\n",
    "Follow up:\n",
    "\n",
    "A rather straight forward solution is a two-pass algorithm using counting sort.\n",
    "First, iterate the array counting number of 0's, 1's, and 2's, then overwrite array with total number of 0's, then 1's and followed by 2's.\n",
    "Could you come up with a one-pass algorithm using only constant space?"
   ]
  },
  {
   "cell_type": "code",
   "execution_count": 8,
   "metadata": {},
   "outputs": [],
   "source": [
    "def sortColors(nums):\n",
    "    n = len(nums)\n",
    "    f0 = 0\n",
    "    f2 = n-1\n",
    "    \n",
    "    i = 0\n",
    "    while i <= f2:\n",
    "        print(nums)\n",
    "        if nums[i]==0 and i==f0:\n",
    "            f0 += 1\n",
    "            i += 1\n",
    "        elif nums[i]==0 and i>f0:\n",
    "            nums[i] = nums[f0]\n",
    "            nums[f0] = 0\n",
    "            f0 += 1\n",
    "        elif nums[i]==1:\n",
    "            i += 1\n",
    "        elif nums[i]==2:\n",
    "            nums[i] = nums[f2]\n",
    "            nums[f2] = 2\n",
    "            f2 -= 1           \n",
    "            "
   ]
  },
  {
   "cell_type": "code",
   "execution_count": 9,
   "metadata": {},
   "outputs": [
    {
     "name": "stdout",
     "output_type": "stream",
     "text": [
      "[1, 2, 2, 2, 2, 0, 0, 0, 1, 1]\n",
      "[1, 2, 2, 2, 2, 0, 0, 0, 1, 1]\n",
      "[1, 1, 2, 2, 2, 0, 0, 0, 1, 2]\n",
      "[1, 1, 2, 2, 2, 0, 0, 0, 1, 2]\n",
      "[1, 1, 1, 2, 2, 0, 0, 0, 2, 2]\n",
      "[1, 1, 1, 2, 2, 0, 0, 0, 2, 2]\n",
      "[1, 1, 1, 0, 2, 0, 0, 2, 2, 2]\n",
      "[0, 1, 1, 1, 2, 0, 0, 2, 2, 2]\n",
      "[0, 1, 1, 1, 2, 0, 0, 2, 2, 2]\n",
      "[0, 1, 1, 1, 0, 0, 2, 2, 2, 2]\n",
      "[0, 0, 1, 1, 1, 0, 2, 2, 2, 2]\n",
      "[0, 0, 1, 1, 1, 0, 2, 2, 2, 2]\n",
      "[0, 0, 0, 1, 1, 1, 2, 2, 2, 2]\n",
      "[0, 0, 0, 1, 1, 1, 2, 2, 2, 2]\n"
     ]
    }
   ],
   "source": [
    "nums = [2,0,2,1,1,0]\n",
    "nums = [1,2,2,2,2,0,0,0,1,1]\n",
    "sortColors(nums)\n",
    "print(nums)"
   ]
  },
  {
   "cell_type": "markdown",
   "metadata": {},
   "source": [
    "https://en.wikipedia.org/wiki/Dutch_national_flag_problem"
   ]
  },
  {
   "cell_type": "code",
   "execution_count": null,
   "metadata": {},
   "outputs": [],
   "source": []
  }
 ],
 "metadata": {
  "kernelspec": {
   "display_name": "Python 3",
   "language": "python",
   "name": "python3"
  },
  "language_info": {
   "codemirror_mode": {
    "name": "ipython",
    "version": 3
   },
   "file_extension": ".py",
   "mimetype": "text/x-python",
   "name": "python",
   "nbconvert_exporter": "python",
   "pygments_lexer": "ipython3",
   "version": "3.6.5"
  }
 },
 "nbformat": 4,
 "nbformat_minor": 2
}
