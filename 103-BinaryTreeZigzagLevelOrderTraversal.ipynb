{
 "cells": [
  {
   "cell_type": "markdown",
   "metadata": {},
   "source": [
    "# 103. Binary Tree Zigzag Level Order Traversal\n",
    "\n",
    "Given a binary tree, return the zigzag level order traversal of its nodes' values. (ie, from left to right, then right to left for the next level and alternate between).\n",
    "\n",
    "For example:\n",
    "Given binary tree [3,9,20,null,null,15,7],\n",
    "    3\n",
    "   / \\\n",
    "  9  20\n",
    "    /  \\\n",
    "   15   7\n",
    "return its zigzag level order traversal as:\n",
    "[\n",
    "  [3],\n",
    "  [20,9],\n",
    "  [15,7]\n",
    "]"
   ]
  },
  {
   "cell_type": "code",
   "execution_count": 1,
   "metadata": {},
   "outputs": [],
   "source": [
    "## BFS solution. Use stack for each level nodes, stack zig for even levels, stack zag for odd levels.\n",
    "class TreeNode:\n",
    "    def __init__(self, x):\n",
    "        self.val = x\n",
    "        self.left = None\n",
    "        self.right = None\n",
    "\n",
    "\n",
    "def zigzagLevelOrder(root):\n",
    "    if not root:\n",
    "        return []\n",
    "    level = 0\n",
    "    zig_nodes = [root]\n",
    "    zag_nodes = []\n",
    "    result = [[root.val]]\n",
    "    while zig_nodes:\n",
    "        # print(level, result)\n",
    "        node = zig_nodes.pop()\n",
    "        if level%2 == 0:\n",
    "            if node.right:\n",
    "                zag_nodes.append(node.right)\n",
    "            if node.left:\n",
    "                zag_nodes.append(node.left)\n",
    "        else:\n",
    "            if node.left:\n",
    "                zag_nodes.append(node.left)\n",
    "            if node.right:\n",
    "                zag_nodes.append(node.right)\n",
    "        if not zig_nodes:\n",
    "            result.append([])\n",
    "            for n in zag_nodes:\n",
    "                result[-1].append(n.val)\n",
    "            zig_nodes = zag_nodes\n",
    "            zag_nodes = []\n",
    "            level = level + 1\n",
    "    return result[:-1]"
   ]
  },
  {
   "cell_type": "code",
   "execution_count": null,
   "metadata": {},
   "outputs": [],
   "source": []
  }
 ],
 "metadata": {
  "kernelspec": {
   "display_name": "Python 3",
   "language": "python",
   "name": "python3"
  },
  "language_info": {
   "codemirror_mode": {
    "name": "ipython",
    "version": 3
   },
   "file_extension": ".py",
   "mimetype": "text/x-python",
   "name": "python",
   "nbconvert_exporter": "python",
   "pygments_lexer": "ipython3",
   "version": "3.6.5"
  }
 },
 "nbformat": 4,
 "nbformat_minor": 2
}
