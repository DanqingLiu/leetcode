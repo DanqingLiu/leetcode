{
 "cells": [
  {
   "cell_type": "markdown",
   "metadata": {},
   "source": [
    "# 101. Symmetric Tree\n",
    "\n",
    "Given a binary tree, check whether it is a mirror of itself (ie, symmetric around its center).\n",
    "\n",
    "For example, this binary tree [1,2,2,3,4,4,3] is symmetric:\n",
    "\n",
    "    1\n",
    "   / \\\n",
    "  2   2\n",
    " / \\ / \\\n",
    "3  4 4  3\n",
    " \n",
    "\n",
    "But the following [1,2,2,null,3,null,3] is not:\n",
    "\n",
    "    1\n",
    "   / \\\n",
    "  2   2\n",
    "   \\   \\\n",
    "   3    3\n",
    " \n",
    "\n",
    "Note:\n",
    "Bonus points if you could solve it both recursively and iteratively."
   ]
  },
  {
   "cell_type": "code",
   "execution_count": 19,
   "metadata": {},
   "outputs": [],
   "source": [
    "class TreeNode:\n",
    "    def __init__(self, x):\n",
    "        self.val = x\n",
    "        self.left = None\n",
    "        self.right = None"
   ]
  },
  {
   "cell_type": "code",
   "execution_count": 40,
   "metadata": {},
   "outputs": [],
   "source": [
    "## recursive\n",
    "def inorder(root, ilist):\n",
    "    if not root:\n",
    "        return 0\n",
    "\n",
    "    inorder(root.left, ilist)\n",
    "    ilist.append(root.val)\n",
    "    inorder(root.right, ilist)\n"
   ]
  },
  {
   "cell_type": "code",
   "execution_count": 41,
   "metadata": {},
   "outputs": [],
   "source": [
    "def isSymmetric(root):\n",
    "    ilist = []\n",
    "    inorder(root, ilist)\n",
    "    print(ilist)\n",
    "    n = len(ilist)\n",
    "    for i in range(n//2):\n",
    "        if ilist[i]==ilist[n-1-i]:\n",
    "            continue\n",
    "        else:\n",
    "            return False\n",
    "    return True"
   ]
  },
  {
   "cell_type": "code",
   "execution_count": 42,
   "metadata": {},
   "outputs": [
    {
     "name": "stdout",
     "output_type": "stream",
     "text": [
      "[3, 2, 4, 1, 4, 2, 3]\n",
      "True\n"
     ]
    }
   ],
   "source": [
    "root = TreeNode(1)\n",
    "root.left = TreeNode(2)\n",
    "root.right = TreeNode(2)\n",
    "root.left.left = TreeNode(3)\n",
    "root.left.right = TreeNode(4)\n",
    "root.right.left = TreeNode(4)\n",
    "root.right.right = TreeNode(3)\n",
    "print(isSymmetric(root))"
   ]
  },
  {
   "cell_type": "code",
   "execution_count": 43,
   "metadata": {},
   "outputs": [
    {
     "name": "stdout",
     "output_type": "stream",
     "text": [
      "[2, 2, 1, 2, 2]\n",
      "True\n"
     ]
    }
   ],
   "source": [
    "root = TreeNode(1)\n",
    "root.left = TreeNode(2)\n",
    "root.right = TreeNode(2)\n",
    "root.left.left = TreeNode(2)\n",
    "root.right.left = TreeNode(2)\n",
    "print(isSymmetric(root))"
   ]
  },
  {
   "cell_type": "markdown",
   "metadata": {},
   "source": [
    "Above method is not correct for the second case which should be false.\n",
    "Refer to solution in https://leetcode.com/problems/symmetric-tree/solution/"
   ]
  },
  {
   "cell_type": "code",
   "execution_count": 52,
   "metadata": {},
   "outputs": [],
   "source": [
    "## Recursive\n",
    "def ismirror(left, right):\n",
    "    \n",
    "    if left is None and right is None:\n",
    "        return True\n",
    "    if left is None or right is None:\n",
    "        return False\n",
    "    \n",
    "    return left.val == right.val and ismirror(left.right, right.left) and ismirror(left.left, right.right)\n",
    "    \n",
    "def isSymmetric(root):\n",
    "    if not root:\n",
    "        return True\n",
    "    return ismirror(root.left, root.right)"
   ]
  },
  {
   "cell_type": "code",
   "execution_count": 65,
   "metadata": {},
   "outputs": [],
   "source": [
    "## Iterative    \n",
    "def isSymmetric(root):\n",
    "\n",
    "    if not root:\n",
    "        return True\n",
    "    if root.left is None and root.right is None:\n",
    "        return True\n",
    "    if root.left is None or root.right is None:\n",
    "        return False\n",
    "    \n",
    "    queue = []\n",
    "    queue += [root.left, root.right]\n",
    "    while queue:\n",
    "        first = queue.pop(0)\n",
    "        second = queue.pop(0)\n",
    "        if first.val == second.val:\n",
    "            if first.left is not None and second.right is not None:\n",
    "                queue.append(first.left)\n",
    "                queue.append(second.right)\n",
    "            elif first.left is None and second.right is None:\n",
    "                pass\n",
    "            elif first.left is None or second.right is None:\n",
    "                return False\n",
    "            \n",
    "            if first.right is not None and second.left is not None:\n",
    "                queue.append(first.right)\n",
    "                queue.append(second.left)\n",
    "            elif first.right is None and second.left is None:\n",
    "                pass\n",
    "            elif first.right is None or second.left is None:\n",
    "                return False\n",
    "        else:\n",
    "            return False\n",
    "    return True"
   ]
  },
  {
   "cell_type": "code",
   "execution_count": 70,
   "metadata": {},
   "outputs": [],
   "source": [
    "## Iterative 2\n",
    "def isSymmetric(root):\n",
    "    queue = []\n",
    "    queue.append(root)\n",
    "    queue.append(root)\n",
    "    while queue:\n",
    "        t1 = queue.pop(0)\n",
    "        t2 = queue.pop(0)\n",
    "        if t1 == None and t2 == None:\n",
    "            continue\n",
    "        if t1 == None or t2 == None:\n",
    "            return False\n",
    "        if t1.val != t2.val:\n",
    "            return False\n",
    "        queue.append(t1.left)\n",
    "        queue.append(t2.right)\n",
    "        queue.append(t1.right)\n",
    "        queue.append(t2.left)    \n",
    "    return True"
   ]
  },
  {
   "cell_type": "code",
   "execution_count": 71,
   "metadata": {},
   "outputs": [
    {
     "name": "stdout",
     "output_type": "stream",
     "text": [
      "True\n"
     ]
    }
   ],
   "source": [
    "root = TreeNode(1)\n",
    "root.left = TreeNode(2)\n",
    "root.right = TreeNode(2)\n",
    "root.left.left = TreeNode(3)\n",
    "root.left.right = TreeNode(4)\n",
    "root.right.left = TreeNode(4)\n",
    "root.right.right = TreeNode(3)\n",
    "print(isSymmetric(root))"
   ]
  },
  {
   "cell_type": "code",
   "execution_count": 67,
   "metadata": {},
   "outputs": [
    {
     "name": "stdout",
     "output_type": "stream",
     "text": [
      "False\n"
     ]
    }
   ],
   "source": [
    "root = TreeNode(1)\n",
    "root.left = TreeNode(2)\n",
    "root.right = TreeNode(2)\n",
    "root.left.left = TreeNode(2)\n",
    "root.right.left = TreeNode(2)\n",
    "print(isSymmetric(root))"
   ]
  },
  {
   "cell_type": "code",
   "execution_count": null,
   "metadata": {},
   "outputs": [],
   "source": []
  }
 ],
 "metadata": {
  "kernelspec": {
   "display_name": "Python 3",
   "language": "python",
   "name": "python3"
  },
  "language_info": {
   "codemirror_mode": {
    "name": "ipython",
    "version": 3
   },
   "file_extension": ".py",
   "mimetype": "text/x-python",
   "name": "python",
   "nbconvert_exporter": "python",
   "pygments_lexer": "ipython3",
   "version": "3.6.5"
  }
 },
 "nbformat": 4,
 "nbformat_minor": 2
}
