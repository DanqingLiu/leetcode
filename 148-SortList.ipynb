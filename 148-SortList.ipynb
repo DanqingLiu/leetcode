{
 "cells": [
  {
   "cell_type": "markdown",
   "metadata": {},
   "source": [
    "# 148. Sort List\n",
    "\n",
    "Sort a linked list in O(n log n) time using constant space complexity.\n",
    "\n",
    "Example 1:\n",
    "\n",
    "Input: 4->2->1->3\n",
    "Output: 1->2->3->4\n",
    "Example 2:\n",
    "\n",
    "Input: -1->5->3->4->0\n",
    "Output: -1->0->3->4->5"
   ]
  },
  {
   "cell_type": "markdown",
   "metadata": {},
   "source": [
    "https://algs4.cs.princeton.edu/23quicksort/\n",
    "\n",
    "https://www.geeksforgeeks.org/quicksort-on-singly-linked-list/\n",
    "\n",
    "https://www.geeksforgeeks.org/how-to-sort-a-linked-list-that-is-sorted-alternating-ascending-and-descending-orders/\n",
    "\n",
    "https://www.geeksforgeeks.org/merge-sort-for-linked-list/"
   ]
  },
  {
   "cell_type": "code",
   "execution_count": 2,
   "metadata": {},
   "outputs": [],
   "source": [
    "class ListNode(object):\n",
    "    def __init__(self, x):\n",
    "        self.val = x\n",
    "        self.next = None"
   ]
  },
  {
   "cell_type": "code",
   "execution_count": 9,
   "metadata": {},
   "outputs": [],
   "source": [
    "def llsplit(head):\n",
    "    slow = head\n",
    "    fast = head.next\n",
    "    while fast is not None and fast.next is not None:\n",
    "        slow = slow.next\n",
    "        fast = fast.next.next\n",
    "    b = slow.next\n",
    "    slow.next = None\n",
    "    a = head\n",
    "    return a, b\n",
    "\n",
    " def merge(a, b):\n",
    "    if a is None:\n",
    "        return b\n",
    "    if b is None:\n",
    "        return a\n",
    "    if a.val < b.val:\n",
    "        result = a\n",
    "        result.next = merge(a.next, b)\n",
    "    else:\n",
    "        result = b\n",
    "        result.next = merge(a, b.next)\n",
    "    return result\n",
    "\n",
    "def sortList(head):\n",
    "    if head is None or head.next is None:\n",
    "        return head\n",
    "    \n",
    "    a, b = llsplit(head)\n",
    "    print(a.val, b.val)\n",
    "    a = sortList(a)\n",
    "    b = sortList(b)\n",
    "    return merge(a, b)"
   ]
  },
  {
   "cell_type": "code",
   "execution_count": 12,
   "metadata": {},
   "outputs": [
    {
     "name": "stdout",
     "output_type": "stream",
     "text": [
      "4 1\n",
      "4 6\n",
      "4 2\n",
      "1 3\n",
      "1 5\n",
      "<__main__.ListNode object at 0x000001AE248B0A58>\n"
     ]
    }
   ],
   "source": [
    "head = ListNode(4)\n",
    "head.next = ListNode(2)\n",
    "head.next.next = ListNode(6)\n",
    "head.next.next.next = ListNode(1)\n",
    "head.next.next.next.next = ListNode(5)\n",
    "head.next.next.next.next.next = ListNode(3)\n",
    "print(sortList(head))"
   ]
  },
  {
   "cell_type": "code",
   "execution_count": null,
   "metadata": {},
   "outputs": [],
   "source": []
  }
 ],
 "metadata": {
  "kernelspec": {
   "display_name": "Python 3",
   "language": "python",
   "name": "python3"
  },
  "language_info": {
   "codemirror_mode": {
    "name": "ipython",
    "version": 3
   },
   "file_extension": ".py",
   "mimetype": "text/x-python",
   "name": "python",
   "nbconvert_exporter": "python",
   "pygments_lexer": "ipython3",
   "version": "3.6.5"
  }
 },
 "nbformat": 4,
 "nbformat_minor": 2
}
