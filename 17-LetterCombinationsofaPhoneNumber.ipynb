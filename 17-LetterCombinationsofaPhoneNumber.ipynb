{
 "cells": [
  {
   "cell_type": "markdown",
   "metadata": {},
   "source": [
    "# 17. Letter Combinations of a Phone Number\n",
    "\n",
    "Given a string containing digits from 2-9 inclusive, return all possible letter combinations that the number could represent.\n",
    "\n",
    "A mapping of digit to letters (just like on the telephone buttons) is given below. Note that 1 does not map to any letters.\n",
    "\n",
    "\n",
    "\n",
    "Example:\n",
    "\n",
    "Input: \"23\"\n",
    "Output: [\"ad\", \"ae\", \"af\", \"bd\", \"be\", \"bf\", \"cd\", \"ce\", \"cf\"].\n",
    "Note:\n",
    "\n",
    "Although the above answer is in lexicographical order, your answer could be in any order you want."
   ]
  },
  {
   "cell_type": "code",
   "execution_count": 8,
   "metadata": {},
   "outputs": [],
   "source": [
    "def getmsb(d):\n",
    "    i = 0\n",
    "    msb = d\n",
    "    while msb>9:\n",
    "        msb = msb//10\n",
    "        i = i+1\n",
    "    return msb, d-msb*(10**i) "
   ]
  },
  {
   "cell_type": "code",
   "execution_count": 9,
   "metadata": {},
   "outputs": [
    {
     "name": "stdout",
     "output_type": "stream",
     "text": [
      "(2, 345)\n"
     ]
    }
   ],
   "source": [
    "print(getmsb(2345))"
   ]
  },
  {
   "cell_type": "code",
   "execution_count": 17,
   "metadata": {},
   "outputs": [],
   "source": [
    "\n",
    "def letterCombinations(digits):\n",
    "    if digits < 2:\n",
    "        return ['']\n",
    "    elif digits==2:\n",
    "        combinations = ['a','b','c']\n",
    "    elif digits==3:\n",
    "        combinations = ['d','e','f']\n",
    "    elif digits==4:\n",
    "        combinations = ['g','h','i']\n",
    "    elif digits==5:\n",
    "        combinations = ['j','k','l']\n",
    "    elif digits==6:\n",
    "        combinations = ['m','n','o']\n",
    "    elif digits==7:\n",
    "        combinations = ['p','q','r','s']\n",
    "    elif digits==8:\n",
    "        combinations = ['t','u','v']\n",
    "    elif digits==9:\n",
    "        combinations = ['w','x','y','z']\n",
    "    else:\n",
    "        msb, subdigits = getmsb(digits)\n",
    "        subcombinations = letterCombinations(subdigits)\n",
    "        firstletters = letterCombinations(msb)        \n",
    "        combinations = []\n",
    "        for letter in firstletters:\n",
    "            for comb in subcombinations:\n",
    "                combinations.append(letter+comb)\n",
    "                                                        \n",
    "    return combinations"
   ]
  },
  {
   "cell_type": "code",
   "execution_count": 18,
   "metadata": {},
   "outputs": [
    {
     "name": "stdout",
     "output_type": "stream",
     "text": [
      "['']\n"
     ]
    }
   ],
   "source": [
    "digits = 0\n",
    "print(letterCombinations(digits))"
   ]
  },
  {
   "cell_type": "markdown",
   "metadata": {},
   "source": [
    "# Rewrite becasue digits is a string, not a int"
   ]
  },
  {
   "cell_type": "code",
   "execution_count": 36,
   "metadata": {},
   "outputs": [],
   "source": [
    "def letterCombinations(digits):\n",
    "    if digits in [\"\",\"0\",\"1\"]:\n",
    "        return []\n",
    "    elif digits == \"2\":\n",
    "        combinations = ['a','b','c']\n",
    "    elif digits == \"3\":\n",
    "        combinations = ['d','e','f']\n",
    "    elif digits == \"4\":\n",
    "        combinations = ['g','h','i']\n",
    "    elif digits==\"5\":\n",
    "        combinations = ['j','k','l']\n",
    "    elif digits==\"6\":\n",
    "        combinations = ['m','n','o']\n",
    "    elif digits==\"7\":\n",
    "        combinations = ['p','q','r','s']\n",
    "    elif digits==\"8\":\n",
    "        combinations = ['t','u','v']\n",
    "    elif digits==\"9\":\n",
    "        combinations = ['w','x','y','z']\n",
    "    else:\n",
    "        msb, subdigits = digits[0], digits[1:]\n",
    "        subcombinations = letterCombinations(subdigits)\n",
    "        firstletters = letterCombinations(msb)        \n",
    "        combinations = []\n",
    "        for letter in firstletters:\n",
    "            for comb in subcombinations:\n",
    "                combinations.append(letter+comb)\n",
    "                                                        \n",
    "    return combinations"
   ]
  },
  {
   "cell_type": "code",
   "execution_count": 38,
   "metadata": {},
   "outputs": [
    {
     "name": "stdout",
     "output_type": "stream",
     "text": [
      "['adgj', 'adgk', 'adgl', 'adhj', 'adhk', 'adhl', 'adij', 'adik', 'adil', 'aegj', 'aegk', 'aegl', 'aehj', 'aehk', 'aehl', 'aeij', 'aeik', 'aeil', 'afgj', 'afgk', 'afgl', 'afhj', 'afhk', 'afhl', 'afij', 'afik', 'afil', 'bdgj', 'bdgk', 'bdgl', 'bdhj', 'bdhk', 'bdhl', 'bdij', 'bdik', 'bdil', 'begj', 'begk', 'begl', 'behj', 'behk', 'behl', 'beij', 'beik', 'beil', 'bfgj', 'bfgk', 'bfgl', 'bfhj', 'bfhk', 'bfhl', 'bfij', 'bfik', 'bfil', 'cdgj', 'cdgk', 'cdgl', 'cdhj', 'cdhk', 'cdhl', 'cdij', 'cdik', 'cdil', 'cegj', 'cegk', 'cegl', 'cehj', 'cehk', 'cehl', 'ceij', 'ceik', 'ceil', 'cfgj', 'cfgk', 'cfgl', 'cfhj', 'cfhk', 'cfhl', 'cfij', 'cfik', 'cfil']\n"
     ]
    }
   ],
   "source": [
    "d = \"2345\"\n",
    "print(letterCombinations(d))"
   ]
  },
  {
   "cell_type": "code",
   "execution_count": null,
   "metadata": {},
   "outputs": [],
   "source": []
  }
 ],
 "metadata": {
  "kernelspec": {
   "display_name": "Python 3",
   "language": "python",
   "name": "python3"
  },
  "language_info": {
   "codemirror_mode": {
    "name": "ipython",
    "version": 3
   },
   "file_extension": ".py",
   "mimetype": "text/x-python",
   "name": "python",
   "nbconvert_exporter": "python",
   "pygments_lexer": "ipython3",
   "version": "3.6.5"
  }
 },
 "nbformat": 4,
 "nbformat_minor": 2
}
