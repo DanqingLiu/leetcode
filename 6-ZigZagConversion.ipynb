{
 "cells": [
  {
   "cell_type": "markdown",
   "metadata": {},
   "source": [
    "# 6. ZigZag Conversion\n",
    "\n",
    "The string \"PAYPALISHIRING\" is written in a zigzag pattern on a given number of rows like this: (you may want to display this pattern in a fixed font for better legibility)\n",
    "\n",
    "P   A   H   N\n",
    "A P L S I I G\n",
    "Y   I   R\n",
    "And then read line by line: \"PAHNAPLSIIGYIR\"\n",
    "\n",
    "Write the code that will take a string and make this conversion given a number of rows:\n",
    "\n",
    "string convert(string s, int numRows);\n",
    "Example 1:\n",
    "\n",
    "Input: s = \"PAYPALISHIRING\", numRows = 3\n",
    "Output: \"PAHNAPLSIIGYIR\"\n",
    "Example 2:\n",
    "\n",
    "Input: s = \"PAYPALISHIRING\", numRows = 4\n",
    "Output: \"PINALSIGYAHRPI\"\n",
    "Explanation:\n",
    "\n",
    "P     I    N\n",
    "A   L S  I G\n",
    "Y A   H R\n",
    "P     I"
   ]
  },
  {
   "cell_type": "code",
   "execution_count": 31,
   "metadata": {},
   "outputs": [],
   "source": [
    "def convert(s, numRows):\n",
    "    '''\n",
    "    s: str\n",
    "    numRow: int\n",
    "    zz: str\n",
    "    '''\n",
    "    if numRows < 2:\n",
    "        return s\n",
    "    increase = []\n",
    "    for i in range(numRows):\n",
    "        increase.append(numRows*2-i*2-2)\n",
    "    increase[-1] = increase[0]\n",
    "    \n",
    "    row = []\n",
    "    for i in range(numRows):\n",
    "        row.append([])\n",
    "        x = i\n",
    "        flag = 1\n",
    "        while x < len(s):            \n",
    "            row[i].append(s[x])\n",
    "            \n",
    "            if flag%2==1:\n",
    "                x += increase[i]\n",
    "            else:\n",
    "                x += increase[numRows-i-1]\n",
    "            flag += 1\n",
    "    \n",
    "    zz = []\n",
    "    for i in range(numRows):\n",
    "        zz += row[i]\n",
    "        \n",
    "    zigzag = \"\"\n",
    "    for x in zz:\n",
    "        zigzag += x\n",
    "        \n",
    "    return zigzag"
   ]
  },
  {
   "cell_type": "code",
   "execution_count": 32,
   "metadata": {},
   "outputs": [
    {
     "name": "stdout",
     "output_type": "stream",
     "text": [
      "PINALSIGYAHRPI\n"
     ]
    }
   ],
   "source": [
    "s = \"PAYPALISHIRING\"\n",
    "numRows = 4\n",
    "print(convert(s, numRows))"
   ]
  },
  {
   "cell_type": "code",
   "execution_count": null,
   "metadata": {},
   "outputs": [],
   "source": []
  }
 ],
 "metadata": {
  "kernelspec": {
   "display_name": "Python 3",
   "language": "python",
   "name": "python3"
  },
  "language_info": {
   "codemirror_mode": {
    "name": "ipython",
    "version": 3
   },
   "file_extension": ".py",
   "mimetype": "text/x-python",
   "name": "python",
   "nbconvert_exporter": "python",
   "pygments_lexer": "ipython3",
   "version": "3.6.5"
  }
 },
 "nbformat": 4,
 "nbformat_minor": 2
}
