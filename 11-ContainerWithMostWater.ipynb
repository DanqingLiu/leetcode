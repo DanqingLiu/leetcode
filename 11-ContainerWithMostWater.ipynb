{
 "cells": [
  {
   "cell_type": "markdown",
   "metadata": {},
   "source": [
    "# 11. Container With Most Water\n",
    "\n",
    "Given n non-negative integers a1, a2, ..., an , where each represents a point at coordinate (i, ai). n vertical lines are drawn such that the two endpoints of line i is at (i, ai) and (i, 0). Find two lines, which together with x-axis forms a container, such that the container contains the most water.\n",
    "\n",
    "Note: You may not slant the container and n is at least 2.\n",
    "\n",
    " \n",
    "\n",
    "\n",
    "\n",
    "The above vertical lines are represented by array [1,8,6,2,5,4,8,3,7]. In this case, the max area of water (blue section) the container can contain is 49.\n",
    "\n",
    " \n",
    "\n",
    "Example:\n",
    "\n",
    "Input: [1,8,6,2,5,4,8,3,7]\n",
    "Output: 49"
   ]
  },
  {
   "cell_type": "code",
   "execution_count": 13,
   "metadata": {},
   "outputs": [],
   "source": [
    "def maxArea(height):\n",
    "    left = 0\n",
    "    right = len(height)-1\n",
    "    maxarea = 0\n",
    "    while left < right:\n",
    "        if height[left] < height[right]:\n",
    "            area = height[left] * (right-left)\n",
    "            left = left+1\n",
    "        else:\n",
    "            area = height[right] * (right-left)\n",
    "            right = right-1\n",
    "\n",
    "        if area > maxarea:\n",
    "            maxarea = area\n",
    "    return maxarea"
   ]
  },
  {
   "cell_type": "code",
   "execution_count": 16,
   "metadata": {},
   "outputs": [
    {
     "name": "stdout",
     "output_type": "stream",
     "text": [
      "0\n"
     ]
    }
   ],
   "source": [
    "h = [1,8,6,2,5,4,8,3,7]\n",
    "h = [1]\n",
    "print(maxArea(h))"
   ]
  },
  {
   "cell_type": "code",
   "execution_count": null,
   "metadata": {},
   "outputs": [],
   "source": []
  }
 ],
 "metadata": {
  "kernelspec": {
   "display_name": "Python 3",
   "language": "python",
   "name": "python3"
  },
  "language_info": {
   "codemirror_mode": {
    "name": "ipython",
    "version": 3
   },
   "file_extension": ".py",
   "mimetype": "text/x-python",
   "name": "python",
   "nbconvert_exporter": "python",
   "pygments_lexer": "ipython3",
   "version": "3.6.5"
  }
 },
 "nbformat": 4,
 "nbformat_minor": 2
}
