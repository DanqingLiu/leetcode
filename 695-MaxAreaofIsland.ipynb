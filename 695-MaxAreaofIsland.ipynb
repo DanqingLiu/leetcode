{
 "cells": [
  {
   "cell_type": "markdown",
   "metadata": {},
   "source": [
    "# 695. Max Area of Island\n",
    "\n",
    "Given a non-empty 2D array grid of 0's and 1's, an island is a group of 1's (representing land) connected 4-directionally (horizontal or vertical.) You may assume all four edges of the grid are surrounded by water.\n",
    "\n",
    "Find the maximum area of an island in the given 2D array. (If there is no island, the maximum area is 0.)\n",
    "\n",
    "Example 1:\n",
    "\n",
    "[[0,0,1,0,0,0,0,1,0,0,0,0,0],\n",
    "\n",
    " [0,0,0,0,0,0,0,1,1,1,0,0,0],\n",
    " \n",
    " [0,1,1,0,1,0,0,0,0,0,0,0,0],\n",
    " \n",
    " [0,1,0,0,1,1,0,0,1,0,1,0,0],\n",
    " \n",
    " [0,1,0,0,1,1,0,0,1,1,1,0,0],\n",
    " \n",
    " [0,0,0,0,0,0,0,0,0,0,1,0,0],\n",
    " \n",
    " [0,0,0,0,0,0,0,1,1,1,0,0,0],\n",
    " \n",
    " [0,0,0,0,0,0,0,1,1,0,0,0,0]]\n",
    " \n",
    "Given the above grid, return 6. Note the answer is not 11, because the island must be connected 4-directionally.\n",
    "\n",
    "Example 2:\n",
    "\n",
    "[[0,0,0,0,0,0,0,0]]\n",
    "\n",
    "Given the above grid, return 0.\n",
    "\n",
    "Note: The length of each dimension in the given grid does not exceed 50."
   ]
  },
  {
   "cell_type": "code",
   "execution_count": 50,
   "metadata": {},
   "outputs": [],
   "source": [
    "def issafe(grid, i, j):\n",
    "    if i < 0 or i >= len(grid) or j < 0 or j >= len(grid[0]):\n",
    "        return False\n",
    "    return True"
   ]
  },
  {
   "cell_type": "code",
   "execution_count": 65,
   "metadata": {},
   "outputs": [],
   "source": [
    "def walk(grid, i, j, visited):\n",
    "    area = 1\n",
    "#     print('visited[' + str(i) + '][' + str(j) + '] : ' + str(visited[i][j]))\n",
    "#     print('grid[' + str(i) + '][' + str(j) + '] : ' + str(grid[i][j]))\n",
    "    direction = [[1, 0],[-1, 0],[0, 1], [0, -1]]\n",
    "    if visited[i][j] > 0 or grid[i][j] == 0:\n",
    "        return 0\n",
    "    visited[i][j] = 1\n",
    "    \n",
    "    for d in range(len(direction)):\n",
    "        r = i+direction[d][0]\n",
    "        c = j+direction[d][1]\n",
    "        if not issafe(grid, r, c) or grid[r][c] == 0:\n",
    "            continue\n",
    "        area = area + walk(grid, r, c, visited)\n",
    "    \n",
    "    return area    "
   ]
  },
  {
   "cell_type": "code",
   "execution_count": 66,
   "metadata": {},
   "outputs": [],
   "source": [
    "def maxAreaOfIsland(grid):\n",
    "    '''\n",
    "    :type grid: List[List[int]]\n",
    "    :rtype: int\n",
    "    '''\n",
    "    if grid == []:\n",
    "        return 0\n",
    "    row = len(grid)\n",
    "    column = len(grid[0])\n",
    "    visited = []\n",
    "    area = []\n",
    "    for i in range(row):\n",
    "        visited.append([])\n",
    "        area.append([])\n",
    "        for j in range(column):\n",
    "            visited[i].append(0)\n",
    "            area[i].append(0)\n",
    "\n",
    "    for i in range(row):\n",
    "        for j in range(column):\n",
    "            area[i][j] = walk(grid, i, j, visited)\n",
    "#     print(visited)        \n",
    "    maxarea = 0\n",
    "    for i in range(row):\n",
    "        for j in range(column):\n",
    "            maxarea = max(maxarea, area[i][j])\n",
    "    return maxarea"
   ]
  },
  {
   "cell_type": "code",
   "execution_count": 69,
   "metadata": {},
   "outputs": [
    {
     "name": "stdout",
     "output_type": "stream",
     "text": [
      "0\n"
     ]
    }
   ],
   "source": [
    "# grid = [[1,1,0,0,0],[1,1,0,0,0],[0,0,0,1,1],[0,0,0,1,1]]\n",
    "# grid = [[0,0,1,0,0,0,0,1,0,0,0,0,0],[0,0,0,0,0,0,0,1,1,1,0,0,0],[0,1,1,0,1,0,0,0,0,0,0,0,0],[0,1,0,0,1,1,0,0,1,0,1,0,0],[0,1,0,0,1,1,0,0,1,1,1,0,0],[0,0,0,0,0,0,0,0,0,0,1,0,0],[0,0,0,0,0,0,0,1,1,1,0,0,0],[0,0,0,0,0,0,0,1,1,0,0,0,0]]\n",
    "grid = []\n",
    "print(maxAreaOfIsland(grid))"
   ]
  },
  {
   "cell_type": "code",
   "execution_count": null,
   "metadata": {},
   "outputs": [],
   "source": []
  }
 ],
 "metadata": {
  "kernelspec": {
   "display_name": "Python 3",
   "language": "python",
   "name": "python3"
  },
  "language_info": {
   "codemirror_mode": {
    "name": "ipython",
    "version": 3
   },
   "file_extension": ".py",
   "mimetype": "text/x-python",
   "name": "python",
   "nbconvert_exporter": "python",
   "pygments_lexer": "ipython3",
   "version": "3.6.5"
  }
 },
 "nbformat": 4,
 "nbformat_minor": 2
}
