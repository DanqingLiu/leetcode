{
 "cells": [
  {
   "cell_type": "markdown",
   "metadata": {},
   "source": [
    "# 94. Binary Tree Inorder Traversal\n",
    "\n",
    "Given a binary tree, return the inorder traversal of its nodes' values.\n",
    "\n",
    "Example:\n",
    "\n",
    "Input: [1,null,2,3]\n",
    "   1\n",
    "    \\\n",
    "     2\n",
    "    /\n",
    "   3\n",
    "\n",
    "Output: [1,3,2]\n",
    "\n",
    "Follow up: Recursive solution is trivial, could you do it iteratively?"
   ]
  },
  {
   "cell_type": "code",
   "execution_count": 1,
   "metadata": {},
   "outputs": [],
   "source": [
    "class Node:\n",
    "    def __init__(self, x):\n",
    "        self.name = x\n",
    "        self.left = None\n",
    "        self.right = None"
   ]
  },
  {
   "cell_type": "code",
   "execution_count": 10,
   "metadata": {},
   "outputs": [],
   "source": [
    "def inorderTraversal(root):\n",
    "    if root is None:\n",
    "        return []\n",
    "    ilist = [[root, 0]]\n",
    "    \n",
    "    i = 0\n",
    "    while(i<len(ilist)):\n",
    "        \n",
    "        item = ilist[i]\n",
    "        \n",
    "        if item[1]==0:\n",
    "#             print(i, item[0].name)\n",
    "            if item[0].left is None and item[0].right is None:\n",
    "                item[1] = 1\n",
    "            if item[0].left is not None:\n",
    "                ilist.insert(i, [item[0].left, 0])\n",
    "            if item[0].left is not None and item[0].right is not None:\n",
    "                ilist.insert(i+2, [item[0].right, 0])\n",
    "            if item[0].left is None and item[0].right is not None:\n",
    "                ilist.insert(i+1, [item[0].right, 0])\n",
    "            item[1] = 1\n",
    "        else:\n",
    "            i += 1\n",
    "    \n",
    "    \n",
    "    for i, item in enumerate(ilist):\n",
    "        ilist[i] = item[0].name\n",
    "        \n",
    "    return ilist\n",
    "    "
   ]
  },
  {
   "cell_type": "code",
   "execution_count": 11,
   "metadata": {},
   "outputs": [
    {
     "name": "stdout",
     "output_type": "stream",
     "text": [
      "0 1\n",
      "1 2\n",
      "1 3\n",
      "[1, 3, 2]\n"
     ]
    }
   ],
   "source": [
    "root = Node(1)\n",
    "root.right = Node(2)\n",
    "root.right.left = Node(3)\n",
    "print(inorderTraversal(root))"
   ]
  },
  {
   "cell_type": "code",
   "execution_count": null,
   "metadata": {},
   "outputs": [],
   "source": []
  }
 ],
 "metadata": {
  "kernelspec": {
   "display_name": "Python 3",
   "language": "python",
   "name": "python3"
  },
  "language_info": {
   "codemirror_mode": {
    "name": "ipython",
    "version": 3
   },
   "file_extension": ".py",
   "mimetype": "text/x-python",
   "name": "python",
   "nbconvert_exporter": "python",
   "pygments_lexer": "ipython3",
   "version": "3.6.5"
  }
 },
 "nbformat": 4,
 "nbformat_minor": 2
}
