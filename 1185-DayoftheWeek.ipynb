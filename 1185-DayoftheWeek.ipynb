{
 "cells": [
  {
   "cell_type": "markdown",
   "metadata": {},
   "source": [
    "# 1185. Day of the Week\n",
    "\n",
    "Given a date, return the corresponding day of the week for that date.\n",
    "\n",
    "The input is given as three integers representing the day, month and year respectively.\n",
    "\n",
    "Return the answer as one of the following values {\"Sunday\", \"Monday\", \"Tuesday\", \"Wednesday\", \"Thursday\", \"Friday\", \"Saturday\"}.\n",
    "\n",
    " \n",
    "\n",
    "Example 1:\n",
    "\n",
    "Input: day = 31, month = 8, year = 2019\n",
    "Output: \"Saturday\"\n",
    "Example 2:\n",
    "\n",
    "Input: day = 18, month = 7, year = 1999\n",
    "Output: \"Sunday\"\n",
    "Example 3:\n",
    "\n",
    "Input: day = 15, month = 8, year = 1993\n",
    "Output: \"Sunday\""
   ]
  },
  {
   "cell_type": "markdown",
   "metadata": {},
   "source": [
    "**zeller's algorithm**:\n",
    "\n",
    "https://www.geeksforgeeks.org/zellers-congruence-find-day-date/\n",
    "\n",
    "https://www.interactive-maths.com/uploads/1/1/3/4/11345755/zellers_algorithm.pdf\n",
    "\n",
    "https://en.wikipedia.org/wiki/Zeller%27s_congruence\n",
    "\n",
    "h = (q + 13*(m+1)/5 + k + k/4 + j/4 + 5*j) % 7\n",
    "\n",
    "h is the day of the week (0 = Saturday, 1 = Sunday, 2 = Monday, …, 6 = Friday)\n",
    "\n",
    "q is the day of the month\n",
    "\n",
    "m is the month (3 = March, 4 = April, 5 = May, …, 14 = February)\n",
    "\n",
    "K the year of the century ( year % 100).\n",
    "\n",
    "J is the zero-based century (actually ⌊ year/100 ⌋ ) For example, the zero-based centuries for 1995 and 2000 are 19 and 20 respectively (to not be confused with the common ordinal century enumeration which indicates 20th for both cases).\n",
    "\n",
    "**conway's algorithm**:\n",
    "\n",
    "https://www.youtube.com/watch?v=714LTMNJy5M"
   ]
  },
  {
   "cell_type": "code",
   "execution_count": 12,
   "metadata": {},
   "outputs": [],
   "source": [
    "def dayOfTheWeek(day: int, month: int, year: int) -> str:\n",
    "    q = day\n",
    "    if month==1 or month==2:\n",
    "        m = month + 12\n",
    "        year -= 1\n",
    "    else:\n",
    "        m = month\n",
    "    k = year%100\n",
    "    j = year//100\n",
    "    h = (q + 13*(m+1)//5 + k + k//4 + j//4 + 5*j)%7\n",
    "    week = [\"Saturday\", \"Sunday\", \"Monday\", \"Tuesday\", \"Wednesday\", \"Thursday\", \"Friday\"]\n",
    "    return week[h]"
   ]
  },
  {
   "cell_type": "code",
   "execution_count": 13,
   "metadata": {},
   "outputs": [
    {
     "name": "stdout",
     "output_type": "stream",
     "text": [
      "Saturday\n",
      "Monday\n"
     ]
    }
   ],
   "source": [
    "print(dayOfTheWeek(31,8,2019)) ##Satyrday\n",
    "print(dayOfTheWeek(29,2,2016)) ## Monday"
   ]
  },
  {
   "cell_type": "code",
   "execution_count": null,
   "metadata": {},
   "outputs": [],
   "source": []
  }
 ],
 "metadata": {
  "kernelspec": {
   "display_name": "Python 3",
   "language": "python",
   "name": "python3"
  },
  "language_info": {
   "codemirror_mode": {
    "name": "ipython",
    "version": 3
   },
   "file_extension": ".py",
   "mimetype": "text/x-python",
   "name": "python",
   "nbconvert_exporter": "python",
   "pygments_lexer": "ipython3",
   "version": "3.6.5"
  }
 },
 "nbformat": 4,
 "nbformat_minor": 2
}
