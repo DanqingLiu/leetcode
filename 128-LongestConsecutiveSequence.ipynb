{
 "cells": [
  {
   "cell_type": "markdown",
   "metadata": {},
   "source": [
    "# 128. Longest Consecutive Sequence\n",
    "\n",
    "Given an unsorted array of integers, find the length of the longest consecutive elements sequence.\n",
    "\n",
    "Your algorithm should run in O(n) complexity.\n",
    "\n",
    "Example:\n",
    "\n",
    "Input: [100, 4, 200, 1, 3, 2]\n",
    "Output: 4\n",
    "Explanation: The longest consecutive elements sequence is [1, 2, 3, 4]. Therefore its length is 4."
   ]
  },
  {
   "cell_type": "markdown",
   "metadata": {},
   "source": [
    "## Mark each number '1' in a new array, \n",
    "for example [1,2,3,5,7] can represented by [0,1,1,1,0,1,0,1]\n",
    "\n",
    "nums = [2147483646,-2147483647,0,2,2147483644,-2147483645,2147483645] has \"memory error\" in line \"mark_list = neg_list + pos_list\""
   ]
  },
  {
   "cell_type": "code",
   "execution_count": 36,
   "metadata": {},
   "outputs": [],
   "source": [
    "def longestConsecutive(nums):\n",
    "    if not nums:\n",
    "        return 0\n",
    "    if len(nums)==1:\n",
    "        return 1\n",
    "    max_num = max(nums)\n",
    "    min_num = min(nums)\n",
    "    if max_num < 0:\n",
    "        pos_list = []\n",
    "        neg_list = [0] * (-min_num)\n",
    "        for i in range(len(nums)):\n",
    "            num = nums[i]\n",
    "            neg_list[num - min_num] = 1\n",
    "            \n",
    "    elif min_num > 0:\n",
    "        pos_list = [0] * (max_num+1)\n",
    "        neg_list = []\n",
    "        for i in range(len(nums)):\n",
    "            num = nums[i]\n",
    "            pos_list[num] = 1\n",
    "            \n",
    "    else:    \n",
    "        pos_list = [0] * (max_num+1)\n",
    "        neg_list = [0] * (-min_num)\n",
    "        for i in range(len(nums)):\n",
    "            num = nums[i]\n",
    "            if num < 0:\n",
    "                neg_list[num - min_num] = 1   \n",
    "            else:\n",
    "                pos_list[num] = 1\n",
    "     \n",
    "    mark_list = neg_list + pos_list\n",
    "    start, end = 0, 0\n",
    "    longest_length = 0\n",
    "#     print(mark_list, len(mark_list))\n",
    "    while end < len(mark_list)-1:\n",
    "#         print('start, end: ', start, end)\n",
    "\n",
    "        while mark_list[end] == 1:\n",
    "            end = end+1\n",
    "            if end ==len(mark_list)-1:\n",
    "                end = end+1\n",
    "                break\n",
    "            \n",
    "        length = end -start\n",
    "        if length > longest_length:\n",
    "            longest_length = length\n",
    "            \n",
    "        while end < len(mark_list)-1 and mark_list[end] == 0:\n",
    "            end = end+1\n",
    "        start = end\n",
    "\n",
    "    \n",
    "    return longest_length\n",
    "    "
   ]
  },
  {
   "cell_type": "code",
   "execution_count": 38,
   "metadata": {},
   "outputs": [
    {
     "ename": "MemoryError",
     "evalue": "",
     "output_type": "error",
     "traceback": [
      "\u001b[1;31m---------------------------------------------------------------------------\u001b[0m",
      "\u001b[1;31mMemoryError\u001b[0m                               Traceback (most recent call last)",
      "\u001b[1;32m<ipython-input-38-ee88a1769c7e>\u001b[0m in \u001b[0;36m<module>\u001b[1;34m()\u001b[0m\n\u001b[0;32m      5\u001b[0m \u001b[1;31m# nums = [0]\u001b[0m\u001b[1;33m\u001b[0m\u001b[1;33m\u001b[0m\u001b[0m\n\u001b[0;32m      6\u001b[0m \u001b[0mnums\u001b[0m \u001b[1;33m=\u001b[0m \u001b[1;33m[\u001b[0m\u001b[1;36m2147483646\u001b[0m\u001b[1;33m,\u001b[0m\u001b[1;33m-\u001b[0m\u001b[1;36m2147483647\u001b[0m\u001b[1;33m,\u001b[0m\u001b[1;36m0\u001b[0m\u001b[1;33m,\u001b[0m\u001b[1;36m2\u001b[0m\u001b[1;33m,\u001b[0m\u001b[1;36m2147483644\u001b[0m\u001b[1;33m,\u001b[0m\u001b[1;33m-\u001b[0m\u001b[1;36m2147483645\u001b[0m\u001b[1;33m,\u001b[0m\u001b[1;36m2147483645\u001b[0m\u001b[1;33m]\u001b[0m\u001b[1;33m\u001b[0m\u001b[0m\n\u001b[1;32m----> 7\u001b[1;33m \u001b[0mprint\u001b[0m\u001b[1;33m(\u001b[0m\u001b[0mlongestConsecutive\u001b[0m\u001b[1;33m(\u001b[0m\u001b[0mnums\u001b[0m\u001b[1;33m)\u001b[0m\u001b[1;33m)\u001b[0m\u001b[1;33m\u001b[0m\u001b[0m\n\u001b[0m",
      "\u001b[1;32m<ipython-input-36-72cbcdfb9a54>\u001b[0m in \u001b[0;36mlongestConsecutive\u001b[1;34m(nums)\u001b[0m\n\u001b[0;32m     30\u001b[0m                 \u001b[0mpos_list\u001b[0m\u001b[1;33m[\u001b[0m\u001b[0mnum\u001b[0m\u001b[1;33m]\u001b[0m \u001b[1;33m=\u001b[0m \u001b[1;36m1\u001b[0m\u001b[1;33m\u001b[0m\u001b[0m\n\u001b[0;32m     31\u001b[0m \u001b[1;33m\u001b[0m\u001b[0m\n\u001b[1;32m---> 32\u001b[1;33m     \u001b[0mmark_list\u001b[0m \u001b[1;33m=\u001b[0m \u001b[0mneg_list\u001b[0m \u001b[1;33m+\u001b[0m \u001b[0mpos_list\u001b[0m\u001b[1;33m\u001b[0m\u001b[0m\n\u001b[0m\u001b[0;32m     33\u001b[0m     \u001b[0mstart\u001b[0m\u001b[1;33m,\u001b[0m \u001b[0mend\u001b[0m \u001b[1;33m=\u001b[0m \u001b[1;36m0\u001b[0m\u001b[1;33m,\u001b[0m \u001b[1;36m0\u001b[0m\u001b[1;33m\u001b[0m\u001b[0m\n\u001b[0;32m     34\u001b[0m     \u001b[0mlongest_length\u001b[0m \u001b[1;33m=\u001b[0m \u001b[1;36m0\u001b[0m\u001b[1;33m\u001b[0m\u001b[0m\n",
      "\u001b[1;31mMemoryError\u001b[0m: "
     ]
    }
   ],
   "source": [
    "# nums = [6,4,9,1,3,2]\n",
    "# nums = [-6,-4,-9,-1,-3,-2]\n",
    "# nums = [-6,-4,-9,-1,-3,-2,0,6,4,9,1,3,2]\n",
    "# nums = []\n",
    "# nums = [0]\n",
    "nums = [2147483646,-2147483647,0,2,2147483644,-2147483645,2147483645]\n",
    "print(longestConsecutive(nums))"
   ]
  },
  {
   "cell_type": "code",
   "execution_count": 2,
   "metadata": {},
   "outputs": [],
   "source": [
    "# abs(-2147483647) + 2147483646 + 1\n",
    "# import sys\n",
    "# print(sys.maxsize)\n",
    "neg_list = [0] * 2147483647\n",
    "pos_list = [0] * 2147483646\n"
   ]
  },
  {
   "cell_type": "code",
   "execution_count": 4,
   "metadata": {},
   "outputs": [
    {
     "ename": "MemoryError",
     "evalue": "",
     "output_type": "error",
     "traceback": [
      "\u001b[1;31m---------------------------------------------------------------------------\u001b[0m",
      "\u001b[1;31mMemoryError\u001b[0m                               Traceback (most recent call last)",
      "\u001b[1;32m<ipython-input-4-64cb106b4a1e>\u001b[0m in \u001b[0;36m<module>\u001b[1;34m()\u001b[0m\n\u001b[0;32m      1\u001b[0m \u001b[1;31m# print(len(neg_list), len(pos_list))\u001b[0m\u001b[1;33m\u001b[0m\u001b[1;33m\u001b[0m\u001b[0m\n\u001b[1;32m----> 2\u001b[1;33m \u001b[0mmark_list\u001b[0m \u001b[1;33m=\u001b[0m \u001b[0mneg_list\u001b[0m \u001b[1;33m+\u001b[0m \u001b[0mpos_list\u001b[0m\u001b[1;33m\u001b[0m\u001b[0m\n\u001b[0m",
      "\u001b[1;31mMemoryError\u001b[0m: "
     ]
    }
   ],
   "source": [
    "# print(len(neg_list), len(pos_list))\n",
    "mark_list = neg_list + pos_list"
   ]
  },
  {
   "cell_type": "markdown",
   "metadata": {},
   "source": [
    "### Approach 3: HashSet and Intelligent Sequence Building in https://leetcode.com/problems/longest-consecutive-sequence/solution/.  Awesome!!\n",
    "Intuition\n",
    "\n",
    "It turns out that our initial brute force solution was on the right track, but missing a few optimizations necessary to reach O(n)O(n) time complexity.\n",
    "\n",
    "Algorithm\n",
    "\n",
    "This optimized algorithm contains only two changes from the brute force approach: the numbers are stored in a HashSet (or Set, in Python) to allow O(1)O(1) lookups, and we only attempt to build sequences from numbers that are not already part of a longer sequence. This is accomplished by first ensuring that the number that would immediately precede the current number in a sequence is not present, as that number would necessarily be part of a longer sequence."
   ]
  },
  {
   "cell_type": "code",
   "execution_count": 5,
   "metadata": {},
   "outputs": [],
   "source": [
    "def longestConsecutive(nums):\n",
    "    longest_length = 0\n",
    "    nums_set = set(nums)\n",
    "    for num in nums_set:\n",
    "        if num-1 not in nums_set:\n",
    "            current_num = num\n",
    "            current_length = 1\n",
    "            \n",
    "            while current_num+1 in nums_set:\n",
    "                current_num = current_num+1\n",
    "                current_length += 1\n",
    "            if current_length > longest_length:\n",
    "                longest_length = current_length\n",
    "    return longest_length"
   ]
  },
  {
   "cell_type": "code",
   "execution_count": 13,
   "metadata": {},
   "outputs": [
    {
     "name": "stdout",
     "output_type": "stream",
     "text": [
      "1\n"
     ]
    }
   ],
   "source": [
    "nums = [2147483646,-2147483647,0,2,2147483644,-2147483645,2147483645]\n",
    "nums = [6,4,9,1,3,2]\n",
    "nums = [-6,-4,-9,-1,-3,-2]\n",
    "nums = [-6,-4,-9,-1,-3,-2,0,6,4,9,1,3,2]\n",
    "nums = []\n",
    "nums = [0]\n",
    "print(longestConsecutive(nums))"
   ]
  },
  {
   "cell_type": "code",
   "execution_count": null,
   "metadata": {},
   "outputs": [],
   "source": []
  }
 ],
 "metadata": {
  "kernelspec": {
   "display_name": "Python 3",
   "language": "python",
   "name": "python3"
  },
  "language_info": {
   "codemirror_mode": {
    "name": "ipython",
    "version": 3
   },
   "file_extension": ".py",
   "mimetype": "text/x-python",
   "name": "python",
   "nbconvert_exporter": "python",
   "pygments_lexer": "ipython3",
   "version": "3.6.5"
  }
 },
 "nbformat": 4,
 "nbformat_minor": 2
}
