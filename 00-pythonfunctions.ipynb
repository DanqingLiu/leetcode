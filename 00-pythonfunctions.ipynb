{
 "cells": [
  {
   "cell_type": "markdown",
   "metadata": {},
   "source": [
    "# https://www.tutorialspoint.com/python/python_functions.htm"
   ]
  },
  {
   "cell_type": "code",
   "execution_count": 10,
   "metadata": {},
   "outputs": [
    {
     "name": "stdout",
     "output_type": "stream",
     "text": [
      "0:  0x1da43e12a08 0x1da43e12ec8\n",
      "1:  [1, 2] [3, 4]\n",
      "1:  0x1da43e12a08 0x1da43e12ec8\n",
      "2:  [3, 4] [1, 2]\n",
      "2:  0x1da43e12ec8 0x1da43e12a08\n",
      "swap_int:  [1, 2] [3, 4]\n",
      "swap_int:  0x1da43e12a08 0x1da43e12ec8\n",
      "\n",
      "\n",
      "3:  [1, 2] [3, 4]\n",
      "3:  0x1da43e12a08 0x1da43e12ec8\n",
      "3, a[0], b[0]:  0x57936c40 0x57936c80\n",
      "4:  [3, 2] [1, 4]\n",
      "4:  0x1da43e12a08 0x1da43e12ec8\n",
      "4, a[0], b[0]:  0x57936c80 0x57936c40\n",
      "swap_list:  [3, 2] [1, 4]\n",
      "swap_list:  0x1da43e12a08 0x1da43e12ec8\n"
     ]
    }
   ],
   "source": [
    "def swap_int(a, b):\n",
    "    print('1: ',a, b)\n",
    "    print('1: ', hex(id(a)), hex(id(b)))\n",
    "    tmp = a\n",
    "    a = b\n",
    "    b = tmp\n",
    "    print('2: ',a, b)\n",
    "    print('2: ', hex(id(a)), hex(id(b)))\n",
    "    return True\n",
    "\n",
    "def swap_list(a, b):\n",
    "    print('3: ',a, b)\n",
    "    print('3: ', hex(id(a)), hex(id(b)))\n",
    "    print('3, a[0], b[0]: ', hex(id(a[0])), hex(id(b[0])))\n",
    "    tmp = a[0]\n",
    "    a[0] = b[0]\n",
    "    b[0] = tmp\n",
    "    print('4: ',a, b)\n",
    "    print('4: ', hex(id(a)), hex(id(b)))\n",
    "    print('4, a[0], b[0]: ', hex(id(a[0])), hex(id(b[0])))\n",
    "    return True\n",
    "\n",
    "a = [1, 2]\n",
    "b = [3, 4]\n",
    "print('0: ', hex(id(a)), hex(id(b)))\n",
    "\n",
    "swap_int(a, b)\n",
    "print('swap_int: ', a, b)\n",
    "print('swap_int: ', hex(id(a)), hex(id(b)))\n",
    "print('\\n')\n",
    "\n",
    "swap_list(a, b)\n",
    "print('swap_list: ', a, b)\n",
    "print('swap_list: ', hex(id(a)), hex(id(b)))"
   ]
  },
  {
   "cell_type": "code",
   "execution_count": null,
   "metadata": {},
   "outputs": [],
   "source": []
  }
 ],
 "metadata": {
  "kernelspec": {
   "display_name": "Python 3",
   "language": "python",
   "name": "python3"
  },
  "language_info": {
   "codemirror_mode": {
    "name": "ipython",
    "version": 3
   },
   "file_extension": ".py",
   "mimetype": "text/x-python",
   "name": "python",
   "nbconvert_exporter": "python",
   "pygments_lexer": "ipython3",
   "version": "3.6.5"
  }
 },
 "nbformat": 4,
 "nbformat_minor": 2
}
