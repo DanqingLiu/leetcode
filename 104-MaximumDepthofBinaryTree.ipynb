{
 "cells": [
  {
   "cell_type": "markdown",
   "metadata": {},
   "source": [
    "# 104. Maximum Depth of Binary Tree\n",
    "\n",
    "Given a binary tree, find its maximum depth.\n",
    "\n",
    "The maximum depth is the number of nodes along the longest path from the root node down to the farthest leaf node.\n",
    "\n",
    "Note: A leaf is a node with no children.\n",
    "\n",
    "Example:\n",
    "\n",
    "Given binary tree [3,9,20,null,null,15,7],\n",
    "\n",
    "    3\n",
    "   / \\\n",
    "  9  20\n",
    "    /  \\\n",
    "   15   7\n",
    "return its depth = 3."
   ]
  },
  {
   "cell_type": "code",
   "execution_count": 1,
   "metadata": {},
   "outputs": [],
   "source": [
    "class TreeNode:\n",
    "    def __init__(self, x):\n",
    "        self.val = x\n",
    "        self.left = None\n",
    "        self.right = None"
   ]
  },
  {
   "cell_type": "code",
   "execution_count": 10,
   "metadata": {},
   "outputs": [],
   "source": [
    "def maxDepth(root):\n",
    "    queue = [(root, 1)]\n",
    "    while queue:\n",
    "        node, i = queue.pop(0)\n",
    "        if not node:\n",
    "            continue\n",
    "        queue.append((node.left, i+1))\n",
    "        queue.append((node.right, i+1))\n",
    "\n",
    "    return i-1 "
   ]
  },
  {
   "cell_type": "code",
   "execution_count": 13,
   "metadata": {},
   "outputs": [
    {
     "name": "stdout",
     "output_type": "stream",
     "text": [
      "1\n"
     ]
    }
   ],
   "source": [
    "root = TreeNode(3)\n",
    "# root.left = TreeNode(9)\n",
    "# root.right = TreeNode(20)\n",
    "# root.right.left = TreeNode(15)\n",
    "# root.right.right = TreeNode(7)\n",
    "print(maxDepth(root))"
   ]
  },
  {
   "cell_type": "code",
   "execution_count": null,
   "metadata": {},
   "outputs": [],
   "source": []
  }
 ],
 "metadata": {
  "kernelspec": {
   "display_name": "Python 3",
   "language": "python",
   "name": "python3"
  },
  "language_info": {
   "codemirror_mode": {
    "name": "ipython",
    "version": 3
   },
   "file_extension": ".py",
   "mimetype": "text/x-python",
   "name": "python",
   "nbconvert_exporter": "python",
   "pygments_lexer": "ipython3",
   "version": "3.6.5"
  }
 },
 "nbformat": 4,
 "nbformat_minor": 2
}
