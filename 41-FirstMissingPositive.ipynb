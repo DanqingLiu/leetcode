{
 "cells": [
  {
   "cell_type": "markdown",
   "metadata": {},
   "source": [
    "# 41. First Missing Positive\n",
    "\n",
    "\n",
    "Given an unsorted integer array, find the smallest missing positive integer.\n",
    "\n",
    "Example 1:\n",
    "\n",
    "Input: [1,2,0]\n",
    "Output: 3\n",
    "\n",
    "Example 2:\n",
    "\n",
    "Input: [3,4,-1,1]\n",
    "Output: 2\n",
    "\n",
    "Example 3:\n",
    "\n",
    "Input: [7,8,9,11,12]\n",
    "Output: 1\n",
    "\n",
    "Note:\n",
    "\n",
    "Your algorithm should run in O(n) time and uses constant extra space."
   ]
  },
  {
   "cell_type": "markdown",
   "metadata": {},
   "source": [
    "## Solution refer to https://www.geeksforgeeks.org/find-the-smallest-positive-number-missing-from-an-unsorted-array/\n",
    "\n",
    "## Approach 1\n",
    "\n",
    "1) Segregate positive numbers from others i.e., move all non-positive numbers to left side. In the following code, segregate() function does this part.\n",
    "\n",
    "2) Now we can ignore non-positive elements and consider only the part of array which contains all positive elements. We traverse the array containing all positive numbers and to mark presence of an element x, we change the sign of value at index x to negative. We traverse the array again and print the first index which has positive value. In the following code, findMissingPositive() function does this part. Note that in findMissingPositive, we have subtracted 1 from the values as indexes start from 0 in C.\n",
    "\n",
    "### This solution is hard to intuitively understand in the first look, it is amazing that people comes to this solution!!! "
   ]
  },
  {
   "cell_type": "code",
   "execution_count": 2,
   "metadata": {},
   "outputs": [],
   "source": [
    "# https://en.wikipedia.org/wiki/XOR_swap_algorithm  ---> *** a clear explaination of why XOR can swap, like magic ***\n",
    "def swap(alist, i, j):\n",
    "    alist[i], alist[j] = alist[j], alist[i]\n",
    "    return alist"
   ]
  },
  {
   "cell_type": "code",
   "execution_count": 3,
   "metadata": {},
   "outputs": [
    {
     "name": "stdout",
     "output_type": "stream",
     "text": [
      "[4, 3, -1, 1]\n"
     ]
    }
   ],
   "source": [
    "l = [3, 4, -1, 1]\n",
    "swap(l, 0, 1)\n",
    "print(l)"
   ]
  },
  {
   "cell_type": "code",
   "execution_count": 38,
   "metadata": {},
   "outputs": [],
   "source": [
    "def segregate(nums): \n",
    "    j = 0\n",
    "    for i in range(len(nums)):\n",
    "        if nums[i] <= 0:\n",
    "            swap(nums, i, j)\n",
    "            j = j+1\n",
    "    return nums, j"
   ]
  },
  {
   "cell_type": "code",
   "execution_count": 39,
   "metadata": {},
   "outputs": [
    {
     "data": {
      "text/plain": [
       "([0, 2, 1], 1)"
      ]
     },
     "execution_count": 39,
     "metadata": {},
     "output_type": "execute_result"
    }
   ],
   "source": [
    "segregate(l)"
   ]
  },
  {
   "cell_type": "code",
   "execution_count": 40,
   "metadata": {},
   "outputs": [],
   "source": [
    "def firstMissingSmallest(nums):\n",
    "    # find whether the index of array exist in the array, nad mark it using '-'\n",
    "    n = len(nums)\n",
    "    for i in range(n):\n",
    "        if abs(nums[i]) - 1 < n and nums[abs(nums[i]) - 1] > 0:\n",
    "            nums[abs(nums[i]) - 1] = -nums[abs(nums[i]) - 1]\n",
    "        \n",
    "    for i in range(n):\n",
    "        if nums[i] > 0:\n",
    "            return i+1\n",
    "    return n+1        "
   ]
  },
  {
   "cell_type": "code",
   "execution_count": 41,
   "metadata": {},
   "outputs": [],
   "source": [
    "l = [1,2,0]"
   ]
  },
  {
   "cell_type": "code",
   "execution_count": 44,
   "metadata": {},
   "outputs": [],
   "source": [
    "def firstMissingPositive(nums):\n",
    "    nums, j = segregate(nums)\n",
    "    return firstMissingSmallest(nums[j:])\n",
    "    "
   ]
  },
  {
   "cell_type": "code",
   "execution_count": 45,
   "metadata": {},
   "outputs": [
    {
     "name": "stdout",
     "output_type": "stream",
     "text": [
      "3\n"
     ]
    }
   ],
   "source": [
    "print(firstMissingPositive(l))"
   ]
  },
  {
   "cell_type": "markdown",
   "metadata": {},
   "source": [
    "## Approach 2: \n",
    "\n",
    "Using the marking method as approach 1, but instead of segregate negative intergers, change all negative to 0"
   ]
  },
  {
   "cell_type": "code",
   "execution_count": 65,
   "metadata": {},
   "outputs": [],
   "source": [
    "def firstMissingPositive(nums):\n",
    "    n = len(nums)\n",
    "    for i in range(n):\n",
    "        if nums[i] < 0:\n",
    "            nums[i] = 0\n",
    "            \n",
    "    for i in range(n):\n",
    "        print(nums)\n",
    "        if nums[i] == 0: \n",
    "            continue\n",
    "        if nums[i] < 0 and abs(nums[i]) - 1 == i:\n",
    "            continue\n",
    "        if abs(nums[i]) - 1 < n and nums[abs(nums[i]) - 1] > 0:\n",
    "            nums[abs(nums[i]) - 1] = -nums[abs(nums[i]) - 1]\n",
    "        if abs(nums[i]) - 1 < n and nums[abs(nums[i]) - 1] == 0:\n",
    "            nums[abs(nums[i]) - 1] = -abs(nums[i])\n",
    "        \n",
    "    for i in range(n):\n",
    "        if nums[i] >= 0:\n",
    "            return i+1\n",
    "    return n+1"
   ]
  },
  {
   "cell_type": "code",
   "execution_count": 66,
   "metadata": {},
   "outputs": [
    {
     "name": "stdout",
     "output_type": "stream",
     "text": [
      "[3, 4, 0, 1]\n",
      "[3, 4, -3, 1]\n",
      "[3, 4, -3, -1]\n",
      "[3, 4, -3, -1]\n",
      "2\n"
     ]
    }
   ],
   "source": [
    "l = [3,4,-1,1]\n",
    "print(firstMissingPositive(l))"
   ]
  }
 ],
 "metadata": {
  "kernelspec": {
   "display_name": "Python 3",
   "language": "python",
   "name": "python3"
  },
  "language_info": {
   "codemirror_mode": {
    "name": "ipython",
    "version": 3
   },
   "file_extension": ".py",
   "mimetype": "text/x-python",
   "name": "python",
   "nbconvert_exporter": "python",
   "pygments_lexer": "ipython3",
   "version": "3.6.5"
  }
 },
 "nbformat": 4,
 "nbformat_minor": 2
}
