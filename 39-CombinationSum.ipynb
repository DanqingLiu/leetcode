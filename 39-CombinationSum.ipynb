{
 "cells": [
  {
   "cell_type": "markdown",
   "metadata": {},
   "source": [
    "# 39. Combination Sum\n",
    "\n",
    "Given a set of candidate numbers (candidates) (without duplicates) and a target number (target), find all unique combinations in candidates where the candidate numbers sums to target.\n",
    "\n",
    "The same repeated number may be chosen from candidates unlimited number of times.\n",
    "\n",
    "Note:\n",
    "\n",
    "All numbers (including target) will be positive integers.\n",
    "The solution set must not contain duplicate combinations.\n",
    "Example 1:\n",
    "\n",
    "Input: candidates = [2,3,6,7], target = 7,\n",
    "A solution set is:\n",
    "[\n",
    "  [7],\n",
    "  [2,2,3]\n",
    "]\n",
    "Example 2:\n",
    "\n",
    "Input: candidates = [2,3,5], target = 8,\n",
    "A solution set is:\n",
    "[\n",
    "  [2,2,2,2],\n",
    "  [2,3,3],\n",
    "  [3,5]\n",
    "]\n"
   ]
  },
  {
   "cell_type": "markdown",
   "metadata": {},
   "source": [
    "Have no clue for this problem 07-10-2019, read below solution. \n",
    "\n",
    "https://www.geeksforgeeks.org/combinational-sum/\n",
    "\n",
    "Instead of using recursion, use dynamic programming here."
   ]
  },
  {
   "cell_type": "code",
   "execution_count": 69,
   "metadata": {},
   "outputs": [],
   "source": [
    "def combinationSum_rec(candidates, target):\n",
    "    if not candidates:\n",
    "        return []\n",
    "    candidates.sort()\n",
    "    dp = {x: [] for x in range(target+1)}\n",
    "    for y in range(1, candidates[0], 1):\n",
    "        dp.pop(y, None)\n",
    "\n",
    "\n",
    "    for i in range(candidates[0], target+1, 1):\n",
    "        for num in candidates:\n",
    "            if i - num >= 0:\n",
    "                if i-num not in dp:\n",
    "                    \n",
    "                    continue\n",
    "                else:\n",
    "                    if not dp[i-num]:\n",
    "                        dp[i].append([num])\n",
    "                    else:\n",
    "                        for sublist in dp[i-num]:\n",
    "\n",
    "                            tmp = [num] + sublist\n",
    "                            dp[i].append(tmp)\n",
    "        if not dp[i]:\n",
    "            dp.pop(i, None)\n",
    "\n",
    "#     print(dp)\n",
    "    solutionset = []\n",
    "    if target not in dp:\n",
    "        return []\n",
    "    for com in dp[target]:\n",
    "        com.sort()\n",
    "        if com in solutionset:\n",
    "            continue\n",
    "        solutionset.append(com)\n",
    "    return solutionset"
   ]
  },
  {
   "cell_type": "markdown",
   "metadata": {},
   "source": [
    "09/16/2019, review this question, refer to \n",
    "\n",
    "https://leetcode.com/problems/combination-sum/discuss/16510/Python-dfs-solution.\n",
    "\n",
    "https://leetcode.com/problems/combination-sum/discuss/16554/Share-My-Python-Solution-beating-98.17\n",
    "\n",
    "https://www.youtube.com/watch?v=irFtGMLbf-s  ---> A very clearly explained youtube channel.\n",
    "\n",
    "A subset problem which is a depth first search problem.\n"
   ]
  },
  {
   "cell_type": "code",
   "execution_count": 31,
   "metadata": {},
   "outputs": [],
   "source": [
    "def toFindCombinationtoTarget(results, candidates, combination, target, startIndex):\n",
    "#     print(results, '---', combination, '---', target, '---', startIndex)\n",
    "    if target == 0:\n",
    "        findone = combination[:] ## deep copy\n",
    "        results.append(findone)        \n",
    "#         print('Append: ', findone, 'to', results)        \n",
    "        return\n",
    "    \n",
    "    for i in range(startIndex, len(candidates)):\n",
    "        if candidates[i] > target:\n",
    "            break\n",
    "        combination.append(candidates[i])\n",
    "        toFindCombinationtoTarget(results, candidates, combination, target - candidates[i], i)\n",
    "        combination.pop()\n",
    "    return\n",
    "        \n",
    "def combinationSum(candidates, target):\n",
    "    if not candidates:\n",
    "        return []\n",
    "    \n",
    "    candidates.sort()\n",
    "    results = [] ## will be list of list\n",
    "    combination = [] ## will be list of int\n",
    "#     startIndex = 0\n",
    "    toFindCombinationtoTarget(results, candidates, combination, target, 0) ## DFS search\n",
    "    \n",
    "    return results\n",
    "    "
   ]
  },
  {
   "cell_type": "code",
   "execution_count": 32,
   "metadata": {},
   "outputs": [
    {
     "name": "stdout",
     "output_type": "stream",
     "text": [
      "Append:  [2, 2, 2, 2] to [[2, 2, 2, 2]]\n",
      "Append:  [2, 3, 3] to [[2, 2, 2, 2], [2, 3, 3]]\n",
      "Append:  [3, 5] to [[2, 2, 2, 2], [2, 3, 3], [3, 5]]\n",
      "[[2, 2, 2, 2], [2, 3, 3], [3, 5]]\n"
     ]
    }
   ],
   "source": [
    "candidates = [2,3,5]\n",
    "target = 8\n",
    "print(combinationSum(candidates, target))"
   ]
  },
  {
   "cell_type": "code",
   "execution_count": null,
   "metadata": {},
   "outputs": [],
   "source": []
  }
 ],
 "metadata": {
  "kernelspec": {
   "display_name": "Python 3",
   "language": "python",
   "name": "python3"
  },
  "language_info": {
   "codemirror_mode": {
    "name": "ipython",
    "version": 3
   },
   "file_extension": ".py",
   "mimetype": "text/x-python",
   "name": "python",
   "nbconvert_exporter": "python",
   "pygments_lexer": "ipython3",
   "version": "3.6.5"
  }
 },
 "nbformat": 4,
 "nbformat_minor": 2
}
