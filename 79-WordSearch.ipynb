{
 "cells": [
  {
   "cell_type": "markdown",
   "metadata": {},
   "source": [
    "# 79. Word Search\n",
    "\n",
    "Given a 2D board and a word, find if the word exists in the grid.\n",
    "\n",
    "The word can be constructed from letters of sequentially adjacent cell, where \"adjacent\" cells are those horizontally or vertically neighboring. The same letter cell may not be used more than once.\n",
    "\n",
    "Example:\n",
    "\n",
    "board =\n",
    "[\n",
    "  ['A','B','C','E'],\n",
    "  ['S','F','C','S'],\n",
    "  ['A','D','E','E']\n",
    "]\n",
    "\n",
    "Given word = \"ABCCED\", return true.\n",
    "Given word = \"SEE\", return true.\n",
    "Given word = \"ABCB\", return false."
   ]
  },
  {
   "cell_type": "code",
   "execution_count": 51,
   "metadata": {},
   "outputs": [],
   "source": [
    "##Time limit exceeded for test case https://leetcode.com/submissions/detail/245849507/testcase/\n",
    "def dfs(board, word, i, j, visited):\n",
    "    if len(word)==1 and word[0]==board[i][j]:\n",
    "        return True    \n",
    "    \n",
    "    m = len(board)\n",
    "    n = len(board[0])\n",
    "    \n",
    "    \n",
    "    if word[0]!=board[i][j]:\n",
    "        return False\n",
    "    else:\n",
    "        visited[i][j] = 1\n",
    "#         print(\"-----------------\")\n",
    "        if i-1>=0:\n",
    "            \n",
    "            if visited[i-1][j] == 0:\n",
    "#                 print(\"up~~~\")\n",
    "                isexist = dfs(board, word[1:], i-1, j, visited)\n",
    "                if isexist:\n",
    "                    return True\n",
    "        if j-1>=0:\n",
    "            \n",
    "            if visited[i][j-1] == 0:\n",
    "#                 print(\"left~~~\")\n",
    "                isexist = dfs(board, word[1:], i, j-1, visited)\n",
    "                if isexist:\n",
    "                    return True\n",
    "        if i+1<m:\n",
    "            \n",
    "            if visited[i+1][j] == 0:\n",
    "#                 print(\"down~~~\")\n",
    "                isexist = dfs(board, word[1:], i+1, j, visited)\n",
    "                if isexist:\n",
    "                    return True\n",
    "        if j+1<n:\n",
    "            \n",
    "            if visited[i][j+1] == 0:\n",
    "#                 print(\"right~~~\")\n",
    "                isexist = dfs(board, word[1:], i, j+1, visited)\n",
    "                if isexist:\n",
    "                    return True\n",
    "        visited[i][j] = 0\n",
    "        return False\n",
    "            \n",
    "def exist(board, word):\n",
    "    m = len(board)\n",
    "    n = len(board[0])\n",
    "    \n",
    "    \n",
    "    isexist = False\n",
    "    for i in range(m):\n",
    "        for j in range(n):\n",
    "            visited = [[0 for x in range(n)] for y in range(m)]\n",
    "            isexist = dfs(board, word, i, j, visited)\n",
    "\n",
    "            if isexist:\n",
    "                return True\n",
    "    return False\n",
    "                "
   ]
  },
  {
   "cell_type": "markdown",
   "metadata": {},
   "source": [
    "## Solution from https://leetcode.com/problems/word-search/discuss/27658/Accepted-very-short-Java-solution.-No-additional-space."
   ]
  },
  {
   "cell_type": "code",
   "execution_count": 15,
   "metadata": {},
   "outputs": [],
   "source": [
    "def dfs(board, word, x, y, i):\n",
    "    if i==len(word):\n",
    "        return True\n",
    "    \n",
    "    m = len(board)\n",
    "    n = len(board[0])    \n",
    "    \n",
    "    if x<0 or y<0 or x==m or y==n:\n",
    "        return False\n",
    "    if board[x][y] != word[i]:\n",
    "        return False\n",
    "    tmp = board[x][y]\n",
    "    board[x][y] = \"#\"\n",
    "    isexist = dfs(board, word, x+1, y, i+1) or dfs(board, word, x, y+1, i+1) or dfs(board, word, x-1, y, i+1) or dfs(board, word, x, y-1, i+1)\n",
    "    board[x][y] = tmp\n",
    "    return isexist\n",
    "            \n",
    "def exist(board, word):\n",
    "    m = len(board)\n",
    "    n = len(board[0])    \n",
    "    for x in range(m):\n",
    "        for y in range(n):\n",
    "            if dfs(board, word, x, y, 0):\n",
    "                return True\n",
    "    return False"
   ]
  },
  {
   "cell_type": "code",
   "execution_count": 16,
   "metadata": {},
   "outputs": [
    {
     "name": "stdout",
     "output_type": "stream",
     "text": [
      "True\n"
     ]
    }
   ],
   "source": [
    "# board = [ ['A','B','C','E'], ['S','F','C','S'], ['A','D','E','E'] ]\n",
    "# word = \"ABCB\"\n",
    "\n",
    "# board = [[\"C\",\"A\",\"A\"],[\"A\",\"A\",\"A\"],[\"B\",\"C\",\"D\"]]\n",
    "# word = \"AAB\"\n",
    "\n",
    "\n",
    "board =[[\"A\",\"B\",\"C\",\"E\"],[\"S\",\"F\",\"E\",\"S\"],[\"A\",\"D\",\"E\",\"E\"]]\n",
    "word = \"ABCESEEEFS\"\n",
    "print(exist(board, word))"
   ]
  },
  {
   "cell_type": "code",
   "execution_count": null,
   "metadata": {},
   "outputs": [],
   "source": []
  }
 ],
 "metadata": {
  "kernelspec": {
   "display_name": "Python 3",
   "language": "python",
   "name": "python3"
  },
  "language_info": {
   "codemirror_mode": {
    "name": "ipython",
    "version": 3
   },
   "file_extension": ".py",
   "mimetype": "text/x-python",
   "name": "python",
   "nbconvert_exporter": "python",
   "pygments_lexer": "ipython3",
   "version": "3.6.5"
  }
 },
 "nbformat": 4,
 "nbformat_minor": 2
}
