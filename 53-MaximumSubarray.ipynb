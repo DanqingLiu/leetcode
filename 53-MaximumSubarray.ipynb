{
 "cells": [
  {
   "cell_type": "markdown",
   "metadata": {},
   "source": [
    "# 53. Maximum Subarray\n",
    "\n",
    "Given an integer array nums, find the contiguous subarray (containing at least one number) which has the largest sum and return its sum.\n",
    "\n",
    "Example:\n",
    "\n",
    "Input: [-2,1,-3,4,-1,2,1,-5,4],\n",
    "Output: 6\n",
    "Explanation: [4,-1,2,1] has the largest sum = 6.\n",
    "Follow up:\n",
    "\n",
    "If you have figured out the O(n) solution, try coding another solution using the divide and conquer approach, which is more subtle."
   ]
  },
  {
   "cell_type": "code",
   "execution_count": 1,
   "metadata": {},
   "outputs": [],
   "source": [
    "# def maxSubArray(nums):\n",
    "#     n = len(nums)\n",
    "#     ## find left\n",
    "#     left = 0\n",
    "#     sum_left = 0\n",
    "#     for i in range(n):\n",
    "#         if sum_left + nums[i] <= nums[i]:\n",
    "#             sum_left = nums[i]\n",
    "#             left = i\n",
    "#         else:\n",
    "#             sum_left = sum_left + nums[i]\n",
    "            \n",
    "#     ## find right\n",
    "#     right = n-1\n",
    "#     sum_right = 0\n",
    "#     for i in range(n-1, -1, -1):\n",
    "#         if sum_right + nums[i] <= nums[i]:\n",
    "#             sum_right = nums[i]\n",
    "#             right = i\n",
    "#         else:\n",
    "#             sum_right = sum_right + nums[i]\n",
    "    \n",
    "#     print(left, right)\n",
    "#     if left > right:## all nums are negative\n",
    "#         return max(nums)\n",
    "    \n",
    "#     largest = 0        \n",
    "#     for i in range(left, right+1, 1):\n",
    "#         largest = largest + nums[i]\n",
    "#     return largest"
   ]
  },
  {
   "cell_type": "code",
   "execution_count": 3,
   "metadata": {},
   "outputs": [
    {
     "name": "stdout",
     "output_type": "stream",
     "text": [
      "4 1\n",
      "2\n"
     ]
    }
   ],
   "source": [
    "nums = [-2,1,-3,4,-1,2,1,-5,4]\n",
    "nums = [-2,-1]\n",
    "nums = [1,2,-1,-2,2,1,-2,1]\n",
    "print(maxSubArray(nums))"
   ]
  },
  {
   "cell_type": "markdown",
   "metadata": {},
   "source": [
    "## This problem can be solved using several different algorithmic techniques, including brute force, divide and conquer, dynamic programming, and reduction to shortest paths.\n",
    "\n",
    "https://en.wikipedia.org/wiki/Maximum_subarray_problem"
   ]
  },
  {
   "cell_type": "code",
   "execution_count": 14,
   "metadata": {},
   "outputs": [],
   "source": [
    "def maxSubArray(nums):\n",
    "    for i in range(1,len(nums)):\n",
    "        if nums[i-1]>0:\n",
    "            nums[i] += nums[i-1]\n",
    "    return max(nums)"
   ]
  },
  {
   "cell_type": "code",
   "execution_count": 15,
   "metadata": {},
   "outputs": [
    {
     "name": "stdout",
     "output_type": "stream",
     "text": [
      "3\n"
     ]
    }
   ],
   "source": [
    "nums = [-2,1,-3,4,-1,2,1,-5,4]\n",
    "nums = [-2,-1]\n",
    "nums = [1,2,-1,-2,2,1,-2,1]\n",
    "print(maxSubArray(nums))"
   ]
  },
  {
   "cell_type": "code",
   "execution_count": null,
   "metadata": {},
   "outputs": [],
   "source": []
  }
 ],
 "metadata": {
  "kernelspec": {
   "display_name": "Python 3",
   "language": "python",
   "name": "python3"
  },
  "language_info": {
   "codemirror_mode": {
    "name": "ipython",
    "version": 3
   },
   "file_extension": ".py",
   "mimetype": "text/x-python",
   "name": "python",
   "nbconvert_exporter": "python",
   "pygments_lexer": "ipython3",
   "version": "3.6.5"
  }
 },
 "nbformat": 4,
 "nbformat_minor": 2
}
