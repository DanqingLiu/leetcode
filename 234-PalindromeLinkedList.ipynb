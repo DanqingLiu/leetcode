{
 "cells": [
  {
   "cell_type": "markdown",
   "metadata": {},
   "source": [
    "# 234. Palindrome Linked List\n",
    "\n",
    "Given a singly linked list, determine if it is a palindrome.\n",
    "\n",
    "Example 1:\n",
    "\n",
    "Input: 1->2\n",
    "Output: false\n",
    "Example 2:\n",
    "\n",
    "Input: 1->2->2->1\n",
    "Output: true\n",
    "Follow up:\n",
    "Could you do it in O(n) time and O(1) space?"
   ]
  },
  {
   "cell_type": "code",
   "execution_count": 1,
   "metadata": {},
   "outputs": [],
   "source": [
    "class ListNode:\n",
    "    def __init__(self, x):\n",
    "        self.val = x\n",
    "        self.next = None\n",
    "\n",
    "    def reverseLinkedlist(head):\n",
    "        if not head.next:\n",
    "            return head\n",
    "        pre = head\n",
    "        cur = head.next\n",
    "        pos = cur.next\n",
    "        pre.next = None\n",
    "        while cur:\n",
    "            \n",
    "            cur.next = pre\n",
    "            pre = cur\n",
    "            cur = pos\n",
    "            \n",
    "            if pos:\n",
    "                pos = pos.next\n",
    "\n",
    "        return pre\n",
    "\n",
    "    def isPalindrome(head):\n",
    "        if not head:\n",
    "            return True        \n",
    "        if not head.next:\n",
    "            return True\n",
    "        \n",
    "        slow = head\n",
    "        fast = head.next\n",
    "        while fast and fast.next:\n",
    "            \n",
    "            slow = slow.next\n",
    "            fast = fast.next.next\n",
    "        ## reverse the last half linked list\n",
    "        sec = reverseLinkedlist(slow.next)\n",
    "        slow.next = None\n",
    "        \n",
    "        while sec:\n",
    "            if head.val == sec.val:\n",
    "                head = head.next\n",
    "                sec = sec.next\n",
    "            else:\n",
    "                return False\n",
    "        return True  "
   ]
  },
  {
   "cell_type": "code",
   "execution_count": null,
   "metadata": {},
   "outputs": [],
   "source": []
  }
 ],
 "metadata": {
  "kernelspec": {
   "display_name": "Python 3",
   "language": "python",
   "name": "python3"
  },
  "language_info": {
   "codemirror_mode": {
    "name": "ipython",
    "version": 3
   },
   "file_extension": ".py",
   "mimetype": "text/x-python",
   "name": "python",
   "nbconvert_exporter": "python",
   "pygments_lexer": "ipython3",
   "version": "3.6.5"
  }
 },
 "nbformat": 4,
 "nbformat_minor": 2
}
