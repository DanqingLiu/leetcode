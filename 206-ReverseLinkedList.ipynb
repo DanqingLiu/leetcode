{
 "cells": [
  {
   "cell_type": "markdown",
   "metadata": {},
   "source": [
    "# 206. Reverse Linked List\n",
    "\n",
    "Reverse a singly linked list.\n",
    "\n",
    "Example:\n",
    "\n",
    "Input: 1->2->3->4->5->NULL\n",
    "Output: 5->4->3->2->1->NULL\n",
    "Follow up:\n",
    "\n",
    "A linked list can be reversed either iteratively or recursively. Could you implement both?"
   ]
  },
  {
   "cell_type": "code",
   "execution_count": 1,
   "metadata": {},
   "outputs": [],
   "source": [
    "class ListNode(object):\n",
    "    def __init__(self, x):\n",
    "        self.val = x\n",
    "        self.next = None\n",
    "        \n"
   ]
  },
  {
   "cell_type": "code",
   "execution_count": 3,
   "metadata": {},
   "outputs": [],
   "source": [
    "## iterative\n",
    "def reverseList(head):\n",
    "    if not head:\n",
    "        return None\n",
    "    tail = head\n",
    "    head = head.next\n",
    "    tail.next = None\n",
    "\n",
    "    while head:\n",
    "        tmp = head\n",
    "        head = head.next\n",
    "        tmp.next = tail            \n",
    "        tail = tmp\n",
    "    return tail  \n",
    "        "
   ]
  },
  {
   "cell_type": "code",
   "execution_count": 4,
   "metadata": {},
   "outputs": [],
   "source": [
    "## recursive\n",
    "def reverseList(head):\n",
    "    if not head:\n",
    "        return None\n",
    "    if head.next is None:\n",
    "        return head\n",
    "\n",
    "    sub = reverseList(head.next)\n",
    "    tail = sub\n",
    "    while tail and tail.next:\n",
    "        tail = tail.next\n",
    "    tail.next = head\n",
    "    head.next = None\n",
    "    return sub\n"
   ]
  },
  {
   "cell_type": "markdown",
   "metadata": {},
   "source": [
    "Read https://leetcode.com/problems/reverse-linked-list/solution/"
   ]
  },
  {
   "cell_type": "code",
   "execution_count": null,
   "metadata": {},
   "outputs": [],
   "source": []
  }
 ],
 "metadata": {
  "kernelspec": {
   "display_name": "Python 3",
   "language": "python",
   "name": "python3"
  },
  "language_info": {
   "codemirror_mode": {
    "name": "ipython",
    "version": 3
   },
   "file_extension": ".py",
   "mimetype": "text/x-python",
   "name": "python",
   "nbconvert_exporter": "python",
   "pygments_lexer": "ipython3",
   "version": "3.6.5"
  }
 },
 "nbformat": 4,
 "nbformat_minor": 2
}
