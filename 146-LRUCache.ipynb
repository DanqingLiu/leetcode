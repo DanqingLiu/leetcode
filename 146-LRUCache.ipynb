{
 "cells": [
  {
   "cell_type": "markdown",
   "metadata": {},
   "source": [
    "# 146. LRU Cache\n",
    "\n",
    "Design and implement a data structure for Least Recently Used (LRU) cache. It should support the following operations: get and put.\n",
    "\n",
    "get(key) - Get the value (will always be positive) of the key if the key exists in the cache, otherwise return -1.\n",
    "put(key, value) - Set or insert the value if the key is not already present. When the cache reached its capacity, it should invalidate the least recently used item before inserting a new item.\n",
    "\n",
    "The cache is initialized with a positive capacity.\n",
    "\n",
    "Follow up:\n",
    "Could you do both operations in O(1) time complexity?\n",
    "\n",
    "Example:\n",
    "\n",
    "LRUCache cache = new LRUCache( 2 /* capacity */ );\n",
    "\n",
    "cache.put(1, 1);\n",
    "cache.put(2, 2);\n",
    "cache.get(1);       // returns 1\n",
    "cache.put(3, 3);    // evicts key 2\n",
    "cache.get(2);       // returns -1 (not found)\n",
    "cache.put(4, 4);    // evicts key 1\n",
    "cache.get(1);       // returns -1 (not found)\n",
    "cache.get(3);       // returns 3\n",
    "cache.get(4);       // returns 4"
   ]
  },
  {
   "cell_type": "code",
   "execution_count": 63,
   "metadata": {},
   "outputs": [],
   "source": [
    "### Time limit exceeded\n",
    "class LRUCache(object):\n",
    "\n",
    "    def __init__(self, capacity):\n",
    "        \"\"\"\n",
    "        :type capacity: int\n",
    "        \"\"\"\n",
    "        self.cache = {}\n",
    "        self.x = capacity\n",
    "        self.i = 0\n",
    "        self.age = []\n",
    "        self.lru = -1\n",
    "\n",
    "    def get(self, key):\n",
    "        \"\"\"\n",
    "        :type key: int\n",
    "        :rtype: int\n",
    "        \"\"\"\n",
    "        for k in self.cache:\n",
    "            self.cache[k][1] += 1\n",
    "            \n",
    "        if key in self.cache:\n",
    "            get_v = self.cache[key][0]\n",
    "            self.cache[key][1] = 0\n",
    "        else:\n",
    "            get_v = -1\n",
    "        \n",
    "        self.age = []\n",
    "        for k, v in self.cache.items():\n",
    "            self.age.append(v[1])\n",
    "        if self.age:\n",
    "            oldest = max(self.age)\n",
    "        \n",
    "        for k, v in self.cache.items():\n",
    "            if v[1] == oldest:\n",
    "                self.lru = k\n",
    "                break\n",
    "        \n",
    "        print(\"Get: \", self.cache)\n",
    "        return get_v\n",
    "\n",
    "    def put(self, key, value):\n",
    "        \"\"\"\n",
    "        :type key: int\n",
    "        :type value: int\n",
    "        :rtype: None\n",
    "        \"\"\"\n",
    "        for k in self.cache:\n",
    "            self.cache[k][1] += 1\n",
    "        \n",
    "        self.age = []\n",
    "        for k, v in self.cache.items():\n",
    "            self.age.append(v[1])\n",
    "        if self.age:\n",
    "            oldest = max(self.age)\n",
    "        \n",
    "        for k, v in self.cache.items():\n",
    "            if v[1] == oldest:\n",
    "                self.lru = k\n",
    "                break\n",
    "                \n",
    "        print(self.i, self.x)    \n",
    "        if key not in self.cache and self.i == self.x:\n",
    "            self.cache.pop(self.lru)\n",
    "            \n",
    "        if self.i<self.x and key not in self.cache:\n",
    "            self.i += 1              \n",
    "        self.cache.update({key:[value, 0]})\n",
    "        \n",
    "\n",
    "            \n",
    "        print(\"Put: \", self.cache)"
   ]
  },
  {
   "cell_type": "code",
   "execution_count": 13,
   "metadata": {},
   "outputs": [],
   "source": [
    "### Time limit exceeded\n",
    "class LRUCache(object):\n",
    "\n",
    "    def __init__(self, capacity):\n",
    "        \"\"\"\n",
    "        :type capacity: int\n",
    "        \"\"\"\n",
    "        self.cache = {}\n",
    "        self.x = capacity\n",
    "        self.age = {}\n",
    "\n",
    "    def get(self, key):\n",
    "        \"\"\"\n",
    "        :type key: int\n",
    "        :rtype: int\n",
    "        \"\"\"\n",
    "        print(\"get \", key)\n",
    "        for k_age in self.age:\n",
    "            self.age[k_age] += 1\n",
    "            \n",
    "        if key in self.cache:\n",
    "            self.age[key] = 0\n",
    "            get_v = self.cache[key]\n",
    "        else:\n",
    "            get_v = -1\n",
    "            \n",
    "        print('--age: ', self.age)\n",
    "        print('--cache: ', self.cache)  \n",
    "        return get_v\n",
    "    \n",
    "    def put(self, key, value):\n",
    "        \"\"\"\n",
    "        :type key: int\n",
    "        :type value: int\n",
    "        :rtype: None\n",
    "        \"\"\"\n",
    "        print('put: ', key, value)\n",
    "        for k_age in self.age:\n",
    "            self.age[k_age] += 1\n",
    "            \n",
    "        if key not in self.cache and len(self.cache) == self.x:\n",
    "            oldest = 0\n",
    "            for k_age in self.age:\n",
    "                if self.age[k_age] > oldest:\n",
    "                    oldest = self.age[k_age]\n",
    "                    k_oldest = k_age\n",
    "            self.cache.pop(k_oldest, None)\n",
    "            self.age.pop(k_oldest, None)\n",
    "        self.cache.update({key : value})\n",
    "        self.age.update({key : 0})\n",
    "        print('--age: ', self.age)\n",
    "        print('--cache: ', self.cache)              "
   ]
  },
  {
   "cell_type": "markdown",
   "metadata": {},
   "source": [
    "### Solution from https://leetcode.com/problems/lru-cache/discuss/45926/Python-Dict-%2B-Double-LinkedList"
   ]
  },
  {
   "cell_type": "code",
   "execution_count": 18,
   "metadata": {},
   "outputs": [],
   "source": [
    "class Node:\n",
    "    def __init__(self, k, v):\n",
    "        self.key = k\n",
    "        self.value = v\n",
    "        self.prev = None\n",
    "        self.next = None\n",
    "    \n",
    "class LRUCache:\n",
    "    def __init__(self, capacity: int):\n",
    "        self.capacity = capacity\n",
    "        self.head = Node(0, 0)\n",
    "        self.tail = Node(0, 0)\n",
    "        self.head.next = self.tail\n",
    "        self.tail.prev = self.head\n",
    "        self.dic = {}\n",
    "        \n",
    "    def _remove(self, node):\n",
    "        p = node.prev\n",
    "        n = node.next\n",
    "        p.next = n\n",
    "        n.prev = p\n",
    "    \n",
    "    def _add(self, node):\n",
    "        p = self.tail.prev\n",
    "        p.next = node\n",
    "        node.next = self.tail\n",
    "        node.prev = p\n",
    "        self.tail.prev = node\n",
    "        \n",
    "    def get(self, key: int) -> int:\n",
    "        if key in self.dic:\n",
    "            node = self.dic[key]\n",
    "            self._remove(node)\n",
    "            self._add(node)\n",
    "            return node.value               \n",
    "        return -1\n",
    "    \n",
    "    def put(self, key: int, value: int) -> None:\n",
    "        if key in self.dic:\n",
    "            node = self.dic[key]\n",
    "            self._remove(node)\n",
    "        n = Node(key, value)\n",
    "        self._add(n)\n",
    "        self.dic[key] = n\n",
    "        if len(self.dic) > self.capacity:\n",
    "            n = self.head.next\n",
    "            self._remove(n)\n",
    "            del self.dic[n.key]"
   ]
  },
  {
   "cell_type": "code",
   "execution_count": 19,
   "metadata": {},
   "outputs": [
    {
     "data": {
      "text/plain": [
       "4"
      ]
     },
     "execution_count": 19,
     "metadata": {},
     "output_type": "execute_result"
    }
   ],
   "source": [
    "# Your LRUCache object will be instantiated and called as such:\n",
    "obj = LRUCache(2)\n",
    "obj.put(1, 1)\n",
    "obj.put(2, 2)\n",
    "obj.get(1)\n",
    "obj.put(3, 3)\n",
    "obj.get(2)\n",
    "obj.put(4, 4)\n",
    "obj.get(1)\n",
    "obj.get(3)\n",
    "obj.get(4)"
   ]
  },
  {
   "cell_type": "code",
   "execution_count": 20,
   "metadata": {},
   "outputs": [
    {
     "data": {
      "text/plain": [
       "-1"
      ]
     },
     "execution_count": 20,
     "metadata": {},
     "output_type": "execute_result"
    }
   ],
   "source": [
    "obj = LRUCache(2)\n",
    "obj.get(0)"
   ]
  },
  {
   "cell_type": "code",
   "execution_count": 21,
   "metadata": {},
   "outputs": [
    {
     "data": {
      "text/plain": [
       "-1"
      ]
     },
     "execution_count": 21,
     "metadata": {},
     "output_type": "execute_result"
    }
   ],
   "source": [
    "obj = LRUCache(2)\n",
    "obj.put(2,1)\n",
    "obj.put(2,2)\n",
    "obj.get(2)\n",
    "obj.put(1,1)\n",
    "obj.put(4,1)\n",
    "obj.get(2)"
   ]
  },
  {
   "cell_type": "code",
   "execution_count": 22,
   "metadata": {},
   "outputs": [
    {
     "data": {
      "text/plain": [
       "3"
      ]
     },
     "execution_count": 22,
     "metadata": {},
     "output_type": "execute_result"
    }
   ],
   "source": [
    "obj = LRUCache(2)\n",
    "obj.put(2,1)\n",
    "obj.put(1,1)\n",
    "obj.put(2,3)\n",
    "obj.put(4,1)\n",
    "obj.get(1)\n",
    "obj.get(2)"
   ]
  },
  {
   "cell_type": "code",
   "execution_count": 23,
   "metadata": {},
   "outputs": [
    {
     "data": {
      "text/plain": [
       "[[2], [2], [2, 6], [1], [1, 5], [1, 2], [1], [2]]"
      ]
     },
     "execution_count": 23,
     "metadata": {},
     "output_type": "execute_result"
    }
   ],
   "source": [
    "\n",
    "[\"LRUCache\",\"get\",\"put\",\"get\",\"put\",\"put\",\"get\",\"get\"]\n",
    "[[2],[2],[2,6],[1],[1,5],[1,2],[1],[2]]"
   ]
  },
  {
   "cell_type": "code",
   "execution_count": 24,
   "metadata": {},
   "outputs": [
    {
     "data": {
      "text/plain": [
       "[[10],\n",
       " [10, 13],\n",
       " [3, 17],\n",
       " [6, 11],\n",
       " [10, 5],\n",
       " [9, 10],\n",
       " [13],\n",
       " [2, 19],\n",
       " [2],\n",
       " [3],\n",
       " [5, 25],\n",
       " [8],\n",
       " [9, 22],\n",
       " [5, 5],\n",
       " [1, 30],\n",
       " [11],\n",
       " [9, 12],\n",
       " [7],\n",
       " [5],\n",
       " [8],\n",
       " [9],\n",
       " [4, 30],\n",
       " [9, 3],\n",
       " [9],\n",
       " [10],\n",
       " [10],\n",
       " [6, 14],\n",
       " [3, 1],\n",
       " [3],\n",
       " [10, 11],\n",
       " [8],\n",
       " [2, 14],\n",
       " [1],\n",
       " [5],\n",
       " [4],\n",
       " [11, 4],\n",
       " [12, 24],\n",
       " [5, 18],\n",
       " [13],\n",
       " [7, 23],\n",
       " [8],\n",
       " [12],\n",
       " [3, 27],\n",
       " [2, 12],\n",
       " [5],\n",
       " [2, 9],\n",
       " [13, 4],\n",
       " [8, 18],\n",
       " [1, 7],\n",
       " [6],\n",
       " [9, 29],\n",
       " [8, 21],\n",
       " [5],\n",
       " [6, 30],\n",
       " [1, 12],\n",
       " [10],\n",
       " [4, 15],\n",
       " [7, 22],\n",
       " [11, 26],\n",
       " [8, 17],\n",
       " [9, 29],\n",
       " [5],\n",
       " [3, 4],\n",
       " [11, 30],\n",
       " [12],\n",
       " [4, 29],\n",
       " [3],\n",
       " [9],\n",
       " [6],\n",
       " [3, 4],\n",
       " [1],\n",
       " [10],\n",
       " [3, 29],\n",
       " [10, 28],\n",
       " [1, 20],\n",
       " [11, 13],\n",
       " [3],\n",
       " [3, 12],\n",
       " [3, 8],\n",
       " [10, 9],\n",
       " [3, 26],\n",
       " [8],\n",
       " [7],\n",
       " [5],\n",
       " [13, 17],\n",
       " [2, 27],\n",
       " [11, 15],\n",
       " [12],\n",
       " [9, 19],\n",
       " [2, 15],\n",
       " [3, 16],\n",
       " [1],\n",
       " [12, 17],\n",
       " [9, 1],\n",
       " [6, 19],\n",
       " [4],\n",
       " [5],\n",
       " [5],\n",
       " [8, 1],\n",
       " [11, 7],\n",
       " [5, 2],\n",
       " [9, 28],\n",
       " [1],\n",
       " [2, 2],\n",
       " [7, 4],\n",
       " [4, 22],\n",
       " [7, 24],\n",
       " [9, 26],\n",
       " [13, 28],\n",
       " [11, 26]]"
      ]
     },
     "execution_count": 24,
     "metadata": {},
     "output_type": "execute_result"
    }
   ],
   "source": [
    "[\"LRUCache\",\"put\",\"put\",\"put\",\"put\",\"put\",\"get\",\"put\",\"get\",\"get\",\"put\",\"get\",\"put\",\"put\",\"put\",\"get\",\"put\",\"get\",\"get\",\"get\",\"get\",\"put\",\"put\",\"get\",\"get\",\"get\",\"put\",\"put\",\"get\",\"put\",\"get\",\"put\",\"get\",\"get\",\"get\",\"put\",\"put\",\"put\",\"get\",\"put\",\"get\",\"get\",\"put\",\"put\",\"get\",\"put\",\"put\",\"put\",\"put\",\"get\",\"put\",\"put\",\"get\",\"put\",\"put\",\"get\",\"put\",\"put\",\"put\",\"put\",\"put\",\"get\",\"put\",\"put\",\"get\",\"put\",\"get\",\"get\",\"get\",\"put\",\"get\",\"get\",\"put\",\"put\",\"put\",\"put\",\"get\",\"put\",\"put\",\"put\",\"put\",\"get\",\"get\",\"get\",\"put\",\"put\",\"put\",\"get\",\"put\",\"put\",\"put\",\"get\",\"put\",\"put\",\"put\",\"get\",\"get\",\"get\",\"put\",\"put\",\"put\",\"put\",\"get\",\"put\",\"put\",\"put\",\"put\",\"put\",\"put\",\"put\"]\n",
    "[[10],[10,13],[3,17],[6,11],[10,5],[9,10],[13],[2,19],[2],[3],[5,25],[8],[9,22],[5,5],[1,30],[11],[9,12],[7],[5],[8],[9],[4,30],[9,3],[9],[10],[10],[6,14],[3,1],[3],[10,11],[8],[2,14],[1],[5],[4],[11,4],[12,24],[5,18],[13],[7,23],[8],[12],[3,27],[2,12],[5],[2,9],[13,4],[8,18],[1,7],[6],[9,29],[8,21],[5],[6,30],[1,12],[10],[4,15],[7,22],[11,26],[8,17],[9,29],[5],[3,4],[11,30],[12],[4,29],[3],[9],[6],[3,4],[1],[10],[3,29],[10,28],[1,20],[11,13],[3],[3,12],[3,8],[10,9],[3,26],[8],[7],[5],[13,17],[2,27],[11,15],[12],[9,19],[2,15],[3,16],[1],[12,17],[9,1],[6,19],[4],[5],[5],[8,1],[11,7],[5,2],[9,28],[1],[2,2],[7,4],[4,22],[7,24],[9,26],[13,28],[11,26]]"
   ]
  },
  {
   "cell_type": "code",
   "execution_count": null,
   "metadata": {},
   "outputs": [],
   "source": []
  }
 ],
 "metadata": {
  "kernelspec": {
   "display_name": "Python 3",
   "language": "python",
   "name": "python3"
  },
  "language_info": {
   "codemirror_mode": {
    "name": "ipython",
    "version": 3
   },
   "file_extension": ".py",
   "mimetype": "text/x-python",
   "name": "python",
   "nbconvert_exporter": "python",
   "pygments_lexer": "ipython3",
   "version": "3.6.5"
  }
 },
 "nbformat": 4,
 "nbformat_minor": 2
}
