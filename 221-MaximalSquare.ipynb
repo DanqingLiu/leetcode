{
 "cells": [
  {
   "cell_type": "markdown",
   "metadata": {},
   "source": [
    "# 221. Maximal Square\n",
    "\n",
    "Given a 2D binary matrix filled with 0's and 1's, find the largest square containing only 1's and return its area.\n",
    "\n",
    "Example:\n",
    "\n",
    "Input: \n",
    "\n",
    "1 0 1 0 0\n",
    "1 0 1 1 1\n",
    "1 1 1 1 1\n",
    "1 0 0 1 0\n",
    "\n",
    "Output: 4"
   ]
  },
  {
   "cell_type": "code",
   "execution_count": 1,
   "metadata": {},
   "outputs": [],
   "source": [
    "def maximalSquare(matrix):\n",
    "\n",
    "    if not matrix:\n",
    "        return 0\n",
    "    m = len(matrix)\n",
    "    n = len(matrix[0])\n",
    "    area = [[0 for x in range(n)] for y in range(m)]\n",
    "    maxarea = 0\n",
    "    for i in range(m):\n",
    "        for j in range(n):\n",
    "            if matrix[i][j]=='0':\n",
    "                area[i][j] = 0\n",
    "            else:\n",
    "                if i-1<0 or j-1<0:\n",
    "                    area[i][j] = 1\n",
    "                else:\n",
    "                    area[i][j] = ((min([area[i-1][j-1], area[i-1][j], area[i][j-1]]))**0.5 + 1)**2\n",
    "                if area[i][j] > maxarea:\n",
    "                    maxarea = area[i][j]\n",
    "    return int(maxarea)\n",
    "                    "
   ]
  },
  {
   "cell_type": "code",
   "execution_count": 2,
   "metadata": {},
   "outputs": [
    {
     "name": "stdout",
     "output_type": "stream",
     "text": [
      "4.0\n"
     ]
    }
   ],
   "source": [
    "matrix =[[1, 0, 1, 0, 0],\n",
    "[1, 0, 1, 1, 1],\n",
    "[1, 1, 1, 1, 1],\n",
    "[1, 0, 0, 1, 0]]\n",
    "print(maximalSquare(matrix))"
   ]
  },
  {
   "cell_type": "markdown",
   "metadata": {},
   "source": [
    "Optimize the space from mxn to 2x2 in approach 3 in https://leetcode.com/problems/maximal-square/solution/"
   ]
  },
  {
   "cell_type": "code",
   "execution_count": null,
   "metadata": {},
   "outputs": [],
   "source": []
  }
 ],
 "metadata": {
  "kernelspec": {
   "display_name": "Python 3",
   "language": "python",
   "name": "python3"
  },
  "language_info": {
   "codemirror_mode": {
    "name": "ipython",
    "version": 3
   },
   "file_extension": ".py",
   "mimetype": "text/x-python",
   "name": "python",
   "nbconvert_exporter": "python",
   "pygments_lexer": "ipython3",
   "version": "3.6.5"
  }
 },
 "nbformat": 4,
 "nbformat_minor": 2
}
