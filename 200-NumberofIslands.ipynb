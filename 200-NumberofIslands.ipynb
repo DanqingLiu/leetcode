{
 "cells": [
  {
   "cell_type": "markdown",
   "metadata": {},
   "source": [
    "# 200. Number of Islands\n",
    "\n",
    "Given a 2d grid map of '1's (land) and '0's (water), count the number of islands. An island is surrounded by water and is formed by connecting adjacent lands horizontally or vertically. You may assume all four edges of the grid are all surrounded by water.\n",
    "\n",
    "Example 1:\n",
    "\n",
    "Input:\n",
    "11110\n",
    "11010\n",
    "11000\n",
    "00000\n",
    "\n",
    "Output: 1\n",
    "Example 2:\n",
    "\n",
    "Input:\n",
    "11000\n",
    "11000\n",
    "00100\n",
    "00011\n",
    "\n",
    "Output: 3"
   ]
  },
  {
   "cell_type": "code",
   "execution_count": 10,
   "metadata": {},
   "outputs": [],
   "source": [
    "def dfs(grid, i, j, visited):\n",
    "\n",
    "    if grid[i][j] == 0:\n",
    "        return\n",
    "    visited[i][j] = 1\n",
    "    if grid[i][j+1] == 1 and visited[i][j+1] == 0:\n",
    "        visited[i][j+1] = 1\n",
    "        dfs(grid, i, j+1, visited)        \n",
    "    if grid[i+1][j] == 1 and visited[i+1][j] == 0:\n",
    "        visited[i+1][j] = 1\n",
    "        dfs(grid, i+1, j, visited)\n",
    "    if grid[i][j-1] == 1 and visited[i][j-1] == 0:\n",
    "        visited[i][j-1] = 1\n",
    "        dfs(grid, i, j-1, visited)\n",
    "    if grid[i-1][j] == 1 and visited[i-1][j] == 0:\n",
    "        visited[i-1][j] = 1\n",
    "        dfs(grid, i-1, j, visited)\n",
    "    return\n",
    "        \n",
    "def numIslands(grid):\n",
    "    if not grid:\n",
    "        return 0\n",
    "    m = len(grid)\n",
    "    n = len(grid[0])\n",
    "    new_grid = []\n",
    "    new_grid.append([0 for x in range(n+2)])\n",
    "    for i in range(m):\n",
    "        line = [0] + grid[i] + [0]\n",
    "        new_grid.append(line)\n",
    "    new_grid.append([0 for x in range(n+2)])\n",
    "\n",
    "    row = m+2\n",
    "    col = n+2\n",
    "    visited = [[0 for x in range(col)] for y in range(row)]\n",
    "    \n",
    "    n_islands = 0\n",
    "    for i in range(1, m+1):\n",
    "        for j in range(1, n+1):\n",
    "            if new_grid[i][j]==1 and visited[i][j]==0:\n",
    "                n_islands += 1\n",
    "                dfs(new_grid, i, j, visited)\n",
    "    \n",
    "    return n_islands\n"
   ]
  },
  {
   "cell_type": "code",
   "execution_count": 12,
   "metadata": {},
   "outputs": [
    {
     "name": "stdout",
     "output_type": "stream",
     "text": [
      "1 1\n",
      "1 2\n",
      "2 2\n",
      "2 1\n",
      "3 3\n",
      "4 4\n",
      "4 5\n",
      "3\n"
     ]
    }
   ],
   "source": [
    "grid = [[1,1,1,1,0],\n",
    "        [1,1,0,1,0],\n",
    "        [1,1,0,0,0],\n",
    "        [0,0,0,0,0]]\n",
    "\n",
    "grid = [[1,1,0,0,0],\n",
    "        [1,1,0,0,0],\n",
    "        [0,0,1,0,0],\n",
    "        [0,0,0,1,1]]\n",
    "\n",
    "print(numIslands(grid))"
   ]
  },
  {
   "cell_type": "code",
   "execution_count": null,
   "metadata": {},
   "outputs": [],
   "source": []
  }
 ],
 "metadata": {
  "kernelspec": {
   "display_name": "Python 3",
   "language": "python",
   "name": "python3"
  },
  "language_info": {
   "codemirror_mode": {
    "name": "ipython",
    "version": 3
   },
   "file_extension": ".py",
   "mimetype": "text/x-python",
   "name": "python",
   "nbconvert_exporter": "python",
   "pygments_lexer": "ipython3",
   "version": "3.6.5"
  }
 },
 "nbformat": 4,
 "nbformat_minor": 2
}
