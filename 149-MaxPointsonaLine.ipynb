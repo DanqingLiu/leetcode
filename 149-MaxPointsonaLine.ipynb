{
 "cells": [
  {
   "cell_type": "markdown",
   "metadata": {},
   "source": [
    "# 149. Max Points on a Line\n",
    "\n",
    "Given n points on a 2D plane, find the maximum number of points that lie on the same straight line.\n",
    "\n",
    "Example 1:\n",
    "\n",
    "Input: [[1,1],[2,2],[3,3]]\n",
    "\n",
    "Output: 3\n",
    "\n",
    "Explanation:\n",
    "\n",
    "^\n",
    "|\n",
    "|        o\n",
    "|     o\n",
    "|  o  \n",
    "+------------->\n",
    "0  1  2  3  4\n",
    "\n",
    "Example 2:\n",
    "\n",
    "Input: [[1,1],[3,2],[5,3],[4,1],[2,3],[1,4]]\n",
    "\n",
    "Output: 4\n",
    "\n",
    "Explanation:\n",
    "\n",
    "^\n",
    "|\n",
    "|  o\n",
    "|     o        o\n",
    "|        o\n",
    "|  o        o\n",
    "+------------------->\n",
    "0  1  2  3  4  5  6\n",
    "\n",
    "NOTE: input types have been changed on April 15, 2019. Please reset to default code definition to get new method signature."
   ]
  },
  {
   "cell_type": "code",
   "execution_count": 143,
   "metadata": {},
   "outputs": [],
   "source": [
    "from math import gcd\n",
    "\n",
    "def gradient(p1, p2):\n",
    "    if p1==p2:\n",
    "        return 'same'\n",
    "    if p1[0]==p2[0]:\n",
    "        return 'inf'\n",
    "    ## use gcd for [[0,0],[94911151,94911150],[94911152,94911151]]\n",
    "    dy = p2[1]-p1[1]\n",
    "    dx = p2[0]-p1[0]\n",
    "    g = gcd(dy, dx)\n",
    "#     return float((p2[1]-p1[1])/(p2[0]-p1[0]))\n",
    "    return (dy//g, dx//g)\n"
   ]
  },
  {
   "cell_type": "code",
   "execution_count": 144,
   "metadata": {},
   "outputs": [],
   "source": [
    "def maxPoints(points):\n",
    "    if not points:\n",
    "        return 0\n",
    "    if len(points)==1:\n",
    "        return 1\n",
    "    \n",
    "    points_dict = {}\n",
    "    for p in points:\n",
    "        if (p[0],p[1]) in points_dict:\n",
    "            points_dict[(p[0],p[1])] += 1\n",
    "        else:\n",
    "            points_dict[(p[0],p[1])] = 1\n",
    "            \n",
    "    grts = {}\n",
    "    maxpoints = 0\n",
    "    for p1 in points_dict:\n",
    "        grts[p1] = []\n",
    "        for p2 in points_dict:\n",
    "            grts[p1].append((gradient(p1, p2), points_dict[p2]))\n",
    "        \n",
    "        print('gradients of', p1, 'with other points: ', grts[p1])\n",
    "\n",
    "        index = -1\n",
    "        maximum = {}\n",
    "        for gr in grts[p1]:\n",
    "#             print('gradients of', p1, '', gr)\n",
    "            if gr[0] == 'same':                \n",
    "                continue\n",
    "            else:\n",
    "                if gr[0] in maximum:\n",
    "                    maximum[gr[0]] += gr[1]\n",
    "                else:\n",
    "                    maximum[gr[0]] = gr[1]\n",
    "#         print('maximum gradient list: ', maximum)            \n",
    "        if not maximum: ## if there is only overlapped points\n",
    "            return grts[p1][0][1] \n",
    "        \n",
    "        if points_dict[p1] + max(maximum.values()) > maxpoints: \n",
    "            maxpoints = points_dict[p1] + max(maximum.values())\n",
    "        \n",
    "    return maxpoints\n"
   ]
  },
  {
   "cell_type": "code",
   "execution_count": 145,
   "metadata": {},
   "outputs": [
    {
     "name": "stdout",
     "output_type": "stream",
     "text": [
      "gradients of (0, 0) with other points:  [('same', 1), ((94911150, 94911151), 1), ((94911151, 94911152), 1)]\n",
      "gradients of (94911151, 94911150) with other points:  [((-94911150, -94911151), 1), ('same', 1), ((1, 1), 1)]\n",
      "gradients of (94911152, 94911151) with other points:  [((-94911151, -94911152), 1), ((-1, -1), 1), ('same', 1)]\n",
      "2\n"
     ]
    }
   ],
   "source": [
    "# points = [[1,1],[2,2],[3,3]]\n",
    "# points = [[1,1],[3,2],[5,3],[4,1],[2,3],[1,4]]\n",
    "# points = [[1,1]]\n",
    "# points = [[0,0],[0,0]]\n",
    "# points = [[0,0],[1,0]]\n",
    "\n",
    "# points = [[0,0],[1,1],[1,-1]]\n",
    "\n",
    "# points = [[0,0],[1,1],[0,0]]\n",
    "# points = [[1,1],[1,1],[2,2],[2,2]]\n",
    "points = [[0,0],[94911151,94911150],[94911152,94911151]]\n",
    "print(maxPoints(points))"
   ]
  },
  {
   "cell_type": "code",
   "execution_count": null,
   "metadata": {},
   "outputs": [],
   "source": []
  }
 ],
 "metadata": {
  "kernelspec": {
   "display_name": "Python 3",
   "language": "python",
   "name": "python3"
  },
  "language_info": {
   "codemirror_mode": {
    "name": "ipython",
    "version": 3
   },
   "file_extension": ".py",
   "mimetype": "text/x-python",
   "name": "python",
   "nbconvert_exporter": "python",
   "pygments_lexer": "ipython3",
   "version": "3.6.5"
  }
 },
 "nbformat": 4,
 "nbformat_minor": 2
}
