{
 "cells": [
  {
   "cell_type": "markdown",
   "metadata": {},
   "source": [
    "# 33. Search in Rotated Sorted Array\n",
    "\n",
    "Suppose an array sorted in ascending order is rotated at some pivot unknown to you beforehand.\n",
    "\n",
    "(i.e., [0,1,2,4,5,6,7] might become [4,5,6,7,0,1,2]).\n",
    "\n",
    "You are given a target value to search. If found in the array return its index, otherwise return -1.\n",
    "\n",
    "You may assume no duplicate exists in the array.\n",
    "\n",
    "Your algorithm's runtime complexity must be in the order of O(log n).\n",
    "\n",
    "Example 1:\n",
    "\n",
    "Input: nums = [4,5,6,7,0,1,2], target = 0\n",
    "Output: 4\n",
    "Example 2:\n",
    "\n",
    "Input: nums = [4,5,6,7,0,1,2], target = 3\n",
    "Output: -1"
   ]
  },
  {
   "cell_type": "code",
   "execution_count": 69,
   "metadata": {},
   "outputs": [],
   "source": [
    "def search(nums, target):\n",
    "    if nums == []:\n",
    "        return -1   \n",
    "    \n",
    "    left = 0\n",
    "    right = len(nums)-1\n",
    "    \n",
    "    if len(nums)==1 and target==nums[0]:\n",
    "        return 0\n",
    "    if len(nums)==1 and target!=nums[0]:\n",
    "        return -1\n",
    "    if left == right - 1:\n",
    "        if target == nums[left]:\n",
    "            return left\n",
    "        elif target == nums[right]:\n",
    "            return right\n",
    "        else:\n",
    "            return -1\n",
    "    \n",
    "    location = -1\n",
    "    \n",
    "    while left < right - 1:\n",
    "        if nums[left] <= nums[right]:\n",
    "            start = left\n",
    "            end = right\n",
    "            break\n",
    "        middle = left + (right-left)//2\n",
    "        if nums[middle] < nums[middle-1]:\n",
    "            start = middle\n",
    "            end = middle-1\n",
    "            break   \n",
    "        if nums[middle] > nums[right]:\n",
    "            left = middle\n",
    "        elif nums[middle] < nums[right]:\n",
    "            right = middle\n",
    "            \n",
    " \n",
    "        if left == right - 1:\n",
    "            if nums[left] > nums[right]:\n",
    "                start = right\n",
    "                end = left\n",
    "            else:\n",
    "                start = left\n",
    "                end = right   \n",
    "                \n",
    "    while start < end - 1 or (start > end and start < end + len(nums) - 1):\n",
    "        if target < nums[start]:\n",
    "            return -1\n",
    "        if target > nums[end]:\n",
    "            return -1\n",
    "        if nums[start] == target: \n",
    "            return start\n",
    "            \n",
    "        elif nums[end] == target:\n",
    "            return end\n",
    "        \n",
    "        else:\n",
    "            if start > end:\n",
    "                middle = start + (end+len(nums)-start)//2 - len(nums)\n",
    "                print(middle, nums[middle])\n",
    "            else:\n",
    "                middle = start + (end-start)//2\n",
    "                \n",
    "            if target == nums[middle]:\n",
    "                return middle if middle>=0 else middle+len(nums)\n",
    "            elif target < nums[middle]:\n",
    "                end = middle\n",
    "            else:\n",
    "                start = middle\n",
    "        \n",
    "    return location"
   ]
  },
  {
   "cell_type": "code",
   "execution_count": 70,
   "metadata": {},
   "outputs": [
    {
     "name": "stdout",
     "output_type": "stream",
     "text": [
      "0 3\n",
      "0\n"
     ]
    }
   ],
   "source": [
    "nums = [4,5,6,7,0,1,2] \n",
    "nums = []\n",
    "nums = [3,5,1]\n",
    "# nums = [4,5,6,7,9,1,2,3]\n",
    "\n",
    "target = 3\n",
    "print(search(nums, target))"
   ]
  },
  {
   "cell_type": "markdown",
   "metadata": {},
   "source": [
    "## Refine above code refer to \n",
    "https://leetcode.com/problems/search-in-rotated-sorted-array/discuss/14425/Concise-O(log-N)-Binary-search-solution\n",
    "\n",
    "https://leetcode.wang/leetCode-33-Search-in-Rotated-Sorted-Array.html\n",
    "\n",
    "http://www.cnblogs.com/grandyang/p/4325648.html"
   ]
  },
  {
   "cell_type": "code",
   "execution_count": 81,
   "metadata": {},
   "outputs": [],
   "source": [
    "def search(nums, target):\n",
    "    left = 0\n",
    "    right = len(nums)-1\n",
    "    while left<right:\n",
    "        middle = (left+right)//2\n",
    "        if nums[middle]>nums[right]:\n",
    "            left = middle+1\n",
    "        else:\n",
    "            right = middle\n",
    "            \n",
    "    rotation = left\n",
    "    left = 0\n",
    "    right = len(nums)-1\n",
    "    while left<right:\n",
    "        middle = (left+right)//2\n",
    "        real_mid = (middle+rotation)%len(nums)\n",
    "        \n",
    "        if target == nums[real_mid]:\n",
    "            return real_mid\n",
    "        if target < nums[real_mid]:\n",
    "            right = middle-1\n",
    "        else:\n",
    "            left = middle+1\n",
    "\n",
    "    return -1\n"
   ]
  },
  {
   "cell_type": "code",
   "execution_count": 82,
   "metadata": {},
   "outputs": [
    {
     "name": "stdout",
     "output_type": "stream",
     "text": [
      "6\n"
     ]
    }
   ],
   "source": [
    "nums = [4,5,6,7,0,1,2] \n",
    "nums = []\n",
    "nums = [3,5,1]\n",
    "nums = [4,5,6,7,9,1,2,3]\n",
    "\n",
    "target = 2\n",
    "print(search(nums, target))"
   ]
  },
  {
   "cell_type": "code",
   "execution_count": null,
   "metadata": {},
   "outputs": [],
   "source": []
  }
 ],
 "metadata": {
  "kernelspec": {
   "display_name": "Python 3",
   "language": "python",
   "name": "python3"
  },
  "language_info": {
   "codemirror_mode": {
    "name": "ipython",
    "version": 3
   },
   "file_extension": ".py",
   "mimetype": "text/x-python",
   "name": "python",
   "nbconvert_exporter": "python",
   "pygments_lexer": "ipython3",
   "version": "3.6.5"
  }
 },
 "nbformat": 4,
 "nbformat_minor": 2
}
