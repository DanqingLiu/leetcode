{
 "cells": [
  {
   "cell_type": "markdown",
   "metadata": {},
   "source": [
    "# 19. Remove Nth Node From End of List\n",
    "\n",
    "Given a linked list, remove the n-th node from the end of list and return its head.\n",
    "\n",
    "Example:\n",
    "\n",
    "Given linked list: 1->2->3->4->5, and n = 2.\n",
    "\n",
    "After removing the second node from the end, the linked list becomes 1->2->3->5.\n",
    "Note:\n",
    "\n",
    "Given n will always be valid.\n",
    "\n",
    "Follow up:\n",
    "\n",
    "Could you do this in one pass?"
   ]
  },
  {
   "cell_type": "code",
   "execution_count": 2,
   "metadata": {},
   "outputs": [],
   "source": [
    "class Node:\n",
    "    def __init__(self, x):\n",
    "        self.val = x\n",
    "        self.next = None"
   ]
  },
  {
   "cell_type": "code",
   "execution_count": 9,
   "metadata": {},
   "outputs": [],
   "source": [
    "def removeNthFromEnd(head, n):\n",
    "    point_checkend = head\n",
    "    point_checkN = head\n",
    "    point_beforeN = head\n",
    "    for i in range(n):\n",
    "        point_checkend = point_checkend.next\n",
    "    if point_checkend == None:\n",
    "        return head.next\n",
    "    else:\n",
    "        point_checkN = point_checkN.next\n",
    "        point_checkend = point_checkend.next\n",
    "        \n",
    "    while point_checkend is not None:\n",
    "        point_checkend = point_checkend.next\n",
    "        point_checkN = point_checkN.next\n",
    "        point_beforeN = point_beforeN.next\n",
    "        \n",
    "    ###point_checkN is the node we want to remove, start to remove\n",
    "    temp = point_checkN.next\n",
    "    point_beforeN.next = temp\n",
    "    return head"
   ]
  },
  {
   "cell_type": "code",
   "execution_count": 10,
   "metadata": {},
   "outputs": [
    {
     "name": "stdout",
     "output_type": "stream",
     "text": [
      "4\n",
      "1\n",
      "2\n",
      "3\n",
      "5\n"
     ]
    }
   ],
   "source": [
    "l = Node(1)\n",
    "l.next = Node(2)\n",
    "l.next.next = Node(3)\n",
    "l.next.next.next = Node(4)\n",
    "l.next.next.next.next = Node(5)\n",
    "\n",
    "removeNthFromEnd(l, 2)\n",
    "\n",
    "while l is not None:\n",
    "    print(l.val)\n",
    "    l = l.next"
   ]
  },
  {
   "cell_type": "code",
   "execution_count": null,
   "metadata": {},
   "outputs": [],
   "source": []
  }
 ],
 "metadata": {
  "kernelspec": {
   "display_name": "Python 3",
   "language": "python",
   "name": "python3"
  },
  "language_info": {
   "codemirror_mode": {
    "name": "ipython",
    "version": 3
   },
   "file_extension": ".py",
   "mimetype": "text/x-python",
   "name": "python",
   "nbconvert_exporter": "python",
   "pygments_lexer": "ipython3",
   "version": "3.6.5"
  }
 },
 "nbformat": 4,
 "nbformat_minor": 2
}
