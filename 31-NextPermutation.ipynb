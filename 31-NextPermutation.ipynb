{
 "cells": [
  {
   "cell_type": "markdown",
   "metadata": {},
   "source": [
    "# 31. Next Permutation\n",
    "\n",
    "Implement next permutation, which rearranges numbers into the lexicographically next greater permutation of numbers.\n",
    "\n",
    "If such arrangement is not possible, it must rearrange it as the lowest possible order (ie, sorted in ascending order).\n",
    "\n",
    "The replacement must be in-place and use only constant extra memory.\n",
    "\n",
    "Here are some examples. Inputs are in the left-hand column and its corresponding outputs are in the right-hand column.\n",
    "\n",
    "1,2,3 → 1,3,2\n",
    "\n",
    "3,2,1 → 1,2,3\n",
    "\n",
    "1,1,5 → 1,5,1"
   ]
  },
  {
   "cell_type": "code",
   "execution_count": 43,
   "metadata": {},
   "outputs": [],
   "source": [
    "def nextPermutation(nums):\n",
    "    swap = 0\n",
    "\n",
    "    for i in range(len(nums)-2, -1, -1):\n",
    "        if swap == 1:\n",
    "            break\n",
    "        for j in range(len(nums)-1, i, -1):\n",
    "            if nums[i] < nums[j]:\n",
    "                swap = 1\n",
    "                first = i\n",
    "                second = j\n",
    "                break\n",
    "                \n",
    "    if swap == 1:\n",
    "        tmp = nums[second]\n",
    "        for k in range(second-1, first-1, -1):\n",
    "            nums[k+1] = nums[k]\n",
    "        nums[first] = tmp\n",
    "        nums[first+1:] = sorted(nums[first+1:])\n",
    "        \n",
    "    if swap == 0:\n",
    "        for i in range(len(nums)):\n",
    "            tmp = nums[0]\n",
    "            j = 1\n",
    "            while j < len(nums)-i:\n",
    "                nums[j-1] = nums[j]\n",
    "                j = j+1\n",
    "\n",
    "            nums[len(nums)-i-1] = tmp\n",
    "    return"
   ]
  },
  {
   "cell_type": "code",
   "execution_count": 47,
   "metadata": {},
   "outputs": [
    {
     "name": "stdout",
     "output_type": "stream",
     "text": [
      "[3, 1, 4, 2]\n"
     ]
    }
   ],
   "source": [
    "nums = [3, 1, 2, 4]\n",
    "nextPermutation(nums)\n",
    "print(nums)"
   ]
  },
  {
   "cell_type": "code",
   "execution_count": null,
   "metadata": {},
   "outputs": [],
   "source": []
  }
 ],
 "metadata": {
  "kernelspec": {
   "display_name": "Python 3",
   "language": "python",
   "name": "python3"
  },
  "language_info": {
   "codemirror_mode": {
    "name": "ipython",
    "version": 3
   },
   "file_extension": ".py",
   "mimetype": "text/x-python",
   "name": "python",
   "nbconvert_exporter": "python",
   "pygments_lexer": "ipython3",
   "version": "3.6.5"
  }
 },
 "nbformat": 4,
 "nbformat_minor": 2
}
