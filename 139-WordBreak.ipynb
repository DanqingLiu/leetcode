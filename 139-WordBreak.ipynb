{
 "cells": [
  {
   "cell_type": "markdown",
   "metadata": {},
   "source": [
    "# 139. Word Break\n",
    "\n",
    "Given a non-empty string s and a dictionary wordDict containing a list of non-empty words, determine if s can be segmented into a space-separated sequence of one or more dictionary words.\n",
    "\n",
    "Note:\n",
    "\n",
    "The same word in the dictionary may be reused multiple times in the segmentation.\n",
    "You may assume the dictionary does not contain duplicate words.\n",
    "Example 1:\n",
    "\n",
    "Input: s = \"leetcode\", wordDict = [\"leet\", \"code\"]\n",
    "Output: true\n",
    "Explanation: Return true because \"leetcode\" can be segmented as \"leet code\".\n",
    "Example 2:\n",
    "\n",
    "Input: s = \"applepenapple\", wordDict = [\"apple\", \"pen\"]\n",
    "Output: true\n",
    "Explanation: Return true because \"applepenapple\" can be segmented as \"apple pen apple\".\n",
    "             Note that you are allowed to reuse a dictionary word.\n",
    "Example 3:\n",
    "\n",
    "Input: s = \"catsandog\", wordDict = [\"cats\", \"dog\", \"sand\", \"and\", \"cat\"]\n",
    "Output: false"
   ]
  },
  {
   "cell_type": "code",
   "execution_count": 12,
   "metadata": {},
   "outputs": [],
   "source": [
    "##Recursive, run time too slow\n",
    "def wordBreak(s, wordDict):\n",
    "    n = len(s)\n",
    "    isbreak = False\n",
    "    for i in range(n):\n",
    "        if i == n-1:\n",
    "            if s[:i+1] in wordDict:\n",
    "                return True\n",
    "            else:\n",
    "                return False\n",
    "          \n",
    "        if s[:i+1] in wordDict:\n",
    "            isbreak = wordBreak(s[i+1:], wordDict)\n",
    "            if isbreak:\n",
    "                return True\n",
    "            \n",
    "    return False"
   ]
  },
  {
   "cell_type": "code",
   "execution_count": 16,
   "metadata": {},
   "outputs": [],
   "source": [
    "def wordBreak(s, wordDict):\n",
    "    wordSet = set(wordDict) ## \"in\" for list is O(n), \"in\" for set is O(1)/worst O(n)\n",
    "    if s in wordSet:\n",
    "        return True\n",
    "    for i in range(len(s)):\n",
    "        if s[:i+1] in wordSet and wordBreak(s[i+1:], wordDict):\n",
    "            return True\n",
    "    return False"
   ]
  },
  {
   "cell_type": "markdown",
   "metadata": {},
   "source": [
    "### Solutions from https://leetcode.com/problems/word-break/discuss/43790/Java-implementation-using-DP-in-two-ways "
   ]
  },
  {
   "cell_type": "code",
   "execution_count": 28,
   "metadata": {},
   "outputs": [],
   "source": [
    "# dp 1\n",
    "def wordBreak(s, wordDict):\n",
    "    n = len(s)\n",
    "    dp = [False for x in range(n+1)]\n",
    "    dp[0] = True\n",
    "    \n",
    "    for i in range(1, n+1):\n",
    "        for word in wordDict:\n",
    "            if i>=len(word):\n",
    "                if dp[i-len(word)] and s[i-len(word):i]==word:\n",
    "                    dp[i] = True\n",
    "                    break\n",
    "    return dp[n]\n",
    "    "
   ]
  },
  {
   "cell_type": "code",
   "execution_count": 29,
   "metadata": {},
   "outputs": [
    {
     "name": "stdout",
     "output_type": "stream",
     "text": [
      "[True, False, False, True, True, False, False, True, False, False, True]\n"
     ]
    }
   ],
   "source": [
    "# s = \"leetcode\"\n",
    "# wordDict = [\"leet\", \"code\"]\n",
    "# s = \"applepenapple\"\n",
    "# wordDict = [\"apple\", \"pen\"] \n",
    "s = \"catsanddog\"\n",
    "wordDict = [\"cats\", \"dog\", \"sand\", \"and\", \"cat\"]\n",
    "\n",
    "# s = \"abcd\"\n",
    "# wordDict = [\"a\",\"abc\",\"b\",\"cd\"]\n",
    "# s = \"aaaaaaaaaaaaaaaaaaaaaaaaaaaaaaab\"\n",
    "# wordDict = [\"a\",\"aa\",\"aaa\",\"aaaa\",\"aaaaa\",\"aaaaaa\",\"aaaaaaa\",\"aaaaaaaa\",\"aaaaaaaaa\",\"aaaaaaaaaa\"]\n",
    "print(wordBreak(s, wordDict))"
   ]
  },
  {
   "cell_type": "code",
   "execution_count": null,
   "metadata": {},
   "outputs": [],
   "source": []
  }
 ],
 "metadata": {
  "kernelspec": {
   "display_name": "Python 3",
   "language": "python",
   "name": "python3"
  },
  "language_info": {
   "codemirror_mode": {
    "name": "ipython",
    "version": 3
   },
   "file_extension": ".py",
   "mimetype": "text/x-python",
   "name": "python",
   "nbconvert_exporter": "python",
   "pygments_lexer": "ipython3",
   "version": "3.6.5"
  }
 },
 "nbformat": 4,
 "nbformat_minor": 2
}
