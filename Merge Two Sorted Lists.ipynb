{
 "cells": [
  {
   "cell_type": "markdown",
   "metadata": {},
   "source": [
    "## 21. Merge Two Sorted Lists\n",
    "\n",
    "Merge two sorted linked lists and return it as a new list. The new list should be made by splicing together the nodes of the first two lists.\n",
    "\n",
    "Example:\n",
    "\n",
    "Input: 1->2->4, 1->3->4\n",
    "Output: 1->1->2->3->4->4"
   ]
  },
  {
   "cell_type": "markdown",
   "metadata": {},
   "source": [
    "https://www.tutorialspoint.com/python/python_linked_lists.htm\n",
    "https://stackabuse.com/python-linked-lists/"
   ]
  },
  {
   "cell_type": "code",
   "execution_count": 1,
   "metadata": {},
   "outputs": [],
   "source": [
    "# Definition for singly-linked list.\n",
    "# class ListNode:\n",
    "#     def __init__(self, x):\n",
    "#         self.val = x\n",
    "#         self.next = None\n",
    "\n",
    "class Solution:\n",
    "    def mergeTwoLists(self, l1, l2):\n",
    "        \"\"\"\n",
    "        :type l1: ListNode\n",
    "        :type l2: ListNode\n",
    "        :rtype: ListNode\n",
    "        \"\"\"\n",
    "        if (l1 == None and l2 == None):\n",
    "            return None\n",
    "        # input: [] [0]\n",
    "        elif (l1 == None and l2 != None):\n",
    "            return l2\n",
    "        elif (l1 != None and l2 == None):\n",
    "            return l1\n",
    "        # pt1 = ListNode(l1.val)\n",
    "        pt1 = l1\n",
    "        # pt2 = ListNode(l2.val)\n",
    "        pt2 = l2\n",
    "        # pt3 = ListNode()\n",
    "        ## input: [1] [2]\n",
    "        if pt1.val < pt2.val:\n",
    "            pt3 = ListNode(pt1.val)\n",
    "            l3 = pt3\n",
    "            pt1 = pt1.next\n",
    "            if (pt1 == None):\n",
    "                while(pt2 != None):\n",
    "                    pt3.next = ListNode(pt2.val)\n",
    "                    pt2 = pt2.next\n",
    "                    pt3 = pt3.next\n",
    "        else:\n",
    "            pt3 = ListNode(pt2.val)\n",
    "            l3 = pt3\n",
    "            pt2 = pt2.next\n",
    "            if (pt2 == None):\n",
    "                while(pt1 != None):\n",
    "                    pt3.next = ListNode(pt1.val)\n",
    "                    pt1 = pt1.next\n",
    "                    pt3 = pt3.next\n",
    "        \n",
    "        while(pt1 != None):            \n",
    "            # print(pt1.val)\n",
    "            while(pt2 != None):                \n",
    "                # print(pt1.val)                \n",
    "                # print(pt2.val)  \n",
    "                if(pt1 == None):\n",
    "                    pt3.next = ListNode(pt2.val)\n",
    "                    pt3 = pt3.next\n",
    "                    pt2 = pt2.next\n",
    "                else:\n",
    "                    if pt1.val < pt2.val:\n",
    "                        pt3.next = ListNode(pt1.val)\n",
    "                        pt1 = pt1.next\n",
    "                        pt3 = pt3.next\n",
    "                    else:\n",
    "                        pt3.next = ListNode(pt2.val)\n",
    "                        pt2 = pt2.next\n",
    "                        pt3 = pt3.next            \n",
    "            # print(pt1.val)\n",
    "            if(pt1 != None):\n",
    "                pt3.next = ListNode(pt1.val)\n",
    "                pt3 = pt3.next\n",
    "                pt1 = pt1.next\n",
    "        return l3"
   ]
  },
  {
   "cell_type": "markdown",
   "metadata": {},
   "source": [
    "Other than my above solution. Easy and clear methods from the discussion: https://leetcode.com/problems/merge-two-sorted-lists/discuss/9735/Python-solutions-(iteratively-recursively-iteratively-in-place). By \"caikehe.\""
   ]
  },
  {
   "cell_type": "code",
   "execution_count": null,
   "metadata": {},
   "outputs": [],
   "source": []
  }
 ],
 "metadata": {
  "kernelspec": {
   "display_name": "Python 3",
   "language": "python",
   "name": "python3"
  },
  "language_info": {
   "codemirror_mode": {
    "name": "ipython",
    "version": 3
   },
   "file_extension": ".py",
   "mimetype": "text/x-python",
   "name": "python",
   "nbconvert_exporter": "python",
   "pygments_lexer": "ipython3",
   "version": "3.6.5"
  }
 },
 "nbformat": 4,
 "nbformat_minor": 2
}
