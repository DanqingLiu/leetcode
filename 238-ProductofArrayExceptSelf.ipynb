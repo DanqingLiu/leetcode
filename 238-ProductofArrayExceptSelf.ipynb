{
 "cells": [
  {
   "cell_type": "markdown",
   "metadata": {},
   "source": [
    "# 238. Product of Array Except Self\n",
    "\n",
    "Given an array nums of n integers where n > 1,  return an array output such that output[i] is equal to the product of all the elements of nums except nums[i].\n",
    "\n",
    "Example:\n",
    "\n",
    "Input:  [1,2,3,4]\n",
    "Output: [24,12,8,6]\n",
    "\n",
    "### Note: Please solve it without division and in O(n).\n",
    "\n",
    "Follow up:\n",
    "Could you solve it with constant space complexity? (The output array does not count as extra space for the purpose of space complexity analysis.)"
   ]
  },
  {
   "cell_type": "code",
   "execution_count": 3,
   "metadata": {},
   "outputs": [],
   "source": [
    "## With division!!!\n",
    "def productExceptSelf(nums):\n",
    "    total = 1\n",
    "    result = []\n",
    "    num0 = 0\n",
    "    n = len(nums)\n",
    "    for i in range(n):\n",
    "        if nums[i] == 0:\n",
    "            mark0 = i\n",
    "            num0 += 1\n",
    "        else:\n",
    "            total *= nums[i]\n",
    "            \n",
    "    if num0 > 1:\n",
    "        return [0 for x in range(n)]\n",
    "    if num0 == 1:\n",
    "        return [0 for x in range(mark0)] + [total] + [0 for y in range(n - 1 - mark0)]\n",
    "    for num in nums:\n",
    "        result.append(total//num)\n",
    "    return result"
   ]
  },
  {
   "cell_type": "code",
   "execution_count": 7,
   "metadata": {},
   "outputs": [],
   "source": [
    "## Without division, o(n) time, o(n) space\n",
    "def productExceptSelf(nums):\n",
    "    n = len(nums)\n",
    "    left = [0 for x in range(n)]\n",
    "    right = [0 for x in range(n)]\n",
    "    left[0] = 1\n",
    "    right[n-1] = 1\n",
    "    for i in range(n-1):\n",
    "        left[i+1] = left[i] * nums[i]\n",
    "        right[n-2-i] = right[n-1-i] * nums[n-1-i]\n",
    "    \n",
    "    for i in range(n-1):\n",
    "        left[i] *= right[i]\n",
    "    return left"
   ]
  },
  {
   "cell_type": "code",
   "execution_count": 10,
   "metadata": {},
   "outputs": [
    {
     "name": "stdout",
     "output_type": "stream",
     "text": [
      "[0, 0, 0, 0, 24]\n"
     ]
    }
   ],
   "source": [
    "nums = [1,2,3,4,0]\n",
    "print(productExceptSelf(nums))"
   ]
  },
  {
   "cell_type": "code",
   "execution_count": null,
   "metadata": {},
   "outputs": [],
   "source": []
  }
 ],
 "metadata": {
  "kernelspec": {
   "display_name": "Python 3",
   "language": "python",
   "name": "python3"
  },
  "language_info": {
   "codemirror_mode": {
    "name": "ipython",
    "version": 3
   },
   "file_extension": ".py",
   "mimetype": "text/x-python",
   "name": "python",
   "nbconvert_exporter": "python",
   "pygments_lexer": "ipython3",
   "version": "3.6.5"
  }
 },
 "nbformat": 4,
 "nbformat_minor": 2
}
