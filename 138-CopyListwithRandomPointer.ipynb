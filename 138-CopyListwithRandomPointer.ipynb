{
 "cells": [
  {
   "cell_type": "markdown",
   "metadata": {},
   "source": [
    "# 138. Copy List with Random Pointer\n",
    "\n",
    "A linked list is given such that each node contains an additional random pointer which could point to any node in the list or null.\n",
    "\n",
    "Return a deep copy of the list.\n",
    "\n",
    " \n",
    "\n",
    "Example 1:\n",
    "\n",
    "\n",
    "\n",
    "Input:\n",
    "{\"$id\":\"1\",\"next\":{\"$id\":\"2\",\"next\":null,\"random\":{\"$ref\":\"2\"},\"val\":2},\"random\":{\"$ref\":\"2\"},\"val\":1}\n",
    "\n",
    "Explanation:\n",
    "Node 1's value is 1, both of its next and random pointer points to Node 2.\n",
    "Node 2's value is 2, its next pointer points to null and its random pointer points to itself.\n",
    " \n",
    "\n",
    "Note:\n",
    "\n",
    "You must return the copy of the given head as a reference to the cloned list."
   ]
  },
  {
   "cell_type": "code",
   "execution_count": 1,
   "metadata": {},
   "outputs": [],
   "source": [
    "class Node:\n",
    "    def __init__(self, val, next, random):\n",
    "        self.val = val\n",
    "        self.next = next\n",
    "        self.random = random"
   ]
  },
  {
   "cell_type": "code",
   "execution_count": 2,
   "metadata": {},
   "outputs": [],
   "source": [
    "def copyRandomList(head):\n",
    "\n",
    "    if not head:\n",
    "        return None\n",
    "    curr = head\n",
    "    node_dict = {}\n",
    "    i = 0\n",
    "    while curr:\n",
    "        node_dict.update({curr:i})\n",
    "        i += 1\n",
    "        curr = curr.next\n",
    "\n",
    "    curr = head\n",
    "    head_cp = Node(head.val, None, None)\n",
    "    curr_cp = head_cp\n",
    "\n",
    "    j = 0\n",
    "    nodedict_cp = {}\n",
    "    while curr:\n",
    "        nodedict_cp.update({j:curr_cp})\n",
    "        j += 1 \n",
    "        if not curr.next:\n",
    "            curr_cp.next = None\n",
    "        else:\n",
    "            curr_cp.next = Node(curr.next.val, None, None)\n",
    "        curr_cp = curr_cp.next\n",
    "        curr = curr.next\n",
    "\n",
    "    curr = head\n",
    "    curr_cp = head_cp\n",
    "    while curr_cp:\n",
    "        if not curr.random:\n",
    "            curr_cp.random = None\n",
    "        else:\n",
    "            curr_cp.random = nodedict_cp[node_dict[curr.random]]\n",
    "        curr_cp = curr_cp.next\n",
    "        curr = curr.next\n",
    "\n",
    "    return head_cp   "
   ]
  },
  {
   "cell_type": "code",
   "execution_count": null,
   "metadata": {},
   "outputs": [],
   "source": []
  }
 ],
 "metadata": {
  "kernelspec": {
   "display_name": "Python 3",
   "language": "python",
   "name": "python3"
  },
  "language_info": {
   "codemirror_mode": {
    "name": "ipython",
    "version": 3
   },
   "file_extension": ".py",
   "mimetype": "text/x-python",
   "name": "python",
   "nbconvert_exporter": "python",
   "pygments_lexer": "ipython3",
   "version": "3.6.5"
  }
 },
 "nbformat": 4,
 "nbformat_minor": 2
}
