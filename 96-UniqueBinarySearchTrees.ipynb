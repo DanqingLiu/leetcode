{
 "cells": [
  {
   "cell_type": "markdown",
   "metadata": {},
   "source": [
    "# 96. Unique Binary Search Trees\n",
    "\n",
    "Given n, how many structurally unique BST's (binary search trees) that store values 1 ... n?\n",
    "\n",
    "Example:\n",
    "\n",
    "Input: 3\n",
    "Output: 5\n",
    "Explanation:\n",
    "Given n = 3, there are a total of 5 unique BST's:\n",
    "\n",
    "   1         3     3      2      1\n",
    "    \\       /     /      / \\      \\\n",
    "     3     2     1      1   3      2\n",
    "    /     /       \\                 \\\n",
    "   2     1         2                 3"
   ]
  },
  {
   "cell_type": "code",
   "execution_count": 1,
   "metadata": {},
   "outputs": [],
   "source": [
    "def numTrees(n):   \n",
    "    \n",
    "    if n<2:\n",
    "        return 1\n",
    "    nums = [0 for x in range(n+1)]\n",
    "    nums[0] = 1\n",
    "    nums[1] = 1\n",
    "    for i in range(2, n+1):\n",
    "        for t in range(i): #0, 1, 2, i-1\n",
    "            nums[i] += nums[t] * nums[i-1-t]\n",
    "    return nums[n]"
   ]
  },
  {
   "cell_type": "code",
   "execution_count": 2,
   "metadata": {},
   "outputs": [
    {
     "name": "stdout",
     "output_type": "stream",
     "text": [
      "5\n"
     ]
    }
   ],
   "source": [
    "print(numTrees(3))"
   ]
  },
  {
   "cell_type": "code",
   "execution_count": null,
   "metadata": {},
   "outputs": [],
   "source": []
  }
 ],
 "metadata": {
  "kernelspec": {
   "display_name": "Python 3",
   "language": "python",
   "name": "python3"
  },
  "language_info": {
   "codemirror_mode": {
    "name": "ipython",
    "version": 3
   },
   "file_extension": ".py",
   "mimetype": "text/x-python",
   "name": "python",
   "nbconvert_exporter": "python",
   "pygments_lexer": "ipython3",
   "version": "3.6.5"
  }
 },
 "nbformat": 4,
 "nbformat_minor": 2
}
