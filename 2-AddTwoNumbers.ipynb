{
 "cells": [
  {
   "cell_type": "markdown",
   "metadata": {},
   "source": [
    "# 2. Add Two Numbers\n",
    "\n",
    "You are given two non-empty linked lists representing two non-negative integers. The digits are stored in reverse order and each of their nodes contain a single digit. Add the two numbers and return it as a linked list.\n",
    "\n",
    "You may assume the two numbers do not contain any leading zero, except the number 0 itself.\n",
    "\n",
    "Example:\n",
    "\n",
    "Input: (2 -> 4 -> 3) + (5 -> 6 -> 4)\n",
    "Output: 7 -> 0 -> 8\n",
    "Explanation: 342 + 465 = 807."
   ]
  },
  {
   "cell_type": "code",
   "execution_count": 4,
   "metadata": {},
   "outputs": [],
   "source": [
    "class ListNode:\n",
    "    def __init__(self, x):\n",
    "        self.val = x\n",
    "        self.next = None"
   ]
  },
  {
   "cell_type": "code",
   "execution_count": 14,
   "metadata": {},
   "outputs": [],
   "source": [
    "def addTwoNumbers(l1: ListNode, l2: ListNode) -> ListNode:\n",
    "    result = ListNode(0)    \n",
    "    point = result\n",
    "    carry = 0\n",
    "    while l1 is not None and l2 is not None:\n",
    "        point.next = ListNode((l1.val + l2.val + carry)%10)\n",
    "        carry = (l1.val + l2.val + carry)//10\n",
    "        point = point.next\n",
    "        l1 = l1.next\n",
    "        l2 = l2.next\n",
    "    while l1 is not None and l2 is None:\n",
    "        point.next = ListNode((carry + l1.val)%10)\n",
    "        carry = (l1.val + carry)//10\n",
    "        point = point.next\n",
    "        l1 = l1.next\n",
    "    while l1 is None and l2 is not None:\n",
    "        point.next = ListNode((carry + l2.val)%10)\n",
    "        carry = (l2.val + carry)//10\n",
    "        point = point.next\n",
    "        l2 = l2.next\n",
    "    if carry > 0:\n",
    "        point.next = ListNode(carry)\n",
    "    return result.next\n",
    "    "
   ]
  },
  {
   "cell_type": "code",
   "execution_count": 17,
   "metadata": {},
   "outputs": [],
   "source": [
    "l1 = ListNode(9)\n",
    "# l1.next = ListNode(4)\n",
    "# l1.next.next = ListNode(9)\n",
    "l2 = ListNode(5)\n",
    "l2.next = ListNode(6)\n",
    "l2.next.next = ListNode(4)\n"
   ]
  },
  {
   "cell_type": "code",
   "execution_count": 18,
   "metadata": {},
   "outputs": [
    {
     "name": "stdout",
     "output_type": "stream",
     "text": [
      "4\n",
      "7\n",
      "4\n"
     ]
    }
   ],
   "source": [
    "result = addTwoNumbers(l1, l2)\n",
    "while result is not None:\n",
    "    print(result.val)\n",
    "    result = result.next"
   ]
  },
  {
   "cell_type": "markdown",
   "metadata": {},
   "source": [
    "## Below solution has a concise python style, copy from\n",
    "https://leetcode.com/problems/add-two-numbers/solution/"
   ]
  },
  {
   "cell_type": "code",
   "execution_count": 20,
   "metadata": {},
   "outputs": [],
   "source": [
    "    def addTwoNumbers(self, l1, l2):\n",
    "        \"\"\"\n",
    "        :type l1: ListNode\n",
    "        :type l2: ListNode\n",
    "        :rtype: ListNode\n",
    "        \"\"\"\n",
    "        result = ListNode(0)\n",
    "        result_tail = result\n",
    "        carry = 0\n",
    "                \n",
    "        while l1 or l2 or carry:            \n",
    "            val1  = (l1.val if l1 else 0)\n",
    "            val2  = (l2.val if l2 else 0)\n",
    "            carry, out = divmod(val1+val2 + carry, 10)    \n",
    "                      \n",
    "            result_tail.next = ListNode(out)\n",
    "            result_tail = result_tail.next                      \n",
    "            \n",
    "            l1 = (l1.next if l1 else None)\n",
    "            l2 = (l2.next if l2 else None)\n",
    "               \n",
    "        return result.next"
   ]
  },
  {
   "cell_type": "code",
   "execution_count": null,
   "metadata": {},
   "outputs": [],
   "source": []
  }
 ],
 "metadata": {
  "kernelspec": {
   "display_name": "Python 3",
   "language": "python",
   "name": "python3"
  },
  "language_info": {
   "codemirror_mode": {
    "name": "ipython",
    "version": 3
   },
   "file_extension": ".py",
   "mimetype": "text/x-python",
   "name": "python",
   "nbconvert_exporter": "python",
   "pygments_lexer": "ipython3",
   "version": "3.6.5"
  }
 },
 "nbformat": 4,
 "nbformat_minor": 2
}
