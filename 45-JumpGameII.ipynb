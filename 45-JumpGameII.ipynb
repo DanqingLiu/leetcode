{
 "cells": [
  {
   "cell_type": "markdown",
   "metadata": {},
   "source": [
    "# 45. Jump Game II\n",
    "\n",
    "Given an array of non-negative integers, you are initially positioned at the first index of the array.\n",
    "\n",
    "Each element in the array represents your maximum jump length at that position.\n",
    "\n",
    "Your goal is to reach the last index in the minimum number of jumps.\n",
    "\n",
    "Example:\n",
    "\n",
    "Input: [2,3,1,1,4]\n",
    "Output: 2\n",
    "Explanation: The minimum number of jumps to reach the last index is 2.\n",
    "    Jump 1 step from index 0 to 1, then 3 steps to the last index.\n",
    "Note:\n",
    "\n",
    "You can assume that you can always reach the last index."
   ]
  },
  {
   "cell_type": "code",
   "execution_count": 1,
   "metadata": {},
   "outputs": [],
   "source": [
    "## Time limit exceeded for the last two test cases\n",
    "def jump(nums):        \n",
    "    n = len(nums)\n",
    "    if n==1:\n",
    "        return 0\n",
    "    steps = [0 for x in range(n)]\n",
    "    steps[1] = 1\n",
    "\n",
    "    jstart = 0\n",
    "    for i in range(jstart,n):            \n",
    "        for j in range(0,i):\n",
    "            if nums[j] + j >= i:\n",
    "                jstart = j\n",
    "                steps[i] = steps[j] + 1\n",
    "                break\n",
    "    # print(steps)\n",
    "    return steps[-1]"
   ]
  },
  {
   "cell_type": "code",
   "execution_count": 2,
   "metadata": {},
   "outputs": [
    {
     "name": "stdout",
     "output_type": "stream",
     "text": [
      "3\n"
     ]
    }
   ],
   "source": [
    "nums = [1,2,1,1,1]\n",
    "print(jump(nums))"
   ]
  },
  {
   "cell_type": "markdown",
   "metadata": {},
   "source": [
    "This is the shortest path problem that can be solved by Dijsktra's algorithm.\n",
    "\n",
    "A BFS solution refer to https://leetcode.com/problems/jump-game-ii/discuss/18014/Concise-O(n)-one-loop-JAVA-solution-based-on-Greedy"
   ]
  },
  {
   "cell_type": "code",
   "execution_count": 12,
   "metadata": {},
   "outputs": [],
   "source": [
    "def jump(nums):   \n",
    "    n = len(nums)\n",
    "    if n < 2:\n",
    "        return 0\n",
    "    level, level_end, farest = 0,0,0\n",
    "    for i in range(n):\n",
    "        farest = max(farest, i+nums[i])\n",
    "        if i==level_end:            \n",
    "            level = level + 1\n",
    "            if farest >= n-1:\n",
    "                break\n",
    "            level_end = farest\n",
    "    return level"
   ]
  },
  {
   "cell_type": "code",
   "execution_count": 10,
   "metadata": {},
   "outputs": [
    {
     "name": "stdout",
     "output_type": "stream",
     "text": [
      "3\n"
     ]
    }
   ],
   "source": [
    "nums = [1,2,1,1,1]\n",
    "print(jump(nums))"
   ]
  },
  {
   "cell_type": "code",
   "execution_count": 11,
   "metadata": {},
   "outputs": [
    {
     "data": {
      "text/plain": [
       "range(0, 0)"
      ]
     },
     "execution_count": 11,
     "metadata": {},
     "output_type": "execute_result"
    }
   ],
   "source": [
    "range(0)"
   ]
  },
  {
   "cell_type": "code",
   "execution_count": null,
   "metadata": {},
   "outputs": [],
   "source": []
  }
 ],
 "metadata": {
  "kernelspec": {
   "display_name": "Python 3",
   "language": "python",
   "name": "python3"
  },
  "language_info": {
   "codemirror_mode": {
    "name": "ipython",
    "version": 3
   },
   "file_extension": ".py",
   "mimetype": "text/x-python",
   "name": "python",
   "nbconvert_exporter": "python",
   "pygments_lexer": "ipython3",
   "version": "3.6.5"
  }
 },
 "nbformat": 4,
 "nbformat_minor": 2
}
