{
 "cells": [
  {
   "cell_type": "markdown",
   "metadata": {},
   "source": [
    "# 136. Single Number\n",
    "\n",
    "Given a non-empty array of integers, every element appears twice except for one. Find that single one.\n",
    "\n",
    "Note:\n",
    "\n",
    "Your algorithm should have a linear runtime complexity. Could you implement it without using extra memory?\n",
    "\n",
    "Example 1:\n",
    "\n",
    "Input: [2,2,1]\n",
    "Output: 1\n",
    "Example 2:\n",
    "\n",
    "Input: [4,1,2,1,2]\n",
    "Output: 4"
   ]
  },
  {
   "cell_type": "code",
   "execution_count": 1,
   "metadata": {},
   "outputs": [],
   "source": [
    "## Time limit exceeded, o(n^2)\n",
    "def singleNumber(nums):\n",
    "    n = len(nums)\n",
    "    for i in range(n):\n",
    "        if nums[i] in nums[:i]:\n",
    "            pair_i = nums[:i].index(nums[i])\n",
    "            nums[i] = 0\n",
    "            nums[pair_i] = 0\n",
    "        \n",
    "    return sum(nums)"
   ]
  },
  {
   "cell_type": "code",
   "execution_count": 4,
   "metadata": {},
   "outputs": [
    {
     "name": "stdout",
     "output_type": "stream",
     "text": [
      "2\n"
     ]
    }
   ],
   "source": [
    "nums =  [2,2,1] \n",
    "nums = [4,1,2,1,2] \n",
    "nums = [2]\n",
    "print(singleNumber(nums))"
   ]
  },
  {
   "cell_type": "markdown",
   "metadata": {},
   "source": [
    "https://leetcode.com/problems/single-number/solution/"
   ]
  },
  {
   "cell_type": "code",
   "execution_count": 1,
   "metadata": {},
   "outputs": [],
   "source": [
    "def singleNumber(nums):\n",
    "    a = 0\n",
    "    for i in nums:\n",
    "        a = a^i\n",
    "        \n",
    "    return a"
   ]
  },
  {
   "cell_type": "code",
   "execution_count": null,
   "metadata": {},
   "outputs": [],
   "source": []
  }
 ],
 "metadata": {
  "kernelspec": {
   "display_name": "Python 3",
   "language": "python",
   "name": "python3"
  },
  "language_info": {
   "codemirror_mode": {
    "name": "ipython",
    "version": 3
   },
   "file_extension": ".py",
   "mimetype": "text/x-python",
   "name": "python",
   "nbconvert_exporter": "python",
   "pygments_lexer": "ipython3",
   "version": "3.6.5"
  }
 },
 "nbformat": 4,
 "nbformat_minor": 2
}
