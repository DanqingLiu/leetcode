{
 "cells": [
  {
   "cell_type": "markdown",
   "metadata": {},
   "source": [
    "# 44. Wildcard Matching\n",
    "\n",
    "Given an input string (s) and a pattern (p), implement wildcard pattern matching with support for '?' and '*'.\n",
    "\n",
    "'?' Matches any single character.\n",
    "'*' Matches any sequence of characters (including the empty sequence).\n",
    "The matching should cover the entire input string (not partial).\n",
    "\n",
    "Note:\n",
    "\n",
    "s could be empty and contains only lowercase letters a-z.\n",
    "p could be empty and contains only lowercase letters a-z, and characters like ? or *.\n",
    "\n",
    "Example 1:\n",
    "\n",
    "Input:\n",
    "s = \"aa\"\n",
    "p = \"a\"\n",
    "Output: false\n",
    "Explanation: \"a\" does not match the entire string \"aa\".\n",
    "\n",
    "Example 2:\n",
    "\n",
    "Input:\n",
    "s = \"aa\"\n",
    "p = \"*\"\n",
    "Output: true\n",
    "Explanation: '*' matches any sequence.\n",
    "\n",
    "Example 3:\n",
    "\n",
    "Input:\n",
    "s = \"cb\"\n",
    "p = \"?a\"\n",
    "Output: false\n",
    "Explanation: '?' matches 'c', but the second letter is 'a', which does not match 'b'.\n",
    "\n",
    "Example 4:\n",
    "\n",
    "Input:\n",
    "s = \"adceb\"\n",
    "p = \"*a*b\"\n",
    "Output: true\n",
    "Explanation: The first '*' matches the empty sequence, while the second '*' matches the substring \"dce\".\n",
    "\n",
    "Example 5:\n",
    "\n",
    "Input:\n",
    "s = \"acdcb\"\n",
    "p = \"a*c?b\"\n",
    "Output: false"
   ]
  },
  {
   "cell_type": "markdown",
   "metadata": {},
   "source": [
    "### Recursive"
   ]
  },
  {
   "cell_type": "code",
   "execution_count": 23,
   "metadata": {},
   "outputs": [],
   "source": [
    "def isMatch(s, p):\n",
    "#     print('s, p:', s, p)\n",
    "    if not p:\n",
    "        return not s\n",
    "\n",
    "    first_match = bool(s) and p[0] in (s[0], '?')\n",
    "    if len(p) >= 2 and p[0] == '*':\n",
    "        return bool(s) and isMatch(s[1:], p) or isMatch(s[1:], p[1:]) or isMatch(s, p[1:])\n",
    "    elif len(p) == 1 and p[0] == '*':\n",
    "        return True\n",
    "    else:\n",
    "        return first_match and isMatch(s[1:], p[1:])"
   ]
  },
  {
   "cell_type": "code",
   "execution_count": 30,
   "metadata": {},
   "outputs": [
    {
     "name": "stdout",
     "output_type": "stream",
     "text": [
      "True\n"
     ]
    }
   ],
   "source": [
    "s = \"acdcb\"\n",
    "p = \"a*c?b\"\n",
    "s = \"abbabbbaabaaabbbbbabbabbabbbabbaaabbbababbabaaabbab\"\n",
    "p = \"*aabb***aa**a******aa*\"\n",
    "print(isMatch(s,p))"
   ]
  },
  {
   "cell_type": "markdown",
   "metadata": {},
   "source": [
    "### Dynamic programming solution refer to \n",
    "\n",
    "https://www.geeksforgeeks.org/wildcard-pattern-matching/\n",
    "\n",
    "https://www.youtube.com/watch?v=3ZDZ-N0EPV0"
   ]
  },
  {
   "cell_type": "code",
   "execution_count": 29,
   "metadata": {},
   "outputs": [],
   "source": [
    "def isMatch(text, pattern):\n",
    "    m = len(text)\n",
    "    n = len(pattern)\n",
    "    lookup = {}\n",
    "    lookup[0, 0] = True\n",
    "    for i in range(1, m+1):\n",
    "        lookup[i, 0] = False\n",
    "    for j in range(1, n+1):\n",
    "        if pattern[j-1] == '*':\n",
    "            lookup[0, j] = lookup[0, j-1]\n",
    "        else:\n",
    "            lookup[0, j] = False\n",
    "            \n",
    "    for i in range(1, m+1):\n",
    "        for j in range(1, n+1):\n",
    "            if pattern[j-1] in (text[i-1], '?'):\n",
    "                lookup[i, j] = lookup[i-1, j-1]\n",
    "            elif pattern[j-1] == '*':\n",
    "                lookup[i, j] = lookup[i, j-1] or lookup[i-1, j]\n",
    "            else:\n",
    "                lookup[i, j] = False\n",
    "    return lookup[m, n]"
   ]
  },
  {
   "cell_type": "code",
   "execution_count": 31,
   "metadata": {},
   "outputs": [
    {
     "name": "stdout",
     "output_type": "stream",
     "text": [
      "True\n"
     ]
    }
   ],
   "source": [
    "s = \"abbabbbaabaaabbbbbabbabbabbbabbaaabbbababbabaaabbab\"\n",
    "p = \"*aabb***aa**a******aa*\"\n",
    "print(isMatch(s,p))"
   ]
  },
  {
   "cell_type": "code",
   "execution_count": null,
   "metadata": {},
   "outputs": [],
   "source": []
  }
 ],
 "metadata": {
  "kernelspec": {
   "display_name": "Python 3",
   "language": "python",
   "name": "python3"
  },
  "language_info": {
   "codemirror_mode": {
    "name": "ipython",
    "version": 3
   },
   "file_extension": ".py",
   "mimetype": "text/x-python",
   "name": "python",
   "nbconvert_exporter": "python",
   "pygments_lexer": "ipython3",
   "version": "3.6.5"
  }
 },
 "nbformat": 4,
 "nbformat_minor": 2
}
