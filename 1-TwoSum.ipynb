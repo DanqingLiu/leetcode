{
 "cells": [
  {
   "cell_type": "markdown",
   "metadata": {},
   "source": [
    "# 1. Two Sum\n",
    "Given an array of integers, return indices of the two numbers such that they add up to a specific target.\n",
    "\n",
    "You may assume that each input would have exactly one solution, and you may not use the same element twice.\n",
    "\n",
    "Example:\n",
    "\n",
    "Given nums = [2, 7, 11, 15], target = 9,\n",
    "\n",
    "Because nums[0] + nums[1] = 2 + 7 = 9,\n",
    "return [0, 1]."
   ]
  },
  {
   "cell_type": "markdown",
   "metadata": {},
   "source": [
    "## Approach 1: Brute Force\n",
    "The brute force approach is simple. Loop through each element xx and find if there is another value that equals to target - xtarget−x."
   ]
  },
  {
   "cell_type": "markdown",
   "metadata": {},
   "source": [
    "### Complexity Analysis\n",
    "\n",
    "Time complexity : O(n^2)O(n \n",
    "2\n",
    " ). For each element, we try to find its complement by looping through the rest of array which takes O(n)O(n) time. Therefore, the time complexity is O(n^2)O(n \n",
    "2\n",
    " ).\n",
    "\n",
    "Space complexity : O(1)O(1). "
   ]
  },
  {
   "cell_type": "code",
   "execution_count": 1,
   "metadata": {},
   "outputs": [],
   "source": [
    "class Solution:\n",
    "    def twoSum(self, nums, target):\n",
    "        \"\"\"\n",
    "        :type nums: List[int]\n",
    "        :type target: int\n",
    "        :rtype: List[int]\n",
    "        \"\"\"\n",
    "        i = 0\n",
    "        j = 0\n",
    "        n = len(nums)\n",
    "        index1 = 0\n",
    "        index2 = 0\n",
    "        while(i < n-1):\n",
    "            j = i+1;\n",
    "            num1 = target - nums[i]            \n",
    "            while(j < n):\n",
    "                if(num1 == nums[j]):\n",
    "                    index1 = i\n",
    "                    index2 = j\n",
    "                    break\n",
    "                j = j+1\n",
    "            i = i+1\n",
    "        return [index1, index2]"
   ]
  },
  {
   "cell_type": "markdown",
   "metadata": {},
   "source": [
    "## Approach 2: Two-pass Hash Table\n",
    "To improve our run time complexity, we need a more efficient way to check if the complement exists in the array. If the complement exists, we need to look up its index. What is the best way to maintain a mapping of each element in the array to its index? A hash table.\n",
    "\n",
    "We reduce the look up time from O(n)O(n) to O(1)O(1) by trading space for speed. A hash table is built exactly for this purpose, it supports fast look up in near constant time. I say \"near\" because if a collision occurred, a look up could degenerate to O(n)O(n) time. But look up in hash table should be amortized O(1)O(1) time as long as the hash function was chosen carefully.\n",
    "\n",
    "A simple implementation uses two iterations. In the first iteration, we add each element's value and its index to the table. Then, in the second iteration we check if each element's complement (target - nums[i]target−nums[i]) exists in the table. Beware that the complement must not be nums[i]nums[i] itself!"
   ]
  },
  {
   "cell_type": "markdown",
   "metadata": {},
   "source": [
    "### Complexity Analysis:\n",
    "\n",
    "Time complexity : O(n)O(n). We traverse the list containing nn elements exactly twice. Since the hash table reduces the look up time to O(1)O(1), the time complexity is O(n)O(n).\n",
    "\n",
    "Space complexity : O(n)O(n). The extra space required depends on the number of items stored in the hash table, which stores exactly nn elements. "
   ]
  },
  {
   "cell_type": "code",
   "execution_count": 2,
   "metadata": {},
   "outputs": [],
   "source": [
    "class Solution:\n",
    "    def twoSum(self, nums, target):\n",
    "        \"\"\"\n",
    "        :type nums: List[int]\n",
    "        :type target: int\n",
    "        :rtype: List[int]\n",
    "        \"\"\"\n",
    "        my_dict = {}\n",
    "        index1 = 0\n",
    "        index2 = 0\n",
    "        n = len(nums)\n",
    "        for i in range(n):\n",
    "            my_dict[nums[i]] = i\n",
    "        for i in range(n):\n",
    "            complement = target - nums[i]   \n",
    "            if complement in my_dict:\n",
    "                if my_dict[complement] != i:\n",
    "                    index1 = i\n",
    "                    index2 = my_dict[complement] \n",
    "                    break\n",
    "        return [index1, index2]"
   ]
  },
  {
   "cell_type": "markdown",
   "metadata": {},
   "source": [
    "## Approach 3: One-pass Hash Table\n",
    "It turns out we can do it in one-pass. While we iterate and inserting elements into the table, we also look back to check if current element's complement already exists in the table. If it exists, we have found a solution and return immediately.\n",
    "\n"
   ]
  },
  {
   "cell_type": "markdown",
   "metadata": {},
   "source": [
    "### Complexity Analysis:\n",
    "\n",
    "Time complexity : O(n)O(n). We traverse the list containing nn elements only once. Each look up in the table costs only O(1)O(1) time.\n",
    "\n",
    "Space complexity : O(n)O(n). The extra space required depends on the number of items stored in the hash table, which stores at most nn elements."
   ]
  },
  {
   "cell_type": "markdown",
   "metadata": {},
   "source": [
    "#### method(1): Store the data of the array as key, and the index of the input array as value. The value is a list in case the array has duplicated numbers."
   ]
  },
  {
   "cell_type": "code",
   "execution_count": 3,
   "metadata": {},
   "outputs": [],
   "source": [
    "class Solution:\n",
    "    def twoSum(self, nums, target):\n",
    "        \"\"\"\n",
    "        :type nums: List[int]\n",
    "        :type target: int\n",
    "        :rtype: List[int]\n",
    "        \"\"\"\n",
    "        my_dict = {}\n",
    "        index1 = 0\n",
    "        index2 = 0\n",
    "        n = len(nums)\n",
    "        for i in range(n):\n",
    "            if nums[i] in my_dict:\n",
    "                my_dict[nums[i]].append(i)\n",
    "            else:\n",
    "                my_dict[nums[i]] = []\n",
    "                my_dict[nums[i]].append(i)\n",
    "            complement = target - nums[i]   \n",
    "            if complement in my_dict:\n",
    "                if my_dict[complement][0] != i:\n",
    "                    index1 = i\n",
    "                    index2 = my_dict[complement][0] \n",
    "                    break\n",
    "        return [index2,index1]"
   ]
  },
  {
   "cell_type": "markdown",
   "metadata": {},
   "source": [
    "#### method(2): Store the data of the array as key, and the index of the input array as value. The value is an integer. If the array has duplicated numbers, just return the indices because there has only one exactly solution. "
   ]
  },
  {
   "cell_type": "code",
   "execution_count": 4,
   "metadata": {},
   "outputs": [],
   "source": [
    "class Solution:\n",
    "    def twoSum(self, nums, target):\n",
    "        \"\"\"\n",
    "        :type nums: List[int]\n",
    "        :type target: int\n",
    "        :rtype: List[int]\n",
    "        \"\"\"\n",
    "        my_dict = {}\n",
    "        index1 = 0\n",
    "        index2 = 0\n",
    "        n = len(nums)\n",
    "        for i in range(n):\n",
    "            complement = target - nums[i]     \n",
    "            if nums[i] in my_dict:\n",
    "                if complement in my_dict:\n",
    "                    return [my_dict[complement],i]\n",
    "            else:\n",
    "                my_dict[nums[i]] = i\n",
    "                if complement in my_dict:\n",
    "                    if my_dict[complement] != i:\n",
    "                        return [my_dict[complement],i]"
   ]
  },
  {
   "cell_type": "markdown",
   "metadata": {},
   "source": [
    "Solution from https://www.youtube.com/watch?v=I58Kw-9tHgY&list=PLV8H0QrJHjOlYEBDz9ftZrZVaeaR1iXjz\n",
    "\n",
    "Two pointers for sorted array, hash map for normal array."
   ]
  },
  {
   "cell_type": "code",
   "execution_count": 1,
   "metadata": {},
   "outputs": [],
   "source": [
    "def twoSum(nums, target):\n",
    "    if not nums:\n",
    "        return []\n",
    "    dic = {}    \n",
    "    n = len(nums)\n",
    "    for i in range(n):        \n",
    "        if target - nums[i] in dic:\n",
    "            return [dic[target - nums[i]], i]\n",
    "        dic[nums[i]] = i        \n"
   ]
  },
  {
   "cell_type": "code",
   "execution_count": null,
   "metadata": {},
   "outputs": [],
   "source": []
  }
 ],
 "metadata": {
  "kernelspec": {
   "display_name": "Python 3",
   "language": "python",
   "name": "python3"
  },
  "language_info": {
   "codemirror_mode": {
    "name": "ipython",
    "version": 3
   },
   "file_extension": ".py",
   "mimetype": "text/x-python",
   "name": "python",
   "nbconvert_exporter": "python",
   "pygments_lexer": "ipython3",
   "version": "3.6.5"
  }
 },
 "nbformat": 4,
 "nbformat_minor": 2
}
