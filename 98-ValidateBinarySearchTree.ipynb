{
 "cells": [
  {
   "cell_type": "markdown",
   "metadata": {},
   "source": [
    "# 98. Validate Binary Search Tree\n",
    "\n",
    "Given a binary tree, determine if it is a valid binary search tree (BST).\n",
    "\n",
    "Assume a BST is defined as follows:\n",
    "\n",
    "The left subtree of a node contains only nodes with keys less than the node's key.\n",
    "The right subtree of a node contains only nodes with keys greater than the node's key.\n",
    "Both the left and right subtrees must also be binary search trees.\n",
    " \n",
    "\n",
    "Example 1:\n",
    "\n",
    "    2\n",
    "   / \\\n",
    "  1   3\n",
    "\n",
    "Input: [2,1,3]\n",
    "Output: true\n",
    "Example 2:\n",
    "\n",
    "    5\n",
    "   / \\\n",
    "  1   4\n",
    "     / \\\n",
    "    3   6\n",
    "\n",
    "Input: [5,1,4,null,null,3,6]\n",
    "Output: false\n",
    "Explanation: The root node's value is 5 but its right child's value is 4."
   ]
  },
  {
   "cell_type": "code",
   "execution_count": 3,
   "metadata": {},
   "outputs": [],
   "source": [
    "class TreeNode:\n",
    "    def __init__(self, x):\n",
    "        self.val = x\n",
    "        self.left = None\n",
    "        self.right = None"
   ]
  },
  {
   "cell_type": "code",
   "execution_count": 2,
   "metadata": {},
   "outputs": [],
   "source": [
    "def isValidBST(root):\n",
    "    if not root:\n",
    "        return True\n",
    "    valid = False\n",
    "    if root.left is None and root.right is None:\n",
    "        valid = True\n",
    "        return valid\n",
    "    \n",
    "    if root.left is not None:\n",
    "        left_max = root.left\n",
    "        while left_max.right is not None:\n",
    "            left_max = left_max.right\n",
    "    if root.right is not None:\n",
    "        right_max = root.right\n",
    "        while right_max.left is not None:\n",
    "            right_max = right_max.left\n",
    "            \n",
    "    if root.left is not None and root.right is not None:  \n",
    "        if left_max.val < root.val and root.val < right_max.val:\n",
    "            if isValidBST(root.left) and isValidBST(root.right):\n",
    "                valid = True\n",
    "                return True\n",
    "            \n",
    "    if root.left is not None and root.right is None:\n",
    "        if left_max.val < root.val:\n",
    "            if isValidBST(root.left):\n",
    "                valid = True\n",
    "                return True      \n",
    "    if root.left is None and root.right is not None:\n",
    "        if root.val < right_max.val:\n",
    "            if isValidBST(root.right):\n",
    "                valid = True\n",
    "                return True   \n",
    "    return valid"
   ]
  },
  {
   "cell_type": "code",
   "execution_count": 3,
   "metadata": {},
   "outputs": [
    {
     "name": "stdout",
     "output_type": "stream",
     "text": [
      "True\n"
     ]
    }
   ],
   "source": [
    "root = TreeNode(2)\n",
    "root.left = TreeNode(1)\n",
    "root.right = TreeNode(3)\n",
    "print(isValidBST(root))"
   ]
  },
  {
   "cell_type": "markdown",
   "metadata": {},
   "source": [
    "This code is clean and neat https://leetcode.com/problems/validate-binary-search-tree/solution/"
   ]
  },
  {
   "cell_type": "code",
   "execution_count": 9,
   "metadata": {},
   "outputs": [],
   "source": [
    "def helper(node, lower = float('-inf'), upper = float('inf')):\n",
    "    if not node:\n",
    "        return True\n",
    "\n",
    "    val = node.val\n",
    "    if val <= lower or val >= upper:\n",
    "        return False\n",
    "    \n",
    "#     if not node.right:\n",
    "#         print(\"Call right helper: None \", val, upper)\n",
    "#     if node.right:\n",
    "#         print(\"Call right helper: \", node.right.val, val, upper)\n",
    "    if not helper(node.right, val, upper):\n",
    "        return False\n",
    "    \n",
    "#     if not node.left:\n",
    "#         print(\"Call left helper: None \", lower, val)\n",
    "#     if node.left:\n",
    "#         print(\"Call left helper: \", node.left.val, lower, val)\n",
    "    if not helper(node.left, lower, val):\n",
    "        return False\n",
    "    return True\n",
    "\n",
    "def isValidBST(root):\n",
    "    return helper(root)"
   ]
  },
  {
   "cell_type": "code",
   "execution_count": 10,
   "metadata": {},
   "outputs": [
    {
     "name": "stdout",
     "output_type": "stream",
     "text": [
      "Call right helper:  6 5 inf\n",
      "Call right helper:  7 6 inf\n",
      "Call right helper: None  7 inf\n",
      "Call left helper: None  6 7\n",
      "Call left helper:  4 5 6\n",
      "False\n"
     ]
    }
   ],
   "source": [
    "root = TreeNode(5)\n",
    "root.left = TreeNode(1)\n",
    "root.right = TreeNode(6)\n",
    "root.right.left = TreeNode(4)\n",
    "root.right.right = TreeNode(7)\n",
    "print(isValidBST(root))"
   ]
  },
  {
   "cell_type": "code",
   "execution_count": 11,
   "metadata": {},
   "outputs": [
    {
     "name": "stdout",
     "output_type": "stream",
     "text": [
      "Call right helper:  6 4 inf\n",
      "Call right helper:  7 6 inf\n",
      "Call right helper: None  7 inf\n",
      "Call left helper: None  6 7\n",
      "Call left helper:  5 4 6\n",
      "Call right helper: None  5 6\n",
      "Call left helper: None  4 5\n",
      "Call left helper:  1 -inf 4\n",
      "Call right helper: None  1 4\n",
      "Call left helper: None  -inf 1\n",
      "True\n"
     ]
    }
   ],
   "source": [
    "root = TreeNode(4)\n",
    "root.left = TreeNode(1)\n",
    "root.right = TreeNode(6)\n",
    "root.right.left = TreeNode(5)\n",
    "root.right.right = TreeNode(7)\n",
    "print(isValidBST(root))"
   ]
  },
  {
   "cell_type": "code",
   "execution_count": null,
   "metadata": {},
   "outputs": [],
   "source": []
  }
 ],
 "metadata": {
  "kernelspec": {
   "display_name": "Python 3",
   "language": "python",
   "name": "python3"
  },
  "language_info": {
   "codemirror_mode": {
    "name": "ipython",
    "version": 3
   },
   "file_extension": ".py",
   "mimetype": "text/x-python",
   "name": "python",
   "nbconvert_exporter": "python",
   "pygments_lexer": "ipython3",
   "version": "3.6.5"
  }
 },
 "nbformat": 4,
 "nbformat_minor": 2
}
