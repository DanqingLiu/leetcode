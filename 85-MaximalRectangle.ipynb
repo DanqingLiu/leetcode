{
 "cells": [
  {
   "cell_type": "markdown",
   "metadata": {},
   "source": [
    "# 85. Maximal Rectangle\n",
    "\n",
    "Given a 2D binary matrix filled with 0's and 1's, find the largest rectangle containing only 1's and return its area.\n",
    "\n",
    "Example:\n",
    "\n",
    "Input:\n",
    "[\n",
    "  [\"1\",\"0\",\"1\",\"0\",\"0\"],\n",
    "  [\"1\",\"0\",\"1\",\"1\",\"1\"],\n",
    "  [\"1\",\"1\",\"1\",\"1\",\"1\"],\n",
    "  [\"1\",\"0\",\"0\",\"1\",\"0\"]\n",
    "]\n",
    "Output: 6"
   ]
  },
  {
   "cell_type": "code",
   "execution_count": null,
   "metadata": {},
   "outputs": [],
   "source": [
    "def dfsfindRec(matrix, i , j, visited):\n",
    "    \n",
    "    return area\n",
    "\n",
    "def maximalRectangle(matrix):\n",
    "    m = len(matrix)\n",
    "    n = len(matrix[0])\n",
    "    \n",
    "    visited = [[0 for x in range(n)] for y in range(m)]\n",
    "    maximal = 0\n",
    "    for i in range(m):\n",
    "        for j in range(n):\n",
    "            if matrix[i][j]==0:\n",
    "                visited[i][j] = 1\n",
    "            elif visited[i][j] == 0 and matrix[i][j]==1:\n",
    "                area = dfsfindRec(matrix, i , j, visited)\n",
    "                if area > maximal:\n",
    "                    maximal = area\n",
    "    return maximal"
   ]
  },
  {
   "cell_type": "markdown",
   "metadata": {},
   "source": [
    "### Largest Rectangular Area in a Histogram\n",
    "https://www.geeksforgeeks.org/maximum-size-rectangle-binary-sub-matrix-1s/\n",
    "\n",
    "https://www.geeksforgeeks.org/largest-rectangle-under-histogram/\n",
    "\n",
    "***https://www.geeksforgeeks.org/maximum-size-sub-matrix-with-all-1s-in-a-binary-matrix/"
   ]
  },
  {
   "cell_type": "code",
   "execution_count": 43,
   "metadata": {},
   "outputs": [],
   "source": [
    "def getMaxArea(hist):\n",
    "    stack = []\n",
    "    largest = 0\n",
    "    for i in range(len(hist)):\n",
    "#         print(i, stack)\n",
    "        if not stack or hist[i]>=hist[stack[-1]]:\n",
    "            stack.append(i)\n",
    "        else:\n",
    "            while stack and hist[i]<hist[stack[-1]]:\n",
    "                tp = stack.pop()                \n",
    "                if stack:\n",
    "                    area = hist[tp] * (i-stack[-1]-1)\n",
    "                else:                    \n",
    "                    area = hist[tp] * i\n",
    "#                 print(area)\n",
    "                if area > largest:\n",
    "                    largest = area\n",
    "            stack.append(i)\n",
    "            \n",
    "    if stack:\n",
    "         while stack:\n",
    "            tp = stack.pop()\n",
    "            if stack:\n",
    "                area = hist[tp] * (i-stack[-1])\n",
    "            else:\n",
    "                area = hist[tp] * (i+1)\n",
    "#             print('--', area)\n",
    "            if area > largest:\n",
    "                largest = area       \n",
    "    return largest\n",
    "\n",
    "def maximalRectangle(matrix):\n",
    "    m = len(matrix)\n",
    "    n = len(matrix[0])\n",
    "    \n",
    "    hist =[[0 for x in range(n)] for y in range(m)]    \n",
    "    hist[0] = [int(s) for s in matrix[0]]\n",
    "    \n",
    "    maximal = getMaxArea(hist[0])\n",
    "    for i in range(1, m):\n",
    "        for j in range(n):\n",
    "            if matrix[i][j]==\"0\":\n",
    "                hist[i][j] = 0\n",
    "            else:\n",
    "                hist[i][j] = int(matrix[i][j])+hist[i-1][j]\n",
    "        print(hist[i])\n",
    "        largest = getMaxArea(hist[i])\n",
    "        if largest > maximal:\n",
    "            maximal = largest\n",
    "    return maximal"
   ]
  },
  {
   "cell_type": "code",
   "execution_count": 44,
   "metadata": {},
   "outputs": [
    {
     "name": "stdout",
     "output_type": "stream",
     "text": [
      "12\n",
      "[2, 0, 2, 1, 1]\n",
      "[3, 1, 3, 2, 2]\n",
      "[4, 0, 0, 3, 0]\n",
      "6\n"
     ]
    }
   ],
   "source": [
    "hist = [6, 2, 5, 4, 5, 1, 6]\n",
    "print(getMaxArea(hist))\n",
    "matrix = [ [\"1\",\"0\",\"1\",\"0\",\"0\"], [\"1\",\"0\",\"1\",\"1\",\"1\"], [\"1\",\"1\",\"1\",\"1\",\"1\"], [\"1\",\"0\",\"0\",\"1\",\"0\"] ]\n",
    "print(maximalRectangle(matrix))"
   ]
  },
  {
   "cell_type": "code",
   "execution_count": null,
   "metadata": {},
   "outputs": [],
   "source": []
  }
 ],
 "metadata": {
  "kernelspec": {
   "display_name": "Python 3",
   "language": "python",
   "name": "python3"
  },
  "language_info": {
   "codemirror_mode": {
    "name": "ipython",
    "version": 3
   },
   "file_extension": ".py",
   "mimetype": "text/x-python",
   "name": "python",
   "nbconvert_exporter": "python",
   "pygments_lexer": "ipython3",
   "version": "3.6.5"
  }
 },
 "nbformat": 4,
 "nbformat_minor": 2
}
