{
 "cells": [
  {
   "cell_type": "markdown",
   "metadata": {},
   "source": [
    "# 1186. Maximum Subarray Sum with One Deletion\n",
    "\n",
    "Given an array of integers, return the maximum sum for a non-empty subarray (contiguous elements) with at most one element deletion. In other words, you want to choose a subarray and optionally delete one element from it so that there is still at least one element left and the sum of the remaining elements is maximum possible.\n",
    "\n",
    "Note that the subarray needs to be non-empty after deleting one element.\n",
    "\n",
    " \n",
    "\n",
    "Example 1:\n",
    "\n",
    "Input: arr = [1,-2,0,3]\n",
    "Output: 4\n",
    "Explanation: Because we can choose [1, -2, 0, 3] and drop -2, thus the subarray [1, 0, 3] becomes the maximum value.\n",
    "Example 2:\n",
    "\n",
    "Input: arr = [1,-2,-2,3]\n",
    "Output: 3\n",
    "Explanation: We just choose [3] and it's the maximum sum.\n",
    "Example 3:\n",
    "\n",
    "Input: arr = [-1,-1,-1,-1]\n",
    "Output: -1\n",
    "Explanation: The final subarray needs to be non-empty. You can't choose [-1] and delete -1 from it, then get an empty subarray to make the sum equals to 0.\n",
    " \n",
    "\n",
    "Constraints:\n",
    "\n",
    "1 <= arr.length <= 10^5\n",
    "-10^4 <= arr[i] <= 10^4"
   ]
  },
  {
   "cell_type": "code",
   "execution_count": 2,
   "metadata": {},
   "outputs": [],
   "source": [
    "## Time limit exceeded\n",
    "def maxSum(arr):# max sum without delete an element\n",
    "    r = arr[0]\n",
    "    imax = arr[0]\n",
    "    for i in range(1, len(arr)):\n",
    "        imax = max(arr[i], imax+arr[i])\n",
    "        r = max(r, imax)\n",
    "    return r\n",
    "\n",
    "def maximumSum(arr):\n",
    "    negs = []\n",
    "    for i in range(len(arr)):\n",
    "        if arr[i] < 0:\n",
    "            negs.append(i)\n",
    "\n",
    "    if not negs:\n",
    "        return maxSum(arr)\n",
    "\n",
    "    max_sub = -10**4\n",
    "    for neg in negs:\n",
    "        arr_cp = arr[:]\n",
    "        arr_cp.pop(neg)\n",
    "        if not arr_cp:\n",
    "            return arr[neg]\n",
    "        imax = maxSum(arr_cp)\n",
    "        if imax > max_sub:\n",
    "            max_sub = imax\n",
    "    return max_sub"
   ]
  },
  {
   "cell_type": "markdown",
   "metadata": {},
   "source": [
    "### Solution from \n",
    "\n",
    "https://www.geeksforgeeks.org/maximum-sum-subarray-removing-one-element/"
   ]
  },
  {
   "cell_type": "code",
   "execution_count": 11,
   "metadata": {},
   "outputs": [],
   "source": [
    "def maximumSum(arr):\n",
    "    n = len(arr)\n",
    "    if n==1:\n",
    "        return arr[0]\n",
    "    \n",
    "    fw = [arr[0]]    \n",
    "    for i in range(1, n):\n",
    "        imax = max(arr[i], fw[i-1]+arr[i])\n",
    "        fw.append(imax)\n",
    "        \n",
    "    bw = [arr[-1]]\n",
    "    for j in range(n-2, -1, -1):\n",
    "        jmax = max(arr[j], bw[0]+arr[j])\n",
    "        bw.insert(0, jmax)  \n",
    "        \n",
    "    del1 = []\n",
    "    for k in range(n):\n",
    "        if k==0:\n",
    "            del1.append(bw[1])\n",
    "        elif k==n-1:\n",
    "            del1.append(fw[n-2])\n",
    "        else:\n",
    "            del1.append(fw[k-1] + bw[k+1])\n",
    "     \n",
    "    return max(max(del1), max(fw))"
   ]
  },
  {
   "cell_type": "code",
   "execution_count": 12,
   "metadata": {},
   "outputs": [
    {
     "name": "stdout",
     "output_type": "stream",
     "text": [
      "51\n"
     ]
    }
   ],
   "source": [
    "arr = [-2, -3, 4, -1, -2, 1, 5, -3]\n",
    "arr = [50,1]\n",
    "print(maximumSum(arr))"
   ]
  },
  {
   "cell_type": "code",
   "execution_count": null,
   "metadata": {},
   "outputs": [],
   "source": []
  }
 ],
 "metadata": {
  "kernelspec": {
   "display_name": "Python 3",
   "language": "python",
   "name": "python3"
  },
  "language_info": {
   "codemirror_mode": {
    "name": "ipython",
    "version": 3
   },
   "file_extension": ".py",
   "mimetype": "text/x-python",
   "name": "python",
   "nbconvert_exporter": "python",
   "pygments_lexer": "ipython3",
   "version": "3.6.5"
  }
 },
 "nbformat": 4,
 "nbformat_minor": 2
}
