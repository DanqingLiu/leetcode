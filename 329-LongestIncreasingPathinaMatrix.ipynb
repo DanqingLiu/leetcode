{
 "cells": [
  {
   "cell_type": "markdown",
   "metadata": {},
   "source": [
    "# 329. Longest Increasing Path in a Matrix\n",
    "\n",
    "Given an integer matrix, find the length of the longest increasing path.\n",
    "\n",
    "From each cell, you can either move to four directions: left, right, up or down. You may NOT move diagonally or move outside of the boundary (i.e. wrap-around is not allowed).\n",
    "\n",
    "Example 1:\n",
    "\n",
    "Input: nums = \n",
    "\n",
    "[\n",
    "  [9,9,4],\n",
    "  \n",
    "  [6,6,8],\n",
    "  \n",
    "  [2,1,1]\n",
    "] \n",
    "\n",
    "Output: 4 \n",
    "Explanation: The longest increasing path is [1, 2, 6, 9].\n",
    "Example 2:\n",
    "\n",
    "Input: nums = \n",
    "\n",
    "[\n",
    "  [3,4,5],\n",
    "  \n",
    "  [3,2,6],\n",
    "  \n",
    "  [2,2,1]\n",
    "] \n",
    "\n",
    "Output: 4 \n",
    "Explanation: The longest increasing path is [3, 4, 5, 6]. Moving diagonally is not allowed."
   ]
  },
  {
   "cell_type": "code",
   "execution_count": 1,
   "metadata": {},
   "outputs": [],
   "source": [
    "def build_graph(matrix):\n",
    "    '''\n",
    "    :type matrix: List[List[int]]\n",
    "    :rtype: Dict{Turple:List[Turple]}\n",
    "    '''\n",
    "    graph = {}\n",
    "    n_row = len(matrix)\n",
    "    n_column = len(matrix[0])\n",
    "    for r in range(n_row):\n",
    "        for c in range(n_column):\n",
    "            graph[r, c] = []\n",
    "    \n",
    "    for r in range(n_row):\n",
    "        for c in range(n_column-1):\n",
    "            if matrix[r][c+1] == matrix[r][c]:\n",
    "                continue\n",
    "            if matrix[r][c+1] > matrix[r][c]:\n",
    "                graph[r, c].append((r,c+1))\n",
    "            else:\n",
    "                graph[r, c+1].append((r, c))\n",
    "    \n",
    "\n",
    "    for c in range(n_column):\n",
    "        for r in range(n_row-1):\n",
    "            if matrix[r+1][c] == matrix[r][c]:\n",
    "                continue\n",
    "            if matrix[r+1][c] > matrix[r][c]:\n",
    "                graph[r, c].append((r+1, c))\n",
    "            else:\n",
    "                graph[r+1, c].append((r,c))\n",
    "    \n",
    "    return graph\n",
    "\n"
   ]
  },
  {
   "cell_type": "code",
   "execution_count": 2,
   "metadata": {},
   "outputs": [
    {
     "name": "stdout",
     "output_type": "stream",
     "text": [
      "{(0, 0): [], (0, 1): [], (0, 2): [(0, 1), (1, 2)], (1, 0): [(0, 0)], (1, 1): [(1, 2), (0, 1)], (1, 2): [], (2, 0): [(1, 0)], (2, 1): [(2, 0), (1, 1)], (2, 2): [(1, 2)]}\n"
     ]
    }
   ],
   "source": [
    "nums = [ [9,9,4], [6,6,8], [2,1,1] ] \n",
    "print(build_graph(nums))"
   ]
  },
  {
   "cell_type": "code",
   "execution_count": 3,
   "metadata": {},
   "outputs": [],
   "source": [
    "##The value of graph[node] are list of next nodes of node.\n",
    "def dfs_trave(node, graph):\n",
    "    '''\n",
    "    :type : \n",
    "    :type : \n",
    "    '''    \n",
    "    length = 0\n",
    "    if not graph[node]: \n",
    "        length = 1\n",
    "    for next_node in graph[node]:\n",
    "        length = max(length, 1 + dfs_trave(next_node, graph))\n",
    "        \n",
    "    return length"
   ]
  },
  {
   "cell_type": "code",
   "execution_count": 7,
   "metadata": {},
   "outputs": [],
   "source": [
    "def longestIncreasingPath(matrix):\n",
    "    if matrix == []:\n",
    "        return 0\n",
    "    graph = build_graph(matrix)\n",
    "    longestlen = 0\n",
    "    for node in graph:\n",
    "        longestlen = max(longestlen, dfs_trave(node, graph))      \n",
    "           \n",
    "    return longestlen"
   ]
  },
  {
   "cell_type": "code",
   "execution_count": 15,
   "metadata": {},
   "outputs": [
    {
     "name": "stdout",
     "output_type": "stream",
     "text": [
      "0\n"
     ]
    }
   ],
   "source": [
    "# nums = [[ 1, 2, 3, 4 ], [ 2, 2, 3, 4 ], [ 3, 2, 3, 4 ], [ 4, 5, 6, 7 ]]\n",
    "# nums = [[1,2],[3,4]]\n",
    "nums = [[]]\n",
    "print(longestIncreasingPath(nums))"
   ]
  },
  {
   "cell_type": "code",
   "execution_count": 12,
   "metadata": {},
   "outputs": [],
   "source": [
    "# ##Above code has time limit exceeded for this matrix. \n",
    "# nums = [[0,1,2,3,4,5,6,7,8,9],[19,18,17,16,15,14,13,12,11,10],[20,21,22,23,24,25,26,27,28,29],[39,38,37,36,35,34,33,32,31,30],[40,41,42,43,44,45,46,47,48,49],[59,58,57,56,55,54,53,52,51,50],[60,61,62,63,64,65,66,67,68,69],[79,78,77,76,75,74,73,72,71,70],[80,81,82,83,84,85,86,87,88,89],[99,98,97,96,95,94,93,92,91,90],[100,101,102,103,104,105,106,107,108,109],[119,118,117,116,115,114,113,112,111,110],[120,121,122,123,124,125,126,127,128,129],[139,138,137,136,135,134,133,132,131,130],[0,0,0,0,0,0,0,0,0,0]]\n",
    "# print(longestIncreasingPath(nums))"
   ]
  },
  {
   "cell_type": "markdown",
   "metadata": {},
   "source": [
    "## Store the node which has already visited and length is already caculated, refer to\n",
    "http://www.zrzahid.com/longest-increasing-path-in-a-matrix/"
   ]
  },
  {
   "cell_type": "code",
   "execution_count": 19,
   "metadata": {},
   "outputs": [],
   "source": [
    "def issafe(matrix, r, c):\n",
    "    if r >= len(matrix) or r < 0 or c >= len(matrix[0]) or c < 0:\n",
    "        return False\n",
    "    return True"
   ]
  },
  {
   "cell_type": "code",
   "execution_count": 67,
   "metadata": {},
   "outputs": [],
   "source": [
    "def walk(matrix, i ,j, dp):\n",
    "    direction = [[1,0],[-1,0],[0,1],[0,-1]]\n",
    "    if dp[i][j] > 0:\n",
    "        return dp[i][j]\n",
    "    \n",
    "    maxlen = 1\n",
    "    for d in range(len(direction)):\n",
    "        r = i + direction[d][0]\n",
    "        c = j + direction[d][1]\n",
    "        if not issafe(matrix, r, c) or matrix[r][c] <= matrix[i][j]:\n",
    "            continue\n",
    "        maxlen = max(maxlen, 1 + walk(matrix, r, c, dp))\n",
    "        \n",
    "    dp[i][j] = maxlen\n",
    "    return maxlen"
   ]
  },
  {
   "cell_type": "code",
   "execution_count": 70,
   "metadata": {},
   "outputs": [],
   "source": [
    "def longestIncreasingPath(matrix):\n",
    "    if matrix == []:\n",
    "        return 0\n",
    "    row = len(matrix)\n",
    "    column = len(matrix[0])\n",
    "    dp = []\n",
    "    for i in range(row):\n",
    "        dp.append([])\n",
    "        for j in range(column):\n",
    "            dp[i].append(0)\n",
    "    \n",
    "    for i in range(row):\n",
    "        for j in range(column):    \n",
    "            walk(matrix, i ,j, dp)      \n",
    "    \n",
    "#     print(dp)\n",
    "    longestlen = 0\n",
    "    for i in range(row):\n",
    "        for j in range(column):\n",
    "            longestlen = max(longestlen, dp[i][j])\n",
    "            \n",
    "    return longestlen"
   ]
  },
  {
   "cell_type": "code",
   "execution_count": 71,
   "metadata": {},
   "outputs": [
    {
     "name": "stdout",
     "output_type": "stream",
     "text": [
      "7\n"
     ]
    }
   ],
   "source": [
    "nums = [[ 1, 2, 3, 4 ], [ 2, 2, 3, 4 ], [ 3, 2, 3, 4 ], [ 4, 5, 6, 7 ]]\n",
    "# nums = [[1,2],[3,4]]\n",
    "# nums = [[]]\n",
    "print(longestIncreasingPath(nums))"
   ]
  },
  {
   "cell_type": "code",
   "execution_count": 72,
   "metadata": {},
   "outputs": [
    {
     "name": "stdout",
     "output_type": "stream",
     "text": [
      "140\n"
     ]
    }
   ],
   "source": [
    "nums = [[0,1,2,3,4,5,6,7,8,9],[19,18,17,16,15,14,13,12,11,10],[20,21,22,23,24,25,26,27,28,29],[39,38,37,36,35,34,33,32,31,30],[40,41,42,43,44,45,46,47,48,49],[59,58,57,56,55,54,53,52,51,50],[60,61,62,63,64,65,66,67,68,69],[79,78,77,76,75,74,73,72,71,70],[80,81,82,83,84,85,86,87,88,89],[99,98,97,96,95,94,93,92,91,90],[100,101,102,103,104,105,106,107,108,109],[119,118,117,116,115,114,113,112,111,110],[120,121,122,123,124,125,126,127,128,129],[139,138,137,136,135,134,133,132,131,130],[0,0,0,0,0,0,0,0,0,0]]\n",
    "print(longestIncreasingPath(nums))"
   ]
  },
  {
   "cell_type": "code",
   "execution_count": null,
   "metadata": {},
   "outputs": [],
   "source": []
  }
 ],
 "metadata": {
  "kernelspec": {
   "display_name": "Python 3",
   "language": "python",
   "name": "python3"
  },
  "language_info": {
   "codemirror_mode": {
    "name": "ipython",
    "version": 3
   },
   "file_extension": ".py",
   "mimetype": "text/x-python",
   "name": "python",
   "nbconvert_exporter": "python",
   "pygments_lexer": "ipython3",
   "version": "3.6.5"
  }
 },
 "nbformat": 4,
 "nbformat_minor": 2
}
