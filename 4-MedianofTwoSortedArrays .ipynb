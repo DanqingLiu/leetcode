{
 "cells": [
  {
   "cell_type": "markdown",
   "metadata": {},
   "source": [
    "# 4. Median of Two Sorted Arrays\n",
    "\n",
    "There are two sorted arrays nums1 and nums2 of size m and n respectively.\n",
    "\n",
    "Find the median of the two sorted arrays. The overall run time complexity should be O(log (m+n)).\n",
    "\n",
    "You may assume nums1 and nums2 cannot be both empty.\n",
    "\n",
    "Example 1:\n",
    "\n",
    "nums1 = [1, 3]\n",
    "nums2 = [2]\n",
    "\n",
    "The median is 2.0\n",
    "Example 2:\n",
    "\n",
    "nums1 = [1, 2]\n",
    "nums2 = [3, 4]\n",
    "\n",
    "The median is (2 + 3)/2 = 2.5"
   ]
  },
  {
   "cell_type": "markdown",
   "metadata": {},
   "source": [
    "## Solution refer to https://leetcode.com/problems/median-of-two-sorted-arrays/solution/"
   ]
  },
  {
   "cell_type": "code",
   "execution_count": null,
   "metadata": {},
   "outputs": [],
   "source": [
    "\n",
    "def findMedianSortedArrays(nums1,nums2):\n",
    "    if len(nums1) <= len(nums2):\n",
    "        A = nums1\n",
    "        B = nums2\n",
    "    else:\n",
    "        A = nums2\n",
    "        B = nums1\n",
    "    m = len(A)\n",
    "    n = len(B)\n",
    "\n",
    "    imin = 0\n",
    "    imax = m\n",
    "\n",
    "    def findi(imin, imax):\n",
    "        i = int((imin+imax)/2)\n",
    "        j = int((m+n)/2) - i\n",
    "        print('imin, imax: ', imin,imax)\n",
    "        print('i, j: ', i,j)\n",
    "        if (j==n and B[j-1] <= A[i]):\n",
    "            return i,j\n",
    "        elif (i==m and A[i-1] <= B[j]):\n",
    "            return i,j\n",
    "        elif (i==0 or A[i-1] <= B[j]) and (j==0 or B[j-1] <= A[i]):\n",
    "            return i,j\n",
    "        elif (i>0 and j <n and A[i-1]>B[j]):                \n",
    "            findi(imin, i-1)\n",
    "        elif (j>0 and i<m and B[j-1] > A[i]):\n",
    "            findi(i+1, imax)\n",
    "\n",
    "    i, j = findi(imin, imax)\n",
    "#     print(i,j)\n",
    "#     print(max(A[i-1], B[j-1]))\n",
    "#     print(min(A[i], B[j]))\n",
    "    if (m+n)%2 == 0:\n",
    "        return ( max(A[i-1], B[j-1]) + min(A[i], B[j]) )/2\n",
    "    else:\n",
    "        return float(max(A[i-1], B[j-1]))\n",
    "    \n"
   ]
  },
  {
   "cell_type": "markdown",
   "metadata": {},
   "source": [
    "## Issue: the first test input has Nontype error while the second doesn't have. why?"
   ]
  },
  {
   "cell_type": "code",
   "execution_count": 5,
   "metadata": {},
   "outputs": [
    {
     "name": "stdout",
     "output_type": "stream",
     "text": [
      "imin, imax:  0 2\n",
      "i, j:  1 1\n",
      "imin, imax:  2 2\n",
      "i, j:  2 0\n"
     ]
    },
    {
     "ename": "TypeError",
     "evalue": "'NoneType' object is not iterable",
     "output_type": "error",
     "traceback": [
      "\u001b[1;31m---------------------------------------------------------------------------\u001b[0m",
      "\u001b[1;31mTypeError\u001b[0m                                 Traceback (most recent call last)",
      "\u001b[1;32m<ipython-input-5-9bf0c1d58ab8>\u001b[0m in \u001b[0;36m<module>\u001b[1;34m()\u001b[0m\n\u001b[0;32m      1\u001b[0m \u001b[0mnums1\u001b[0m \u001b[1;33m=\u001b[0m \u001b[1;33m[\u001b[0m\u001b[1;36m1\u001b[0m\u001b[1;33m,\u001b[0m\u001b[1;36m2\u001b[0m\u001b[1;33m]\u001b[0m\u001b[1;33m\u001b[0m\u001b[0m\n\u001b[0;32m      2\u001b[0m \u001b[0mnums2\u001b[0m \u001b[1;33m=\u001b[0m \u001b[1;33m[\u001b[0m\u001b[1;36m3\u001b[0m\u001b[1;33m,\u001b[0m\u001b[1;36m4\u001b[0m\u001b[1;33m]\u001b[0m\u001b[1;33m\u001b[0m\u001b[0m\n\u001b[1;32m----> 3\u001b[1;33m \u001b[0mfindMedianSortedArrays\u001b[0m\u001b[1;33m(\u001b[0m\u001b[0mnums1\u001b[0m\u001b[1;33m,\u001b[0m\u001b[0mnums2\u001b[0m\u001b[1;33m)\u001b[0m\u001b[1;33m\u001b[0m\u001b[0m\n\u001b[0m",
      "\u001b[1;32m<ipython-input-2-2efe14a384e3>\u001b[0m in \u001b[0;36mfindMedianSortedArrays\u001b[1;34m(nums1, nums2)\u001b[0m\n\u001b[0;32m     29\u001b[0m             \u001b[0mfindi\u001b[0m\u001b[1;33m(\u001b[0m\u001b[0mi\u001b[0m\u001b[1;33m+\u001b[0m\u001b[1;36m1\u001b[0m\u001b[1;33m,\u001b[0m \u001b[0mimax\u001b[0m\u001b[1;33m)\u001b[0m\u001b[1;33m\u001b[0m\u001b[0m\n\u001b[0;32m     30\u001b[0m \u001b[1;33m\u001b[0m\u001b[0m\n\u001b[1;32m---> 31\u001b[1;33m     \u001b[0mi\u001b[0m\u001b[1;33m,\u001b[0m \u001b[0mj\u001b[0m \u001b[1;33m=\u001b[0m \u001b[0mfindi\u001b[0m\u001b[1;33m(\u001b[0m\u001b[0mimin\u001b[0m\u001b[1;33m,\u001b[0m \u001b[0mimax\u001b[0m\u001b[1;33m)\u001b[0m\u001b[1;33m\u001b[0m\u001b[0m\n\u001b[0m\u001b[0;32m     32\u001b[0m     \u001b[0mprint\u001b[0m\u001b[1;33m(\u001b[0m\u001b[0mi\u001b[0m\u001b[1;33m,\u001b[0m\u001b[0mj\u001b[0m\u001b[1;33m)\u001b[0m\u001b[1;33m\u001b[0m\u001b[0m\n\u001b[0;32m     33\u001b[0m     \u001b[0mprint\u001b[0m\u001b[1;33m(\u001b[0m\u001b[0mmax\u001b[0m\u001b[1;33m(\u001b[0m\u001b[0mA\u001b[0m\u001b[1;33m[\u001b[0m\u001b[0mi\u001b[0m\u001b[1;33m-\u001b[0m\u001b[1;36m1\u001b[0m\u001b[1;33m]\u001b[0m\u001b[1;33m,\u001b[0m \u001b[0mB\u001b[0m\u001b[1;33m[\u001b[0m\u001b[0mj\u001b[0m\u001b[1;33m-\u001b[0m\u001b[1;36m1\u001b[0m\u001b[1;33m]\u001b[0m\u001b[1;33m)\u001b[0m\u001b[1;33m)\u001b[0m\u001b[1;33m\u001b[0m\u001b[0m\n",
      "\u001b[1;31mTypeError\u001b[0m: 'NoneType' object is not iterable"
     ]
    }
   ],
   "source": [
    "nums1 = [1,2]\n",
    "nums2 = [3,4]\n",
    "findMedianSortedArrays(nums1,nums2)"
   ]
  },
  {
   "cell_type": "code",
   "execution_count": 6,
   "metadata": {},
   "outputs": [
    {
     "name": "stdout",
     "output_type": "stream",
     "text": [
      "imin, imax:  0 2\n",
      "i, j:  1 2\n",
      "1 2\n",
      "3\n",
      "4\n"
     ]
    },
    {
     "data": {
      "text/plain": [
       "3.5"
      ]
     },
     "execution_count": 6,
     "metadata": {},
     "output_type": "execute_result"
    }
   ],
   "source": [
    "nums1 = [1,2,8,9]\n",
    "nums2 = [3,4]\n",
    "findMedianSortedArrays(nums1,nums2)"
   ]
  },
  {
   "cell_type": "markdown",
   "metadata": {},
   "source": [
    "## Debug: The above error is caused by some findi() recursive functions have no return value. Correct one shows below."
   ]
  },
  {
   "cell_type": "code",
   "execution_count": 7,
   "metadata": {},
   "outputs": [
    {
     "name": "stdout",
     "output_type": "stream",
     "text": [
      "0\n"
     ]
    },
    {
     "data": {
      "text/plain": [
       "3.0"
      ]
     },
     "execution_count": 7,
     "metadata": {},
     "output_type": "execute_result"
    }
   ],
   "source": [
    "def findMedianSortedArrays(nums1,nums2):\n",
    "    if len(nums1) <= len(nums2):\n",
    "        A = nums1\n",
    "        B = nums2\n",
    "    else:\n",
    "        A = nums2\n",
    "        B = nums1\n",
    "    m = len(A)\n",
    "    n = len(B)\n",
    "\n",
    "    ix = 0\n",
    "    iy = m\n",
    "    s = []\n",
    "\n",
    "    def findi(imin, imax):\n",
    "        i = int((imin+imax)/2)\n",
    "        j = int((m+n)/2) - i        \n",
    "        if (j==n and B[j-1] <= A[i]):          \n",
    "            print('j==n')\n",
    "            return i,j\n",
    "        elif (i==m and A[i-1] <= B[j]):           \n",
    "            print('i==m')\n",
    "            return i,j\n",
    "        elif (i==0 or A[i-1] <= B[j]) and (j==0 or B[j-1] <= A[i]):       \n",
    "            print('0')\n",
    "            return i,j\n",
    "        elif (i>0 and j <n and A[i-1]>B[j]):                \n",
    "            q,k = findi(imin, i-1)\n",
    "            print('A[i-1]>B[j]')           \n",
    "            return q,k\n",
    "        elif (j>0 and i<m and B[j-1] > A[i]):           \n",
    "            q,k = findi(i+1, imax)\n",
    "            print('B[j-1] > A[i]')\n",
    "            return q,k          \n",
    "\n",
    "    i,j = findi(ix, iy)\n",
    "    \n",
    "    if (m+n)%2 == 0:\n",
    "        return ( max(A[i-1], B[j-1]) + min(A[i], B[j]) )/2\n",
    "    else:\n",
    "        return float(max(A[i-1], B[j-1]))\n",
    "      \n",
    "nums1 = [1,2,5,0,9]\n",
    "nums2 = [3,4]\n",
    "findMedianSortedArrays(nums1,nums2)      "
   ]
  },
  {
   "cell_type": "markdown",
   "metadata": {},
   "source": [
    "## The correct one that using while loop istead of recurrsive"
   ]
  },
  {
   "cell_type": "code",
   "execution_count": 9,
   "metadata": {},
   "outputs": [],
   "source": [
    "\n",
    "def findMedianSortedArrays(nums1, nums2):\n",
    "    if len(nums1) <= len(nums2):\n",
    "        A = nums1\n",
    "        B = nums2\n",
    "    else:\n",
    "        A = nums2\n",
    "        B = nums1\n",
    "    m = len(A)\n",
    "    n = len(B)\n",
    "\n",
    "    imin = 0\n",
    "    imax = m\n",
    "    if m==0:\n",
    "        if n%2==0:\n",
    "            return (B[int(n/2)] + B[int(n/2)-1])/2\n",
    "        else:\n",
    "            return float(B[int(n/2)])\n",
    "\n",
    "    ##Find i and j that devide two arrays to two parts    \n",
    "    while(imin <= imax):\n",
    "        i = int((imin+imax)/2)\n",
    "        j = int((m+n+1)/2) - i\n",
    "        # print('imin, imax: ', imin,imax)\n",
    "\n",
    "        if (i==0 or j==n or A[i-1] <= B[j]) and (j==0 or i==m or B[j-1] <= A[i]):\n",
    "            print('i, j: ', i,j)\n",
    "            break\n",
    "        elif (i>0 and j <n and A[i-1]>B[j]):                \n",
    "            imax = i-1\n",
    "        elif (j>0 and i<m and B[j-1] > A[i]):\n",
    "            imin = i+1      \n",
    "\n",
    "    ##Get the median by i and j values\n",
    "    if (m+n)%2 == 0:\n",
    "        if i==0 and j<n:\n",
    "            return ( B[j-1] + min(A[i], B[j]) )/2\n",
    "        elif j==0 and i<m:\n",
    "            return ( A[i-1] + min(A[i], B[j]) )/2\n",
    "        elif j==n:\n",
    "            if i==0:\n",
    "                return ( B[j-1] + A[i] )/2\n",
    "            else:\n",
    "                return ( max(A[i-1], B[j-1]) + A[i] )/2\n",
    "        elif i==m:\n",
    "            if j==0:\n",
    "                return ( A[i-1] + B[j] )/2\n",
    "            else:\n",
    "                return ( max(A[i-1], B[j-1]) + B[j] )/2\n",
    "        else:\n",
    "            return ( max(A[i-1], B[j-1]) + min(A[i], B[j]) )/2\n",
    "    else:\n",
    "        if i==0:\n",
    "            return float(B[j-1])\n",
    "        elif j==0:\n",
    "            return float(A[i-1])\n",
    "        else:\n",
    "            return float(max(A[i-1], B[j-1]))"
   ]
  },
  {
   "cell_type": "code",
   "execution_count": null,
   "metadata": {},
   "outputs": [],
   "source": []
  }
 ],
 "metadata": {
  "kernelspec": {
   "display_name": "Python 3",
   "language": "python",
   "name": "python3"
  },
  "language_info": {
   "codemirror_mode": {
    "name": "ipython",
    "version": 3
   },
   "file_extension": ".py",
   "mimetype": "text/x-python",
   "name": "python",
   "nbconvert_exporter": "python",
   "pygments_lexer": "ipython3",
   "version": "3.6.5"
  }
 },
 "nbformat": 4,
 "nbformat_minor": 2
}
