{
 "cells": [
  {
   "cell_type": "markdown",
   "metadata": {},
   "source": [
    "# 239. Sliding Window Maximum\n",
    "\n",
    "Given an array nums, there is a sliding window of size k which is moving from the very left of the array to the very right. You can only see the k numbers in the window. Each time the sliding window moves right by one position. Return the max sliding window.\n",
    "\n",
    "Example:\n",
    "\n",
    "Input: nums = [1,3,-1,-3,5,3,6,7], and k = 3\n",
    "Output: [3,3,5,5,6,7] \n",
    "Explanation: \n",
    "\n",
    "Window position                Max\n",
    "---------------               -----\n",
    "[1  3  -1] -3  5  3  6  7       3\n",
    " 1 [3  -1  -3] 5  3  6  7       3\n",
    " 1  3 [-1  -3  5] 3  6  7       5\n",
    " 1  3  -1 [-3  5  3] 6  7       5\n",
    " 1  3  -1  -3 [5  3  6] 7       6\n",
    " 1  3  -1  -3  5 [3  6  7]      7\n",
    "Note: \n",
    "You may assume k is always valid, 1 ≤ k ≤ input array's size for non-empty array.\n",
    "\n",
    "Follow up:\n",
    "Could you solve it in linear time?"
   ]
  },
  {
   "cell_type": "code",
   "execution_count": 1,
   "metadata": {},
   "outputs": [],
   "source": [
    "## Run time o(k*(n-k+1))\n",
    "def maxSlidingWindow(nums, k):\n",
    "    result = []\n",
    "    n = len(nums)\n",
    "    for i in range(n-k+1):\n",
    "        result.append(max(nums[i:i+k]))\n",
    "    return result"
   ]
  },
  {
   "cell_type": "markdown",
   "metadata": {},
   "source": [
    "#### Optimize above code."
   ]
  },
  {
   "cell_type": "code",
   "execution_count": 14,
   "metadata": {},
   "outputs": [],
   "source": [
    "def findmax(knums):\n",
    "    maxk = knums[0]\n",
    "    index = 0\n",
    "    for i in range(len(knums)):\n",
    "        if knums[i] > maxk:\n",
    "            maxk = knums[i]\n",
    "            index = i\n",
    "    return maxk, index\n",
    "\n",
    "def maxSlidingWindow(nums, k):\n",
    "    if not nums:\n",
    "        return []\n",
    "    result = []\n",
    "    n = len(nums)\n",
    "    maxk, index = findmax(nums[:k])\n",
    "    result.append(maxk)\n",
    "    for i in range(n-k):\n",
    "        if nums[i+k] > maxk:\n",
    "            maxk = nums[i+k]\n",
    "            index = i+k\n",
    "        else:\n",
    "            if i==index:\n",
    "                maxk, knums_i = findmax(nums[i+1:i+k+1])\n",
    "                index = knums_i + i + 1\n",
    "        result.append(maxk)\n",
    "\n",
    "    return result"
   ]
  },
  {
   "cell_type": "code",
   "execution_count": 15,
   "metadata": {},
   "outputs": [
    {
     "name": "stdout",
     "output_type": "stream",
     "text": [
      "1\n",
      "2\n",
      "6\n",
      "[10, 10, 9, 2]\n"
     ]
    }
   ],
   "source": [
    "nums = [1,3,-1,-3,5,3,6,7]\n",
    "k = 3\n",
    "nums = [9,10,9,-7,-4,-8,2,-6]\n",
    "k = 5\n",
    "print(maxSlidingWindow(nums, k))"
   ]
  },
  {
   "cell_type": "code",
   "execution_count": null,
   "metadata": {},
   "outputs": [],
   "source": []
  }
 ],
 "metadata": {
  "kernelspec": {
   "display_name": "Python 3",
   "language": "python",
   "name": "python3"
  },
  "language_info": {
   "codemirror_mode": {
    "name": "ipython",
    "version": 3
   },
   "file_extension": ".py",
   "mimetype": "text/x-python",
   "name": "python",
   "nbconvert_exporter": "python",
   "pygments_lexer": "ipython3",
   "version": "3.6.5"
  }
 },
 "nbformat": 4,
 "nbformat_minor": 2
}
